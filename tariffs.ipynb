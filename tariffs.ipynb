{
 "cells": [
  {
   "cell_type": "markdown",
   "metadata": {},
   "source": [
    "# Определение перспективного тарифа для телеком-компании\n",
    "\n",
    "***ОПИСАНИЕ ПРОЕКТА***\n",
    "\n",
    "Клиентам предлагают два тарифных плана: «Смарт» и «Ультра». Чтобы скорректировать рекламный бюджет, коммерческий департамент хочет понять, какой тариф приносит больше денег.\n",
    "\n",
    "Нам предстоит сделать предварительный анализ тарифов на небольшой выборке клиентов. В нашем распоряжении данные 500 пользователей «Мегалайна»: кто они, откуда, каким тарифом пользуются, сколько звонков и сообщений каждый отправил за 2018 год. Нужно проанализировать поведение клиентов и сделать вывод — какой тариф лучше.\n",
    "\n",
    "Описание тарифов\n",
    "\n",
    "1)Тариф «Смарт»\n",
    "\n",
    "-Ежемесячная плата: 550 рублей \n",
    "\n",
    "-Включено 500 минут разговора, 50 сообщений и 15 Гб интернет-трафика\n",
    "\n",
    "-Стоимость услуг сверх тарифного пакета:\n",
    "\n",
    "-минута разговора: 3 рубля\n",
    "\n",
    "-сообщение: 3 рубля\n",
    "\n",
    "-1 Гб интернет-трафика: 200 рублей\n",
    "\n",
    "2)Тариф «Ультра»\n",
    "\n",
    "-Ежемесячная плата: 1950 рублей\n",
    "\n",
    "-Включено 3000 минут разговора, 1000 сообщений и 30 Гб интернет-трафика\n",
    "\n",
    "-Стоимость услуг сверх тарифного пакета:\n",
    "\n",
    "-минута разговора: 1 рубль\n",
    "\n",
    "-сообщение: 1 рубль\n",
    "\n",
    "-1 Гб интернет-трафика: 150 рублей\n"
   ]
  },
  {
   "cell_type": "markdown",
   "metadata": {},
   "source": [
    "Путь к файлам:\n",
    "\n",
    "/datasets/calls.csv \n",
    "\n",
    "/datasets/internet.csv\n",
    "\n",
    "/datasets/messages.csv \n",
    "\n",
    "/datasets/tariffs.csv \n",
    "\n",
    "/datasets/users.csv\n",
    "\n"
   ]
  },
  {
   "cell_type": "code",
   "execution_count": 1,
   "metadata": {},
   "outputs": [],
   "source": [
    "import pandas as pd\n",
    "import numpy as np\n",
    "import matplotlib.pyplot as plt\n",
    "from datetime import datetime\n",
    "from scipy import stats as st"
   ]
  },
  {
   "cell_type": "code",
   "execution_count": 2,
   "metadata": {},
   "outputs": [],
   "source": [
    "pd.set_option('display.max_columns', None)\n",
    "pd.options.display.float_format = '{:,.2f}'.format"
   ]
  },
  {
   "cell_type": "code",
   "execution_count": 3,
   "metadata": {},
   "outputs": [],
   "source": [
    "#загрузим датасуты\n",
    "calls = pd.read_csv('/datasets/calls.csv')\n",
    "internet = pd.read_csv('/datasets/internet.csv',index_col=0)\n",
    "messages = pd.read_csv('/datasets/messages.csv')\n",
    "tariffs = pd.read_csv('/datasets/tariffs.csv')\n",
    "users = pd.read_csv('/datasets/users.csv')"
   ]
  },
  {
   "cell_type": "code",
   "execution_count": 4,
   "metadata": {},
   "outputs": [
    {
     "data": {
      "text/html": [
       "<div>\n",
       "<style scoped>\n",
       "    .dataframe tbody tr th:only-of-type {\n",
       "        vertical-align: middle;\n",
       "    }\n",
       "\n",
       "    .dataframe tbody tr th {\n",
       "        vertical-align: top;\n",
       "    }\n",
       "\n",
       "    .dataframe thead th {\n",
       "        text-align: right;\n",
       "    }\n",
       "</style>\n",
       "<table border=\"1\" class=\"dataframe\">\n",
       "  <thead>\n",
       "    <tr style=\"text-align: right;\">\n",
       "      <th></th>\n",
       "      <th>id</th>\n",
       "      <th>call_date</th>\n",
       "      <th>duration</th>\n",
       "      <th>user_id</th>\n",
       "    </tr>\n",
       "  </thead>\n",
       "  <tbody>\n",
       "    <tr>\n",
       "      <th>0</th>\n",
       "      <td>1000_0</td>\n",
       "      <td>2018-07-25</td>\n",
       "      <td>0.00</td>\n",
       "      <td>1000</td>\n",
       "    </tr>\n",
       "    <tr>\n",
       "      <th>1</th>\n",
       "      <td>1000_1</td>\n",
       "      <td>2018-08-17</td>\n",
       "      <td>0.00</td>\n",
       "      <td>1000</td>\n",
       "    </tr>\n",
       "    <tr>\n",
       "      <th>2</th>\n",
       "      <td>1000_2</td>\n",
       "      <td>2018-06-11</td>\n",
       "      <td>2.85</td>\n",
       "      <td>1000</td>\n",
       "    </tr>\n",
       "    <tr>\n",
       "      <th>3</th>\n",
       "      <td>1000_3</td>\n",
       "      <td>2018-09-21</td>\n",
       "      <td>13.80</td>\n",
       "      <td>1000</td>\n",
       "    </tr>\n",
       "    <tr>\n",
       "      <th>4</th>\n",
       "      <td>1000_4</td>\n",
       "      <td>2018-12-15</td>\n",
       "      <td>5.18</td>\n",
       "      <td>1000</td>\n",
       "    </tr>\n",
       "    <tr>\n",
       "      <th>5</th>\n",
       "      <td>1000_5</td>\n",
       "      <td>2018-11-02</td>\n",
       "      <td>0.00</td>\n",
       "      <td>1000</td>\n",
       "    </tr>\n",
       "    <tr>\n",
       "      <th>6</th>\n",
       "      <td>1000_6</td>\n",
       "      <td>2018-10-18</td>\n",
       "      <td>0.00</td>\n",
       "      <td>1000</td>\n",
       "    </tr>\n",
       "    <tr>\n",
       "      <th>7</th>\n",
       "      <td>1000_7</td>\n",
       "      <td>2018-08-22</td>\n",
       "      <td>18.31</td>\n",
       "      <td>1000</td>\n",
       "    </tr>\n",
       "    <tr>\n",
       "      <th>8</th>\n",
       "      <td>1000_8</td>\n",
       "      <td>2018-09-15</td>\n",
       "      <td>18.44</td>\n",
       "      <td>1000</td>\n",
       "    </tr>\n",
       "    <tr>\n",
       "      <th>9</th>\n",
       "      <td>1000_9</td>\n",
       "      <td>2018-08-15</td>\n",
       "      <td>0.00</td>\n",
       "      <td>1000</td>\n",
       "    </tr>\n",
       "  </tbody>\n",
       "</table>\n",
       "</div>"
      ],
      "text/plain": [
       "       id   call_date  duration  user_id\n",
       "0  1000_0  2018-07-25      0.00     1000\n",
       "1  1000_1  2018-08-17      0.00     1000\n",
       "2  1000_2  2018-06-11      2.85     1000\n",
       "3  1000_3  2018-09-21     13.80     1000\n",
       "4  1000_4  2018-12-15      5.18     1000\n",
       "5  1000_5  2018-11-02      0.00     1000\n",
       "6  1000_6  2018-10-18      0.00     1000\n",
       "7  1000_7  2018-08-22     18.31     1000\n",
       "8  1000_8  2018-09-15     18.44     1000\n",
       "9  1000_9  2018-08-15      0.00     1000"
      ]
     },
     "execution_count": 4,
     "metadata": {},
     "output_type": "execute_result"
    }
   ],
   "source": [
    "#посмотрим таблицу со звонками\n",
    "calls.head(10)"
   ]
  },
  {
   "cell_type": "code",
   "execution_count": 5,
   "metadata": {},
   "outputs": [
    {
     "data": {
      "text/html": [
       "<div>\n",
       "<style scoped>\n",
       "    .dataframe tbody tr th:only-of-type {\n",
       "        vertical-align: middle;\n",
       "    }\n",
       "\n",
       "    .dataframe tbody tr th {\n",
       "        vertical-align: top;\n",
       "    }\n",
       "\n",
       "    .dataframe thead th {\n",
       "        text-align: right;\n",
       "    }\n",
       "</style>\n",
       "<table border=\"1\" class=\"dataframe\">\n",
       "  <thead>\n",
       "    <tr style=\"text-align: right;\">\n",
       "      <th></th>\n",
       "      <th>duration</th>\n",
       "      <th>user_id</th>\n",
       "    </tr>\n",
       "  </thead>\n",
       "  <tbody>\n",
       "    <tr>\n",
       "      <th>count</th>\n",
       "      <td>202,607.00</td>\n",
       "      <td>202,607.00</td>\n",
       "    </tr>\n",
       "    <tr>\n",
       "      <th>mean</th>\n",
       "      <td>6.76</td>\n",
       "      <td>1,253.94</td>\n",
       "    </tr>\n",
       "    <tr>\n",
       "      <th>std</th>\n",
       "      <td>5.84</td>\n",
       "      <td>144.72</td>\n",
       "    </tr>\n",
       "    <tr>\n",
       "      <th>min</th>\n",
       "      <td>0.00</td>\n",
       "      <td>1,000.00</td>\n",
       "    </tr>\n",
       "    <tr>\n",
       "      <th>25%</th>\n",
       "      <td>1.30</td>\n",
       "      <td>1,126.00</td>\n",
       "    </tr>\n",
       "    <tr>\n",
       "      <th>50%</th>\n",
       "      <td>6.00</td>\n",
       "      <td>1,260.00</td>\n",
       "    </tr>\n",
       "    <tr>\n",
       "      <th>75%</th>\n",
       "      <td>10.70</td>\n",
       "      <td>1,379.00</td>\n",
       "    </tr>\n",
       "    <tr>\n",
       "      <th>max</th>\n",
       "      <td>38.00</td>\n",
       "      <td>1,499.00</td>\n",
       "    </tr>\n",
       "  </tbody>\n",
       "</table>\n",
       "</div>"
      ],
      "text/plain": [
       "        duration    user_id\n",
       "count 202,607.00 202,607.00\n",
       "mean        6.76   1,253.94\n",
       "std         5.84     144.72\n",
       "min         0.00   1,000.00\n",
       "25%         1.30   1,126.00\n",
       "50%         6.00   1,260.00\n",
       "75%        10.70   1,379.00\n",
       "max        38.00   1,499.00"
      ]
     },
     "execution_count": 5,
     "metadata": {},
     "output_type": "execute_result"
    }
   ],
   "source": [
    "calls.describe()"
   ]
  },
  {
   "cell_type": "code",
   "execution_count": 6,
   "metadata": {},
   "outputs": [
    {
     "name": "stdout",
     "output_type": "stream",
     "text": [
      "<class 'pandas.core.frame.DataFrame'>\n",
      "RangeIndex: 202607 entries, 0 to 202606\n",
      "Data columns (total 4 columns):\n",
      " #   Column     Non-Null Count   Dtype  \n",
      "---  ------     --------------   -----  \n",
      " 0   id         202607 non-null  object \n",
      " 1   call_date  202607 non-null  object \n",
      " 2   duration   202607 non-null  float64\n",
      " 3   user_id    202607 non-null  int64  \n",
      "dtypes: float64(1), int64(1), object(2)\n",
      "memory usage: 6.2+ MB\n"
     ]
    }
   ],
   "source": [
    "calls.info()"
   ]
  },
  {
   "cell_type": "code",
   "execution_count": 7,
   "metadata": {},
   "outputs": [],
   "source": [
    "#округлим значения\n",
    "calls['id'] = calls['id'].astype('int')"
   ]
  },
  {
   "cell_type": "code",
   "execution_count": 8,
   "metadata": {},
   "outputs": [],
   "source": [
    "calls['duration'] = calls['duration'].apply(np.ceil).astype('int')"
   ]
  },
  {
   "cell_type": "code",
   "execution_count": 9,
   "metadata": {},
   "outputs": [],
   "source": [
    "#поменяем формат даты\n",
    "calls['call_date'] = pd.to_datetime(calls['call_date'], format='%Y-%m-%d')"
   ]
  },
  {
   "cell_type": "code",
   "execution_count": 10,
   "metadata": {},
   "outputs": [
    {
     "data": {
      "text/html": [
       "<div>\n",
       "<style scoped>\n",
       "    .dataframe tbody tr th:only-of-type {\n",
       "        vertical-align: middle;\n",
       "    }\n",
       "\n",
       "    .dataframe tbody tr th {\n",
       "        vertical-align: top;\n",
       "    }\n",
       "\n",
       "    .dataframe thead th {\n",
       "        text-align: right;\n",
       "    }\n",
       "</style>\n",
       "<table border=\"1\" class=\"dataframe\">\n",
       "  <thead>\n",
       "    <tr style=\"text-align: right;\">\n",
       "      <th></th>\n",
       "      <th>id</th>\n",
       "      <th>call_date</th>\n",
       "      <th>duration</th>\n",
       "      <th>user_id</th>\n",
       "    </tr>\n",
       "  </thead>\n",
       "  <tbody>\n",
       "    <tr>\n",
       "      <th>0</th>\n",
       "      <td>10000</td>\n",
       "      <td>2018-07-25</td>\n",
       "      <td>0</td>\n",
       "      <td>1000</td>\n",
       "    </tr>\n",
       "    <tr>\n",
       "      <th>1</th>\n",
       "      <td>10001</td>\n",
       "      <td>2018-08-17</td>\n",
       "      <td>0</td>\n",
       "      <td>1000</td>\n",
       "    </tr>\n",
       "    <tr>\n",
       "      <th>2</th>\n",
       "      <td>10002</td>\n",
       "      <td>2018-06-11</td>\n",
       "      <td>3</td>\n",
       "      <td>1000</td>\n",
       "    </tr>\n",
       "    <tr>\n",
       "      <th>3</th>\n",
       "      <td>10003</td>\n",
       "      <td>2018-09-21</td>\n",
       "      <td>14</td>\n",
       "      <td>1000</td>\n",
       "    </tr>\n",
       "    <tr>\n",
       "      <th>4</th>\n",
       "      <td>10004</td>\n",
       "      <td>2018-12-15</td>\n",
       "      <td>6</td>\n",
       "      <td>1000</td>\n",
       "    </tr>\n",
       "  </tbody>\n",
       "</table>\n",
       "</div>"
      ],
      "text/plain": [
       "      id  call_date  duration  user_id\n",
       "0  10000 2018-07-25         0     1000\n",
       "1  10001 2018-08-17         0     1000\n",
       "2  10002 2018-06-11         3     1000\n",
       "3  10003 2018-09-21        14     1000\n",
       "4  10004 2018-12-15         6     1000"
      ]
     },
     "execution_count": 10,
     "metadata": {},
     "output_type": "execute_result"
    }
   ],
   "source": [
    "calls.head()"
   ]
  },
  {
   "cell_type": "markdown",
   "metadata": {},
   "source": [
    "Есть нулевые звонки, но возможно, что это пропущенные, удалять их не будем"
   ]
  },
  {
   "cell_type": "code",
   "execution_count": 11,
   "metadata": {},
   "outputs": [
    {
     "data": {
      "text/html": [
       "<div>\n",
       "<style scoped>\n",
       "    .dataframe tbody tr th:only-of-type {\n",
       "        vertical-align: middle;\n",
       "    }\n",
       "\n",
       "    .dataframe tbody tr th {\n",
       "        vertical-align: top;\n",
       "    }\n",
       "\n",
       "    .dataframe thead th {\n",
       "        text-align: right;\n",
       "    }\n",
       "</style>\n",
       "<table border=\"1\" class=\"dataframe\">\n",
       "  <thead>\n",
       "    <tr style=\"text-align: right;\">\n",
       "      <th></th>\n",
       "      <th>id</th>\n",
       "      <th>mb_used</th>\n",
       "      <th>session_date</th>\n",
       "      <th>user_id</th>\n",
       "    </tr>\n",
       "  </thead>\n",
       "  <tbody>\n",
       "    <tr>\n",
       "      <th>0</th>\n",
       "      <td>1000_0</td>\n",
       "      <td>112.95</td>\n",
       "      <td>2018-11-25</td>\n",
       "      <td>1000</td>\n",
       "    </tr>\n",
       "    <tr>\n",
       "      <th>1</th>\n",
       "      <td>1000_1</td>\n",
       "      <td>1,052.81</td>\n",
       "      <td>2018-09-07</td>\n",
       "      <td>1000</td>\n",
       "    </tr>\n",
       "    <tr>\n",
       "      <th>2</th>\n",
       "      <td>1000_2</td>\n",
       "      <td>1,197.26</td>\n",
       "      <td>2018-06-25</td>\n",
       "      <td>1000</td>\n",
       "    </tr>\n",
       "    <tr>\n",
       "      <th>3</th>\n",
       "      <td>1000_3</td>\n",
       "      <td>550.27</td>\n",
       "      <td>2018-08-22</td>\n",
       "      <td>1000</td>\n",
       "    </tr>\n",
       "    <tr>\n",
       "      <th>4</th>\n",
       "      <td>1000_4</td>\n",
       "      <td>302.56</td>\n",
       "      <td>2018-09-24</td>\n",
       "      <td>1000</td>\n",
       "    </tr>\n",
       "  </tbody>\n",
       "</table>\n",
       "</div>"
      ],
      "text/plain": [
       "       id  mb_used session_date  user_id\n",
       "0  1000_0   112.95   2018-11-25     1000\n",
       "1  1000_1 1,052.81   2018-09-07     1000\n",
       "2  1000_2 1,197.26   2018-06-25     1000\n",
       "3  1000_3   550.27   2018-08-22     1000\n",
       "4  1000_4   302.56   2018-09-24     1000"
      ]
     },
     "execution_count": 11,
     "metadata": {},
     "output_type": "execute_result"
    }
   ],
   "source": [
    "#посмотрим таблицу с интернетом\n",
    "internet.head()"
   ]
  },
  {
   "cell_type": "code",
   "execution_count": 12,
   "metadata": {},
   "outputs": [
    {
     "data": {
      "text/html": [
       "<div>\n",
       "<style scoped>\n",
       "    .dataframe tbody tr th:only-of-type {\n",
       "        vertical-align: middle;\n",
       "    }\n",
       "\n",
       "    .dataframe tbody tr th {\n",
       "        vertical-align: top;\n",
       "    }\n",
       "\n",
       "    .dataframe thead th {\n",
       "        text-align: right;\n",
       "    }\n",
       "</style>\n",
       "<table border=\"1\" class=\"dataframe\">\n",
       "  <thead>\n",
       "    <tr style=\"text-align: right;\">\n",
       "      <th></th>\n",
       "      <th>mb_used</th>\n",
       "      <th>user_id</th>\n",
       "    </tr>\n",
       "  </thead>\n",
       "  <tbody>\n",
       "    <tr>\n",
       "      <th>count</th>\n",
       "      <td>149,396.00</td>\n",
       "      <td>149,396.00</td>\n",
       "    </tr>\n",
       "    <tr>\n",
       "      <th>mean</th>\n",
       "      <td>370.19</td>\n",
       "      <td>1,252.10</td>\n",
       "    </tr>\n",
       "    <tr>\n",
       "      <th>std</th>\n",
       "      <td>278.30</td>\n",
       "      <td>144.05</td>\n",
       "    </tr>\n",
       "    <tr>\n",
       "      <th>min</th>\n",
       "      <td>0.00</td>\n",
       "      <td>1,000.00</td>\n",
       "    </tr>\n",
       "    <tr>\n",
       "      <th>25%</th>\n",
       "      <td>138.19</td>\n",
       "      <td>1,130.00</td>\n",
       "    </tr>\n",
       "    <tr>\n",
       "      <th>50%</th>\n",
       "      <td>348.01</td>\n",
       "      <td>1,251.00</td>\n",
       "    </tr>\n",
       "    <tr>\n",
       "      <th>75%</th>\n",
       "      <td>559.55</td>\n",
       "      <td>1,380.00</td>\n",
       "    </tr>\n",
       "    <tr>\n",
       "      <th>max</th>\n",
       "      <td>1,724.83</td>\n",
       "      <td>1,499.00</td>\n",
       "    </tr>\n",
       "  </tbody>\n",
       "</table>\n",
       "</div>"
      ],
      "text/plain": [
       "         mb_used    user_id\n",
       "count 149,396.00 149,396.00\n",
       "mean      370.19   1,252.10\n",
       "std       278.30     144.05\n",
       "min         0.00   1,000.00\n",
       "25%       138.19   1,130.00\n",
       "50%       348.01   1,251.00\n",
       "75%       559.55   1,380.00\n",
       "max     1,724.83   1,499.00"
      ]
     },
     "execution_count": 12,
     "metadata": {},
     "output_type": "execute_result"
    }
   ],
   "source": [
    "internet.describe()"
   ]
  },
  {
   "cell_type": "code",
   "execution_count": 13,
   "metadata": {},
   "outputs": [
    {
     "name": "stdout",
     "output_type": "stream",
     "text": [
      "<class 'pandas.core.frame.DataFrame'>\n",
      "Int64Index: 149396 entries, 0 to 149395\n",
      "Data columns (total 4 columns):\n",
      " #   Column        Non-Null Count   Dtype  \n",
      "---  ------        --------------   -----  \n",
      " 0   id            149396 non-null  object \n",
      " 1   mb_used       149396 non-null  float64\n",
      " 2   session_date  149396 non-null  object \n",
      " 3   user_id       149396 non-null  int64  \n",
      "dtypes: float64(1), int64(1), object(2)\n",
      "memory usage: 5.7+ MB\n"
     ]
    }
   ],
   "source": [
    "internet.info()"
   ]
  },
  {
   "cell_type": "code",
   "execution_count": 14,
   "metadata": {},
   "outputs": [],
   "source": [
    "#округлим до целых\n",
    "internet['session_date'] = pd.to_datetime(internet['session_date'], format='%Y-%m-%d')"
   ]
  },
  {
   "cell_type": "code",
   "execution_count": 15,
   "metadata": {},
   "outputs": [],
   "source": [
    "internet['id'] = internet['id'].astype('int')"
   ]
  },
  {
   "cell_type": "code",
   "execution_count": 16,
   "metadata": {},
   "outputs": [
    {
     "data": {
      "text/html": [
       "<div>\n",
       "<style scoped>\n",
       "    .dataframe tbody tr th:only-of-type {\n",
       "        vertical-align: middle;\n",
       "    }\n",
       "\n",
       "    .dataframe tbody tr th {\n",
       "        vertical-align: top;\n",
       "    }\n",
       "\n",
       "    .dataframe thead th {\n",
       "        text-align: right;\n",
       "    }\n",
       "</style>\n",
       "<table border=\"1\" class=\"dataframe\">\n",
       "  <thead>\n",
       "    <tr style=\"text-align: right;\">\n",
       "      <th></th>\n",
       "      <th>id</th>\n",
       "      <th>mb_used</th>\n",
       "      <th>session_date</th>\n",
       "      <th>user_id</th>\n",
       "    </tr>\n",
       "  </thead>\n",
       "  <tbody>\n",
       "    <tr>\n",
       "      <th>0</th>\n",
       "      <td>10000</td>\n",
       "      <td>112.95</td>\n",
       "      <td>2018-11-25</td>\n",
       "      <td>1000</td>\n",
       "    </tr>\n",
       "    <tr>\n",
       "      <th>1</th>\n",
       "      <td>10001</td>\n",
       "      <td>1,052.81</td>\n",
       "      <td>2018-09-07</td>\n",
       "      <td>1000</td>\n",
       "    </tr>\n",
       "    <tr>\n",
       "      <th>2</th>\n",
       "      <td>10002</td>\n",
       "      <td>1,197.26</td>\n",
       "      <td>2018-06-25</td>\n",
       "      <td>1000</td>\n",
       "    </tr>\n",
       "    <tr>\n",
       "      <th>3</th>\n",
       "      <td>10003</td>\n",
       "      <td>550.27</td>\n",
       "      <td>2018-08-22</td>\n",
       "      <td>1000</td>\n",
       "    </tr>\n",
       "    <tr>\n",
       "      <th>4</th>\n",
       "      <td>10004</td>\n",
       "      <td>302.56</td>\n",
       "      <td>2018-09-24</td>\n",
       "      <td>1000</td>\n",
       "    </tr>\n",
       "  </tbody>\n",
       "</table>\n",
       "</div>"
      ],
      "text/plain": [
       "      id  mb_used session_date  user_id\n",
       "0  10000   112.95   2018-11-25     1000\n",
       "1  10001 1,052.81   2018-09-07     1000\n",
       "2  10002 1,197.26   2018-06-25     1000\n",
       "3  10003   550.27   2018-08-22     1000\n",
       "4  10004   302.56   2018-09-24     1000"
      ]
     },
     "execution_count": 16,
     "metadata": {},
     "output_type": "execute_result"
    }
   ],
   "source": [
    "internet.head()"
   ]
  },
  {
   "cell_type": "code",
   "execution_count": 17,
   "metadata": {},
   "outputs": [
    {
     "data": {
      "text/html": [
       "<div>\n",
       "<style scoped>\n",
       "    .dataframe tbody tr th:only-of-type {\n",
       "        vertical-align: middle;\n",
       "    }\n",
       "\n",
       "    .dataframe tbody tr th {\n",
       "        vertical-align: top;\n",
       "    }\n",
       "\n",
       "    .dataframe thead th {\n",
       "        text-align: right;\n",
       "    }\n",
       "</style>\n",
       "<table border=\"1\" class=\"dataframe\">\n",
       "  <thead>\n",
       "    <tr style=\"text-align: right;\">\n",
       "      <th></th>\n",
       "      <th>id</th>\n",
       "      <th>message_date</th>\n",
       "      <th>user_id</th>\n",
       "    </tr>\n",
       "  </thead>\n",
       "  <tbody>\n",
       "    <tr>\n",
       "      <th>0</th>\n",
       "      <td>1000_0</td>\n",
       "      <td>2018-06-27</td>\n",
       "      <td>1000</td>\n",
       "    </tr>\n",
       "    <tr>\n",
       "      <th>1</th>\n",
       "      <td>1000_1</td>\n",
       "      <td>2018-10-08</td>\n",
       "      <td>1000</td>\n",
       "    </tr>\n",
       "    <tr>\n",
       "      <th>2</th>\n",
       "      <td>1000_2</td>\n",
       "      <td>2018-08-04</td>\n",
       "      <td>1000</td>\n",
       "    </tr>\n",
       "    <tr>\n",
       "      <th>3</th>\n",
       "      <td>1000_3</td>\n",
       "      <td>2018-06-16</td>\n",
       "      <td>1000</td>\n",
       "    </tr>\n",
       "    <tr>\n",
       "      <th>4</th>\n",
       "      <td>1000_4</td>\n",
       "      <td>2018-12-05</td>\n",
       "      <td>1000</td>\n",
       "    </tr>\n",
       "  </tbody>\n",
       "</table>\n",
       "</div>"
      ],
      "text/plain": [
       "       id message_date  user_id\n",
       "0  1000_0   2018-06-27     1000\n",
       "1  1000_1   2018-10-08     1000\n",
       "2  1000_2   2018-08-04     1000\n",
       "3  1000_3   2018-06-16     1000\n",
       "4  1000_4   2018-12-05     1000"
      ]
     },
     "execution_count": 17,
     "metadata": {},
     "output_type": "execute_result"
    }
   ],
   "source": [
    "#посмотрим таблицу с сообщениями\n",
    "messages.head()"
   ]
  },
  {
   "cell_type": "code",
   "execution_count": 18,
   "metadata": {},
   "outputs": [
    {
     "data": {
      "text/html": [
       "<div>\n",
       "<style scoped>\n",
       "    .dataframe tbody tr th:only-of-type {\n",
       "        vertical-align: middle;\n",
       "    }\n",
       "\n",
       "    .dataframe tbody tr th {\n",
       "        vertical-align: top;\n",
       "    }\n",
       "\n",
       "    .dataframe thead th {\n",
       "        text-align: right;\n",
       "    }\n",
       "</style>\n",
       "<table border=\"1\" class=\"dataframe\">\n",
       "  <thead>\n",
       "    <tr style=\"text-align: right;\">\n",
       "      <th></th>\n",
       "      <th>user_id</th>\n",
       "    </tr>\n",
       "  </thead>\n",
       "  <tbody>\n",
       "    <tr>\n",
       "      <th>count</th>\n",
       "      <td>123,036.00</td>\n",
       "    </tr>\n",
       "    <tr>\n",
       "      <th>mean</th>\n",
       "      <td>1,256.99</td>\n",
       "    </tr>\n",
       "    <tr>\n",
       "      <th>std</th>\n",
       "      <td>143.52</td>\n",
       "    </tr>\n",
       "    <tr>\n",
       "      <th>min</th>\n",
       "      <td>1,000.00</td>\n",
       "    </tr>\n",
       "    <tr>\n",
       "      <th>25%</th>\n",
       "      <td>1,134.00</td>\n",
       "    </tr>\n",
       "    <tr>\n",
       "      <th>50%</th>\n",
       "      <td>1,271.00</td>\n",
       "    </tr>\n",
       "    <tr>\n",
       "      <th>75%</th>\n",
       "      <td>1,381.00</td>\n",
       "    </tr>\n",
       "    <tr>\n",
       "      <th>max</th>\n",
       "      <td>1,499.00</td>\n",
       "    </tr>\n",
       "  </tbody>\n",
       "</table>\n",
       "</div>"
      ],
      "text/plain": [
       "         user_id\n",
       "count 123,036.00\n",
       "mean    1,256.99\n",
       "std       143.52\n",
       "min     1,000.00\n",
       "25%     1,134.00\n",
       "50%     1,271.00\n",
       "75%     1,381.00\n",
       "max     1,499.00"
      ]
     },
     "execution_count": 18,
     "metadata": {},
     "output_type": "execute_result"
    }
   ],
   "source": [
    "messages.describe()"
   ]
  },
  {
   "cell_type": "code",
   "execution_count": 19,
   "metadata": {},
   "outputs": [
    {
     "name": "stdout",
     "output_type": "stream",
     "text": [
      "<class 'pandas.core.frame.DataFrame'>\n",
      "RangeIndex: 123036 entries, 0 to 123035\n",
      "Data columns (total 3 columns):\n",
      " #   Column        Non-Null Count   Dtype \n",
      "---  ------        --------------   ----- \n",
      " 0   id            123036 non-null  object\n",
      " 1   message_date  123036 non-null  object\n",
      " 2   user_id       123036 non-null  int64 \n",
      "dtypes: int64(1), object(2)\n",
      "memory usage: 2.8+ MB\n"
     ]
    }
   ],
   "source": [
    "messages.info()"
   ]
  },
  {
   "cell_type": "code",
   "execution_count": 20,
   "metadata": {},
   "outputs": [],
   "source": [
    "messages['id'] = messages['id'].astype('int')"
   ]
  },
  {
   "cell_type": "code",
   "execution_count": 21,
   "metadata": {},
   "outputs": [],
   "source": [
    "messages['message_date'] = pd.to_datetime(messages['message_date'], format='%Y-%m-%d')"
   ]
  },
  {
   "cell_type": "code",
   "execution_count": 22,
   "metadata": {},
   "outputs": [
    {
     "data": {
      "text/html": [
       "<div>\n",
       "<style scoped>\n",
       "    .dataframe tbody tr th:only-of-type {\n",
       "        vertical-align: middle;\n",
       "    }\n",
       "\n",
       "    .dataframe tbody tr th {\n",
       "        vertical-align: top;\n",
       "    }\n",
       "\n",
       "    .dataframe thead th {\n",
       "        text-align: right;\n",
       "    }\n",
       "</style>\n",
       "<table border=\"1\" class=\"dataframe\">\n",
       "  <thead>\n",
       "    <tr style=\"text-align: right;\">\n",
       "      <th></th>\n",
       "      <th>id</th>\n",
       "      <th>message_date</th>\n",
       "      <th>user_id</th>\n",
       "    </tr>\n",
       "  </thead>\n",
       "  <tbody>\n",
       "    <tr>\n",
       "      <th>0</th>\n",
       "      <td>10000</td>\n",
       "      <td>2018-06-27</td>\n",
       "      <td>1000</td>\n",
       "    </tr>\n",
       "    <tr>\n",
       "      <th>1</th>\n",
       "      <td>10001</td>\n",
       "      <td>2018-10-08</td>\n",
       "      <td>1000</td>\n",
       "    </tr>\n",
       "    <tr>\n",
       "      <th>2</th>\n",
       "      <td>10002</td>\n",
       "      <td>2018-08-04</td>\n",
       "      <td>1000</td>\n",
       "    </tr>\n",
       "    <tr>\n",
       "      <th>3</th>\n",
       "      <td>10003</td>\n",
       "      <td>2018-06-16</td>\n",
       "      <td>1000</td>\n",
       "    </tr>\n",
       "    <tr>\n",
       "      <th>4</th>\n",
       "      <td>10004</td>\n",
       "      <td>2018-12-05</td>\n",
       "      <td>1000</td>\n",
       "    </tr>\n",
       "  </tbody>\n",
       "</table>\n",
       "</div>"
      ],
      "text/plain": [
       "      id message_date  user_id\n",
       "0  10000   2018-06-27     1000\n",
       "1  10001   2018-10-08     1000\n",
       "2  10002   2018-08-04     1000\n",
       "3  10003   2018-06-16     1000\n",
       "4  10004   2018-12-05     1000"
      ]
     },
     "execution_count": 22,
     "metadata": {},
     "output_type": "execute_result"
    }
   ],
   "source": [
    "messages.head()"
   ]
  },
  {
   "cell_type": "code",
   "execution_count": 23,
   "metadata": {},
   "outputs": [
    {
     "data": {
      "text/html": [
       "<div>\n",
       "<style scoped>\n",
       "    .dataframe tbody tr th:only-of-type {\n",
       "        vertical-align: middle;\n",
       "    }\n",
       "\n",
       "    .dataframe tbody tr th {\n",
       "        vertical-align: top;\n",
       "    }\n",
       "\n",
       "    .dataframe thead th {\n",
       "        text-align: right;\n",
       "    }\n",
       "</style>\n",
       "<table border=\"1\" class=\"dataframe\">\n",
       "  <thead>\n",
       "    <tr style=\"text-align: right;\">\n",
       "      <th></th>\n",
       "      <th>messages_included</th>\n",
       "      <th>mb_per_month_included</th>\n",
       "      <th>minutes_included</th>\n",
       "      <th>rub_monthly_fee</th>\n",
       "      <th>rub_per_gb</th>\n",
       "      <th>rub_per_message</th>\n",
       "      <th>rub_per_minute</th>\n",
       "      <th>tariff_name</th>\n",
       "    </tr>\n",
       "  </thead>\n",
       "  <tbody>\n",
       "    <tr>\n",
       "      <th>0</th>\n",
       "      <td>50</td>\n",
       "      <td>15360</td>\n",
       "      <td>500</td>\n",
       "      <td>550</td>\n",
       "      <td>200</td>\n",
       "      <td>3</td>\n",
       "      <td>3</td>\n",
       "      <td>smart</td>\n",
       "    </tr>\n",
       "    <tr>\n",
       "      <th>1</th>\n",
       "      <td>1000</td>\n",
       "      <td>30720</td>\n",
       "      <td>3000</td>\n",
       "      <td>1950</td>\n",
       "      <td>150</td>\n",
       "      <td>1</td>\n",
       "      <td>1</td>\n",
       "      <td>ultra</td>\n",
       "    </tr>\n",
       "  </tbody>\n",
       "</table>\n",
       "</div>"
      ],
      "text/plain": [
       "   messages_included  mb_per_month_included  minutes_included  \\\n",
       "0                 50                  15360               500   \n",
       "1               1000                  30720              3000   \n",
       "\n",
       "   rub_monthly_fee  rub_per_gb  rub_per_message  rub_per_minute tariff_name  \n",
       "0              550         200                3               3       smart  \n",
       "1             1950         150                1               1       ultra  "
      ]
     },
     "execution_count": 23,
     "metadata": {},
     "output_type": "execute_result"
    }
   ],
   "source": [
    "#посмотрим таблицу с тарифами\n",
    "tariffs.head()"
   ]
  },
  {
   "cell_type": "code",
   "execution_count": 24,
   "metadata": {},
   "outputs": [
    {
     "data": {
      "text/html": [
       "<div>\n",
       "<style scoped>\n",
       "    .dataframe tbody tr th:only-of-type {\n",
       "        vertical-align: middle;\n",
       "    }\n",
       "\n",
       "    .dataframe tbody tr th {\n",
       "        vertical-align: top;\n",
       "    }\n",
       "\n",
       "    .dataframe thead th {\n",
       "        text-align: right;\n",
       "    }\n",
       "</style>\n",
       "<table border=\"1\" class=\"dataframe\">\n",
       "  <thead>\n",
       "    <tr style=\"text-align: right;\">\n",
       "      <th></th>\n",
       "      <th>messages_included</th>\n",
       "      <th>mb_per_month_included</th>\n",
       "      <th>minutes_included</th>\n",
       "      <th>rub_monthly_fee</th>\n",
       "      <th>rub_per_gb</th>\n",
       "      <th>rub_per_message</th>\n",
       "      <th>rub_per_minute</th>\n",
       "    </tr>\n",
       "  </thead>\n",
       "  <tbody>\n",
       "    <tr>\n",
       "      <th>count</th>\n",
       "      <td>2.00</td>\n",
       "      <td>2.00</td>\n",
       "      <td>2.00</td>\n",
       "      <td>2.00</td>\n",
       "      <td>2.00</td>\n",
       "      <td>2.00</td>\n",
       "      <td>2.00</td>\n",
       "    </tr>\n",
       "    <tr>\n",
       "      <th>mean</th>\n",
       "      <td>525.00</td>\n",
       "      <td>23,040.00</td>\n",
       "      <td>1,750.00</td>\n",
       "      <td>1,250.00</td>\n",
       "      <td>175.00</td>\n",
       "      <td>2.00</td>\n",
       "      <td>2.00</td>\n",
       "    </tr>\n",
       "    <tr>\n",
       "      <th>std</th>\n",
       "      <td>671.75</td>\n",
       "      <td>10,861.16</td>\n",
       "      <td>1,767.77</td>\n",
       "      <td>989.95</td>\n",
       "      <td>35.36</td>\n",
       "      <td>1.41</td>\n",
       "      <td>1.41</td>\n",
       "    </tr>\n",
       "    <tr>\n",
       "      <th>min</th>\n",
       "      <td>50.00</td>\n",
       "      <td>15,360.00</td>\n",
       "      <td>500.00</td>\n",
       "      <td>550.00</td>\n",
       "      <td>150.00</td>\n",
       "      <td>1.00</td>\n",
       "      <td>1.00</td>\n",
       "    </tr>\n",
       "    <tr>\n",
       "      <th>25%</th>\n",
       "      <td>287.50</td>\n",
       "      <td>19,200.00</td>\n",
       "      <td>1,125.00</td>\n",
       "      <td>900.00</td>\n",
       "      <td>162.50</td>\n",
       "      <td>1.50</td>\n",
       "      <td>1.50</td>\n",
       "    </tr>\n",
       "    <tr>\n",
       "      <th>50%</th>\n",
       "      <td>525.00</td>\n",
       "      <td>23,040.00</td>\n",
       "      <td>1,750.00</td>\n",
       "      <td>1,250.00</td>\n",
       "      <td>175.00</td>\n",
       "      <td>2.00</td>\n",
       "      <td>2.00</td>\n",
       "    </tr>\n",
       "    <tr>\n",
       "      <th>75%</th>\n",
       "      <td>762.50</td>\n",
       "      <td>26,880.00</td>\n",
       "      <td>2,375.00</td>\n",
       "      <td>1,600.00</td>\n",
       "      <td>187.50</td>\n",
       "      <td>2.50</td>\n",
       "      <td>2.50</td>\n",
       "    </tr>\n",
       "    <tr>\n",
       "      <th>max</th>\n",
       "      <td>1,000.00</td>\n",
       "      <td>30,720.00</td>\n",
       "      <td>3,000.00</td>\n",
       "      <td>1,950.00</td>\n",
       "      <td>200.00</td>\n",
       "      <td>3.00</td>\n",
       "      <td>3.00</td>\n",
       "    </tr>\n",
       "  </tbody>\n",
       "</table>\n",
       "</div>"
      ],
      "text/plain": [
       "       messages_included  mb_per_month_included  minutes_included  \\\n",
       "count               2.00                   2.00              2.00   \n",
       "mean              525.00              23,040.00          1,750.00   \n",
       "std               671.75              10,861.16          1,767.77   \n",
       "min                50.00              15,360.00            500.00   \n",
       "25%               287.50              19,200.00          1,125.00   \n",
       "50%               525.00              23,040.00          1,750.00   \n",
       "75%               762.50              26,880.00          2,375.00   \n",
       "max             1,000.00              30,720.00          3,000.00   \n",
       "\n",
       "       rub_monthly_fee  rub_per_gb  rub_per_message  rub_per_minute  \n",
       "count             2.00        2.00             2.00            2.00  \n",
       "mean          1,250.00      175.00             2.00            2.00  \n",
       "std             989.95       35.36             1.41            1.41  \n",
       "min             550.00      150.00             1.00            1.00  \n",
       "25%             900.00      162.50             1.50            1.50  \n",
       "50%           1,250.00      175.00             2.00            2.00  \n",
       "75%           1,600.00      187.50             2.50            2.50  \n",
       "max           1,950.00      200.00             3.00            3.00  "
      ]
     },
     "execution_count": 24,
     "metadata": {},
     "output_type": "execute_result"
    }
   ],
   "source": [
    "tariffs.describe()"
   ]
  },
  {
   "cell_type": "markdown",
   "metadata": {},
   "source": [
    "В тарифах все в порядке"
   ]
  },
  {
   "cell_type": "code",
   "execution_count": 25,
   "metadata": {},
   "outputs": [
    {
     "data": {
      "text/html": [
       "<div>\n",
       "<style scoped>\n",
       "    .dataframe tbody tr th:only-of-type {\n",
       "        vertical-align: middle;\n",
       "    }\n",
       "\n",
       "    .dataframe tbody tr th {\n",
       "        vertical-align: top;\n",
       "    }\n",
       "\n",
       "    .dataframe thead th {\n",
       "        text-align: right;\n",
       "    }\n",
       "</style>\n",
       "<table border=\"1\" class=\"dataframe\">\n",
       "  <thead>\n",
       "    <tr style=\"text-align: right;\">\n",
       "      <th></th>\n",
       "      <th>user_id</th>\n",
       "      <th>age</th>\n",
       "      <th>churn_date</th>\n",
       "      <th>city</th>\n",
       "      <th>first_name</th>\n",
       "      <th>last_name</th>\n",
       "      <th>reg_date</th>\n",
       "      <th>tariff</th>\n",
       "    </tr>\n",
       "  </thead>\n",
       "  <tbody>\n",
       "    <tr>\n",
       "      <th>0</th>\n",
       "      <td>1000</td>\n",
       "      <td>52</td>\n",
       "      <td>NaN</td>\n",
       "      <td>Краснодар</td>\n",
       "      <td>Рафаил</td>\n",
       "      <td>Верещагин</td>\n",
       "      <td>2018-05-25</td>\n",
       "      <td>ultra</td>\n",
       "    </tr>\n",
       "    <tr>\n",
       "      <th>1</th>\n",
       "      <td>1001</td>\n",
       "      <td>41</td>\n",
       "      <td>NaN</td>\n",
       "      <td>Москва</td>\n",
       "      <td>Иван</td>\n",
       "      <td>Ежов</td>\n",
       "      <td>2018-11-01</td>\n",
       "      <td>smart</td>\n",
       "    </tr>\n",
       "    <tr>\n",
       "      <th>2</th>\n",
       "      <td>1002</td>\n",
       "      <td>59</td>\n",
       "      <td>NaN</td>\n",
       "      <td>Стерлитамак</td>\n",
       "      <td>Евгений</td>\n",
       "      <td>Абрамович</td>\n",
       "      <td>2018-06-17</td>\n",
       "      <td>smart</td>\n",
       "    </tr>\n",
       "    <tr>\n",
       "      <th>3</th>\n",
       "      <td>1003</td>\n",
       "      <td>23</td>\n",
       "      <td>NaN</td>\n",
       "      <td>Москва</td>\n",
       "      <td>Белла</td>\n",
       "      <td>Белякова</td>\n",
       "      <td>2018-08-17</td>\n",
       "      <td>ultra</td>\n",
       "    </tr>\n",
       "    <tr>\n",
       "      <th>4</th>\n",
       "      <td>1004</td>\n",
       "      <td>68</td>\n",
       "      <td>NaN</td>\n",
       "      <td>Новокузнецк</td>\n",
       "      <td>Татьяна</td>\n",
       "      <td>Авдеенко</td>\n",
       "      <td>2018-05-14</td>\n",
       "      <td>ultra</td>\n",
       "    </tr>\n",
       "  </tbody>\n",
       "</table>\n",
       "</div>"
      ],
      "text/plain": [
       "   user_id  age churn_date         city first_name  last_name    reg_date  \\\n",
       "0     1000   52        NaN    Краснодар     Рафаил  Верещагин  2018-05-25   \n",
       "1     1001   41        NaN       Москва       Иван       Ежов  2018-11-01   \n",
       "2     1002   59        NaN  Стерлитамак    Евгений  Абрамович  2018-06-17   \n",
       "3     1003   23        NaN       Москва      Белла   Белякова  2018-08-17   \n",
       "4     1004   68        NaN  Новокузнецк    Татьяна   Авдеенко  2018-05-14   \n",
       "\n",
       "  tariff  \n",
       "0  ultra  \n",
       "1  smart  \n",
       "2  smart  \n",
       "3  ultra  \n",
       "4  ultra  "
      ]
     },
     "execution_count": 25,
     "metadata": {},
     "output_type": "execute_result"
    }
   ],
   "source": [
    "#посморим таблицу с пользователями\n",
    "users.head()"
   ]
  },
  {
   "cell_type": "code",
   "execution_count": 26,
   "metadata": {},
   "outputs": [
    {
     "data": {
      "text/html": [
       "<div>\n",
       "<style scoped>\n",
       "    .dataframe tbody tr th:only-of-type {\n",
       "        vertical-align: middle;\n",
       "    }\n",
       "\n",
       "    .dataframe tbody tr th {\n",
       "        vertical-align: top;\n",
       "    }\n",
       "\n",
       "    .dataframe thead th {\n",
       "        text-align: right;\n",
       "    }\n",
       "</style>\n",
       "<table border=\"1\" class=\"dataframe\">\n",
       "  <thead>\n",
       "    <tr style=\"text-align: right;\">\n",
       "      <th></th>\n",
       "      <th>user_id</th>\n",
       "      <th>age</th>\n",
       "    </tr>\n",
       "  </thead>\n",
       "  <tbody>\n",
       "    <tr>\n",
       "      <th>count</th>\n",
       "      <td>500.00</td>\n",
       "      <td>500.00</td>\n",
       "    </tr>\n",
       "    <tr>\n",
       "      <th>mean</th>\n",
       "      <td>1,249.50</td>\n",
       "      <td>46.59</td>\n",
       "    </tr>\n",
       "    <tr>\n",
       "      <th>std</th>\n",
       "      <td>144.48</td>\n",
       "      <td>16.67</td>\n",
       "    </tr>\n",
       "    <tr>\n",
       "      <th>min</th>\n",
       "      <td>1,000.00</td>\n",
       "      <td>18.00</td>\n",
       "    </tr>\n",
       "    <tr>\n",
       "      <th>25%</th>\n",
       "      <td>1,124.75</td>\n",
       "      <td>32.00</td>\n",
       "    </tr>\n",
       "    <tr>\n",
       "      <th>50%</th>\n",
       "      <td>1,249.50</td>\n",
       "      <td>46.00</td>\n",
       "    </tr>\n",
       "    <tr>\n",
       "      <th>75%</th>\n",
       "      <td>1,374.25</td>\n",
       "      <td>62.00</td>\n",
       "    </tr>\n",
       "    <tr>\n",
       "      <th>max</th>\n",
       "      <td>1,499.00</td>\n",
       "      <td>75.00</td>\n",
       "    </tr>\n",
       "  </tbody>\n",
       "</table>\n",
       "</div>"
      ],
      "text/plain": [
       "       user_id    age\n",
       "count   500.00 500.00\n",
       "mean  1,249.50  46.59\n",
       "std     144.48  16.67\n",
       "min   1,000.00  18.00\n",
       "25%   1,124.75  32.00\n",
       "50%   1,249.50  46.00\n",
       "75%   1,374.25  62.00\n",
       "max   1,499.00  75.00"
      ]
     },
     "execution_count": 26,
     "metadata": {},
     "output_type": "execute_result"
    }
   ],
   "source": [
    "users.describe()"
   ]
  },
  {
   "cell_type": "code",
   "execution_count": 27,
   "metadata": {},
   "outputs": [
    {
     "name": "stdout",
     "output_type": "stream",
     "text": [
      "<class 'pandas.core.frame.DataFrame'>\n",
      "RangeIndex: 500 entries, 0 to 499\n",
      "Data columns (total 8 columns):\n",
      " #   Column      Non-Null Count  Dtype \n",
      "---  ------      --------------  ----- \n",
      " 0   user_id     500 non-null    int64 \n",
      " 1   age         500 non-null    int64 \n",
      " 2   churn_date  38 non-null     object\n",
      " 3   city        500 non-null    object\n",
      " 4   first_name  500 non-null    object\n",
      " 5   last_name   500 non-null    object\n",
      " 6   reg_date    500 non-null    object\n",
      " 7   tariff      500 non-null    object\n",
      "dtypes: int64(2), object(6)\n",
      "memory usage: 31.4+ KB\n"
     ]
    }
   ],
   "source": [
    "users.info()"
   ]
  },
  {
   "cell_type": "markdown",
   "metadata": {},
   "source": [
    "38 ушедших пользователей, приведем даты к датам"
   ]
  },
  {
   "cell_type": "code",
   "execution_count": 28,
   "metadata": {},
   "outputs": [],
   "source": [
    "users['churn_date'] = pd.to_datetime(users['churn_date'], format='%Y-%m-%d')"
   ]
  },
  {
   "cell_type": "code",
   "execution_count": 29,
   "metadata": {},
   "outputs": [],
   "source": [
    "users['reg_date'] = pd.to_datetime(users['reg_date'], format='%Y-%m-%d')"
   ]
  },
  {
   "cell_type": "code",
   "execution_count": 30,
   "metadata": {},
   "outputs": [
    {
     "name": "stdout",
     "output_type": "stream",
     "text": [
      "<class 'pandas.core.frame.DataFrame'>\n",
      "RangeIndex: 500 entries, 0 to 499\n",
      "Data columns (total 8 columns):\n",
      " #   Column      Non-Null Count  Dtype         \n",
      "---  ------      --------------  -----         \n",
      " 0   user_id     500 non-null    int64         \n",
      " 1   age         500 non-null    int64         \n",
      " 2   churn_date  38 non-null     datetime64[ns]\n",
      " 3   city        500 non-null    object        \n",
      " 4   first_name  500 non-null    object        \n",
      " 5   last_name   500 non-null    object        \n",
      " 6   reg_date    500 non-null    datetime64[ns]\n",
      " 7   tariff      500 non-null    object        \n",
      "dtypes: datetime64[ns](2), int64(2), object(4)\n",
      "memory usage: 31.4+ KB\n"
     ]
    }
   ],
   "source": [
    "users.info()"
   ]
  },
  {
   "cell_type": "code",
   "execution_count": 31,
   "metadata": {},
   "outputs": [
    {
     "data": {
      "text/plain": [
       "0"
      ]
     },
     "execution_count": 31,
     "metadata": {},
     "output_type": "execute_result"
    }
   ],
   "source": [
    "users.duplicated().sum()#помотрели дубликаты"
   ]
  },
  {
   "cell_type": "markdown",
   "metadata": {},
   "source": [
    "Шаг 2. Подготовим данные\n",
    "\n",
    "Посчитайте для каждого пользователя:\n",
    "\n",
    "-количество сделанных звонков и израсходованных минут разговора по месяцам;\n",
    "\n",
    "-количество отправленных сообщений по месяцам;\n",
    "\n",
    "-объем израсходованного интернет-трафика по месяцам;\n",
    "\n",
    "-помесячную выручку с каждого пользователя (вычтите бесплатный лимит из суммарного количества звонков, сообщений и интернет-трафика; остаток умножьте на значение из тарифного плана; прибавьте абонентскую плату, соответствующую тарифному плану)."
   ]
  },
  {
   "cell_type": "code",
   "execution_count": 32,
   "metadata": {},
   "outputs": [
    {
     "data": {
      "text/html": [
       "<div>\n",
       "<style scoped>\n",
       "    .dataframe tbody tr th:only-of-type {\n",
       "        vertical-align: middle;\n",
       "    }\n",
       "\n",
       "    .dataframe tbody tr th {\n",
       "        vertical-align: top;\n",
       "    }\n",
       "\n",
       "    .dataframe thead th {\n",
       "        text-align: right;\n",
       "    }\n",
       "</style>\n",
       "<table border=\"1\" class=\"dataframe\">\n",
       "  <thead>\n",
       "    <tr style=\"text-align: right;\">\n",
       "      <th></th>\n",
       "      <th>id</th>\n",
       "      <th>call_date</th>\n",
       "      <th>duration</th>\n",
       "      <th>user_id</th>\n",
       "    </tr>\n",
       "  </thead>\n",
       "  <tbody>\n",
       "    <tr>\n",
       "      <th>0</th>\n",
       "      <td>10000</td>\n",
       "      <td>2018-07-25</td>\n",
       "      <td>0</td>\n",
       "      <td>1000</td>\n",
       "    </tr>\n",
       "    <tr>\n",
       "      <th>1</th>\n",
       "      <td>10001</td>\n",
       "      <td>2018-08-17</td>\n",
       "      <td>0</td>\n",
       "      <td>1000</td>\n",
       "    </tr>\n",
       "    <tr>\n",
       "      <th>2</th>\n",
       "      <td>10002</td>\n",
       "      <td>2018-06-11</td>\n",
       "      <td>3</td>\n",
       "      <td>1000</td>\n",
       "    </tr>\n",
       "    <tr>\n",
       "      <th>3</th>\n",
       "      <td>10003</td>\n",
       "      <td>2018-09-21</td>\n",
       "      <td>14</td>\n",
       "      <td>1000</td>\n",
       "    </tr>\n",
       "    <tr>\n",
       "      <th>4</th>\n",
       "      <td>10004</td>\n",
       "      <td>2018-12-15</td>\n",
       "      <td>6</td>\n",
       "      <td>1000</td>\n",
       "    </tr>\n",
       "  </tbody>\n",
       "</table>\n",
       "</div>"
      ],
      "text/plain": [
       "      id  call_date  duration  user_id\n",
       "0  10000 2018-07-25         0     1000\n",
       "1  10001 2018-08-17         0     1000\n",
       "2  10002 2018-06-11         3     1000\n",
       "3  10003 2018-09-21        14     1000\n",
       "4  10004 2018-12-15         6     1000"
      ]
     },
     "execution_count": 32,
     "metadata": {},
     "output_type": "execute_result"
    }
   ],
   "source": [
    "calls.head()"
   ]
  },
  {
   "cell_type": "code",
   "execution_count": 33,
   "metadata": {},
   "outputs": [
    {
     "data": {
      "text/plain": [
       "Int64Index([2018], dtype='int64', name='call_date')"
      ]
     },
     "execution_count": 33,
     "metadata": {},
     "output_type": "execute_result"
    }
   ],
   "source": [
    "pd.DatetimeIndex(calls['call_date']).year.unique()#проверили, все звонки в пределах 2018 года"
   ]
  },
  {
   "cell_type": "markdown",
   "metadata": {},
   "source": [
    "Количество сделанных звонков и израсходованных минут разговора по месяцам"
   ]
  },
  {
   "cell_type": "code",
   "execution_count": 34,
   "metadata": {},
   "outputs": [],
   "source": [
    "calls['month'] = calls['call_date'].dt.month_name()"
   ]
  },
  {
   "cell_type": "code",
   "execution_count": 35,
   "metadata": {},
   "outputs": [
    {
     "data": {
      "text/html": [
       "<div>\n",
       "<style scoped>\n",
       "    .dataframe tbody tr th:only-of-type {\n",
       "        vertical-align: middle;\n",
       "    }\n",
       "\n",
       "    .dataframe tbody tr th {\n",
       "        vertical-align: top;\n",
       "    }\n",
       "\n",
       "    .dataframe thead th {\n",
       "        text-align: right;\n",
       "    }\n",
       "</style>\n",
       "<table border=\"1\" class=\"dataframe\">\n",
       "  <thead>\n",
       "    <tr style=\"text-align: right;\">\n",
       "      <th></th>\n",
       "      <th>id</th>\n",
       "      <th>call_date</th>\n",
       "      <th>duration</th>\n",
       "      <th>user_id</th>\n",
       "      <th>month</th>\n",
       "    </tr>\n",
       "  </thead>\n",
       "  <tbody>\n",
       "    <tr>\n",
       "      <th>0</th>\n",
       "      <td>10000</td>\n",
       "      <td>2018-07-25</td>\n",
       "      <td>0</td>\n",
       "      <td>1000</td>\n",
       "      <td>July</td>\n",
       "    </tr>\n",
       "    <tr>\n",
       "      <th>1</th>\n",
       "      <td>10001</td>\n",
       "      <td>2018-08-17</td>\n",
       "      <td>0</td>\n",
       "      <td>1000</td>\n",
       "      <td>August</td>\n",
       "    </tr>\n",
       "    <tr>\n",
       "      <th>2</th>\n",
       "      <td>10002</td>\n",
       "      <td>2018-06-11</td>\n",
       "      <td>3</td>\n",
       "      <td>1000</td>\n",
       "      <td>June</td>\n",
       "    </tr>\n",
       "    <tr>\n",
       "      <th>3</th>\n",
       "      <td>10003</td>\n",
       "      <td>2018-09-21</td>\n",
       "      <td>14</td>\n",
       "      <td>1000</td>\n",
       "      <td>September</td>\n",
       "    </tr>\n",
       "    <tr>\n",
       "      <th>4</th>\n",
       "      <td>10004</td>\n",
       "      <td>2018-12-15</td>\n",
       "      <td>6</td>\n",
       "      <td>1000</td>\n",
       "      <td>December</td>\n",
       "    </tr>\n",
       "  </tbody>\n",
       "</table>\n",
       "</div>"
      ],
      "text/plain": [
       "      id  call_date  duration  user_id      month\n",
       "0  10000 2018-07-25         0     1000       July\n",
       "1  10001 2018-08-17         0     1000     August\n",
       "2  10002 2018-06-11         3     1000       June\n",
       "3  10003 2018-09-21        14     1000  September\n",
       "4  10004 2018-12-15         6     1000   December"
      ]
     },
     "execution_count": 35,
     "metadata": {},
     "output_type": "execute_result"
    }
   ],
   "source": [
    "calls.head()"
   ]
  },
  {
   "cell_type": "code",
   "execution_count": 36,
   "metadata": {},
   "outputs": [],
   "source": [
    "user_calls = calls.groupby(['user_id', 'month']) \\\n",
    "         .agg({'duration': 'sum', 'id': 'count'}) \\\n",
    "         .reset_index() \\\n",
    "         .rename(columns={'duration': 'month_calls_duration', 'id': 'calls_total_in_month'})"
   ]
  },
  {
   "cell_type": "code",
   "execution_count": 37,
   "metadata": {},
   "outputs": [
    {
     "data": {
      "text/html": [
       "<div>\n",
       "<style scoped>\n",
       "    .dataframe tbody tr th:only-of-type {\n",
       "        vertical-align: middle;\n",
       "    }\n",
       "\n",
       "    .dataframe tbody tr th {\n",
       "        vertical-align: top;\n",
       "    }\n",
       "\n",
       "    .dataframe thead th {\n",
       "        text-align: right;\n",
       "    }\n",
       "</style>\n",
       "<table border=\"1\" class=\"dataframe\">\n",
       "  <thead>\n",
       "    <tr style=\"text-align: right;\">\n",
       "      <th></th>\n",
       "      <th>user_id</th>\n",
       "      <th>month</th>\n",
       "      <th>month_calls_duration</th>\n",
       "      <th>calls_total_in_month</th>\n",
       "    </tr>\n",
       "  </thead>\n",
       "  <tbody>\n",
       "    <tr>\n",
       "      <th>0</th>\n",
       "      <td>1000</td>\n",
       "      <td>August</td>\n",
       "      <td>408</td>\n",
       "      <td>52</td>\n",
       "    </tr>\n",
       "    <tr>\n",
       "      <th>1</th>\n",
       "      <td>1000</td>\n",
       "      <td>December</td>\n",
       "      <td>333</td>\n",
       "      <td>46</td>\n",
       "    </tr>\n",
       "    <tr>\n",
       "      <th>2</th>\n",
       "      <td>1000</td>\n",
       "      <td>July</td>\n",
       "      <td>340</td>\n",
       "      <td>47</td>\n",
       "    </tr>\n",
       "    <tr>\n",
       "      <th>3</th>\n",
       "      <td>1000</td>\n",
       "      <td>June</td>\n",
       "      <td>172</td>\n",
       "      <td>43</td>\n",
       "    </tr>\n",
       "    <tr>\n",
       "      <th>4</th>\n",
       "      <td>1000</td>\n",
       "      <td>May</td>\n",
       "      <td>159</td>\n",
       "      <td>22</td>\n",
       "    </tr>\n",
       "  </tbody>\n",
       "</table>\n",
       "</div>"
      ],
      "text/plain": [
       "   user_id     month  month_calls_duration  calls_total_in_month\n",
       "0     1000    August                   408                    52\n",
       "1     1000  December                   333                    46\n",
       "2     1000      July                   340                    47\n",
       "3     1000      June                   172                    43\n",
       "4     1000       May                   159                    22"
      ]
     },
     "execution_count": 37,
     "metadata": {},
     "output_type": "execute_result"
    }
   ],
   "source": [
    "user_calls.head()"
   ]
  },
  {
   "cell_type": "markdown",
   "metadata": {},
   "source": [
    "Kоличество отправленных сообщений по месяцам"
   ]
  },
  {
   "cell_type": "code",
   "execution_count": 38,
   "metadata": {},
   "outputs": [],
   "source": [
    "messages['month'] = messages['message_date'].dt.month_name()"
   ]
  },
  {
   "cell_type": "code",
   "execution_count": 39,
   "metadata": {},
   "outputs": [
    {
     "data": {
      "text/html": [
       "<div>\n",
       "<style scoped>\n",
       "    .dataframe tbody tr th:only-of-type {\n",
       "        vertical-align: middle;\n",
       "    }\n",
       "\n",
       "    .dataframe tbody tr th {\n",
       "        vertical-align: top;\n",
       "    }\n",
       "\n",
       "    .dataframe thead th {\n",
       "        text-align: right;\n",
       "    }\n",
       "</style>\n",
       "<table border=\"1\" class=\"dataframe\">\n",
       "  <thead>\n",
       "    <tr style=\"text-align: right;\">\n",
       "      <th></th>\n",
       "      <th>id</th>\n",
       "      <th>message_date</th>\n",
       "      <th>user_id</th>\n",
       "      <th>month</th>\n",
       "    </tr>\n",
       "  </thead>\n",
       "  <tbody>\n",
       "    <tr>\n",
       "      <th>0</th>\n",
       "      <td>10000</td>\n",
       "      <td>2018-06-27</td>\n",
       "      <td>1000</td>\n",
       "      <td>June</td>\n",
       "    </tr>\n",
       "    <tr>\n",
       "      <th>1</th>\n",
       "      <td>10001</td>\n",
       "      <td>2018-10-08</td>\n",
       "      <td>1000</td>\n",
       "      <td>October</td>\n",
       "    </tr>\n",
       "    <tr>\n",
       "      <th>2</th>\n",
       "      <td>10002</td>\n",
       "      <td>2018-08-04</td>\n",
       "      <td>1000</td>\n",
       "      <td>August</td>\n",
       "    </tr>\n",
       "    <tr>\n",
       "      <th>3</th>\n",
       "      <td>10003</td>\n",
       "      <td>2018-06-16</td>\n",
       "      <td>1000</td>\n",
       "      <td>June</td>\n",
       "    </tr>\n",
       "    <tr>\n",
       "      <th>4</th>\n",
       "      <td>10004</td>\n",
       "      <td>2018-12-05</td>\n",
       "      <td>1000</td>\n",
       "      <td>December</td>\n",
       "    </tr>\n",
       "  </tbody>\n",
       "</table>\n",
       "</div>"
      ],
      "text/plain": [
       "      id message_date  user_id     month\n",
       "0  10000   2018-06-27     1000      June\n",
       "1  10001   2018-10-08     1000   October\n",
       "2  10002   2018-08-04     1000    August\n",
       "3  10003   2018-06-16     1000      June\n",
       "4  10004   2018-12-05     1000  December"
      ]
     },
     "execution_count": 39,
     "metadata": {},
     "output_type": "execute_result"
    }
   ],
   "source": [
    "messages.head()"
   ]
  },
  {
   "cell_type": "code",
   "execution_count": 40,
   "metadata": {},
   "outputs": [],
   "source": [
    "user_messages = messages.groupby(['user_id', 'month']) \\\n",
    "        .agg({'id': 'count'}) \\\n",
    "        .reset_index() \\\n",
    "        .rename(columns={'id': 'sms_total_in_month'})"
   ]
  },
  {
   "cell_type": "code",
   "execution_count": 41,
   "metadata": {},
   "outputs": [
    {
     "data": {
      "text/html": [
       "<div>\n",
       "<style scoped>\n",
       "    .dataframe tbody tr th:only-of-type {\n",
       "        vertical-align: middle;\n",
       "    }\n",
       "\n",
       "    .dataframe tbody tr th {\n",
       "        vertical-align: top;\n",
       "    }\n",
       "\n",
       "    .dataframe thead th {\n",
       "        text-align: right;\n",
       "    }\n",
       "</style>\n",
       "<table border=\"1\" class=\"dataframe\">\n",
       "  <thead>\n",
       "    <tr style=\"text-align: right;\">\n",
       "      <th></th>\n",
       "      <th>user_id</th>\n",
       "      <th>month</th>\n",
       "      <th>sms_total_in_month</th>\n",
       "    </tr>\n",
       "  </thead>\n",
       "  <tbody>\n",
       "    <tr>\n",
       "      <th>0</th>\n",
       "      <td>1000</td>\n",
       "      <td>August</td>\n",
       "      <td>81</td>\n",
       "    </tr>\n",
       "    <tr>\n",
       "      <th>1</th>\n",
       "      <td>1000</td>\n",
       "      <td>December</td>\n",
       "      <td>70</td>\n",
       "    </tr>\n",
       "    <tr>\n",
       "      <th>2</th>\n",
       "      <td>1000</td>\n",
       "      <td>July</td>\n",
       "      <td>75</td>\n",
       "    </tr>\n",
       "    <tr>\n",
       "      <th>3</th>\n",
       "      <td>1000</td>\n",
       "      <td>June</td>\n",
       "      <td>60</td>\n",
       "    </tr>\n",
       "    <tr>\n",
       "      <th>4</th>\n",
       "      <td>1000</td>\n",
       "      <td>May</td>\n",
       "      <td>22</td>\n",
       "    </tr>\n",
       "  </tbody>\n",
       "</table>\n",
       "</div>"
      ],
      "text/plain": [
       "   user_id     month  sms_total_in_month\n",
       "0     1000    August                  81\n",
       "1     1000  December                  70\n",
       "2     1000      July                  75\n",
       "3     1000      June                  60\n",
       "4     1000       May                  22"
      ]
     },
     "execution_count": 41,
     "metadata": {},
     "output_type": "execute_result"
    }
   ],
   "source": [
    "user_messages.head()"
   ]
  },
  {
   "cell_type": "markdown",
   "metadata": {},
   "source": [
    "Объем израсходованного интернет-трафика по месяцам"
   ]
  },
  {
   "cell_type": "code",
   "execution_count": 42,
   "metadata": {},
   "outputs": [],
   "source": [
    "internet['month'] = internet['session_date'].dt.month_name()"
   ]
  },
  {
   "cell_type": "code",
   "execution_count": 43,
   "metadata": {},
   "outputs": [
    {
     "data": {
      "text/html": [
       "<div>\n",
       "<style scoped>\n",
       "    .dataframe tbody tr th:only-of-type {\n",
       "        vertical-align: middle;\n",
       "    }\n",
       "\n",
       "    .dataframe tbody tr th {\n",
       "        vertical-align: top;\n",
       "    }\n",
       "\n",
       "    .dataframe thead th {\n",
       "        text-align: right;\n",
       "    }\n",
       "</style>\n",
       "<table border=\"1\" class=\"dataframe\">\n",
       "  <thead>\n",
       "    <tr style=\"text-align: right;\">\n",
       "      <th></th>\n",
       "      <th>id</th>\n",
       "      <th>mb_used</th>\n",
       "      <th>session_date</th>\n",
       "      <th>user_id</th>\n",
       "      <th>month</th>\n",
       "    </tr>\n",
       "  </thead>\n",
       "  <tbody>\n",
       "    <tr>\n",
       "      <th>0</th>\n",
       "      <td>10000</td>\n",
       "      <td>112.95</td>\n",
       "      <td>2018-11-25</td>\n",
       "      <td>1000</td>\n",
       "      <td>November</td>\n",
       "    </tr>\n",
       "    <tr>\n",
       "      <th>1</th>\n",
       "      <td>10001</td>\n",
       "      <td>1,052.81</td>\n",
       "      <td>2018-09-07</td>\n",
       "      <td>1000</td>\n",
       "      <td>September</td>\n",
       "    </tr>\n",
       "    <tr>\n",
       "      <th>2</th>\n",
       "      <td>10002</td>\n",
       "      <td>1,197.26</td>\n",
       "      <td>2018-06-25</td>\n",
       "      <td>1000</td>\n",
       "      <td>June</td>\n",
       "    </tr>\n",
       "    <tr>\n",
       "      <th>3</th>\n",
       "      <td>10003</td>\n",
       "      <td>550.27</td>\n",
       "      <td>2018-08-22</td>\n",
       "      <td>1000</td>\n",
       "      <td>August</td>\n",
       "    </tr>\n",
       "    <tr>\n",
       "      <th>4</th>\n",
       "      <td>10004</td>\n",
       "      <td>302.56</td>\n",
       "      <td>2018-09-24</td>\n",
       "      <td>1000</td>\n",
       "      <td>September</td>\n",
       "    </tr>\n",
       "  </tbody>\n",
       "</table>\n",
       "</div>"
      ],
      "text/plain": [
       "      id  mb_used session_date  user_id      month\n",
       "0  10000   112.95   2018-11-25     1000   November\n",
       "1  10001 1,052.81   2018-09-07     1000  September\n",
       "2  10002 1,197.26   2018-06-25     1000       June\n",
       "3  10003   550.27   2018-08-22     1000     August\n",
       "4  10004   302.56   2018-09-24     1000  September"
      ]
     },
     "execution_count": 43,
     "metadata": {},
     "output_type": "execute_result"
    }
   ],
   "source": [
    "internet.head()"
   ]
  },
  {
   "cell_type": "code",
   "execution_count": 44,
   "metadata": {},
   "outputs": [],
   "source": [
    "user_internet = internet.groupby(['user_id', 'month']) \\\n",
    "        .agg({'mb_used': 'sum'}) \\\n",
    "        .reset_index() \\\n",
    "        .rename(columns={'mb_used': 'mb_total_in_month'})"
   ]
  },
  {
   "cell_type": "code",
   "execution_count": 45,
   "metadata": {},
   "outputs": [
    {
     "data": {
      "text/html": [
       "<div>\n",
       "<style scoped>\n",
       "    .dataframe tbody tr th:only-of-type {\n",
       "        vertical-align: middle;\n",
       "    }\n",
       "\n",
       "    .dataframe tbody tr th {\n",
       "        vertical-align: top;\n",
       "    }\n",
       "\n",
       "    .dataframe thead th {\n",
       "        text-align: right;\n",
       "    }\n",
       "</style>\n",
       "<table border=\"1\" class=\"dataframe\">\n",
       "  <thead>\n",
       "    <tr style=\"text-align: right;\">\n",
       "      <th></th>\n",
       "      <th>user_id</th>\n",
       "      <th>month</th>\n",
       "      <th>mb_total_in_month</th>\n",
       "    </tr>\n",
       "  </thead>\n",
       "  <tbody>\n",
       "    <tr>\n",
       "      <th>0</th>\n",
       "      <td>1000</td>\n",
       "      <td>August</td>\n",
       "      <td>14,055.93</td>\n",
       "    </tr>\n",
       "    <tr>\n",
       "      <th>1</th>\n",
       "      <td>1000</td>\n",
       "      <td>December</td>\n",
       "      <td>9,817.61</td>\n",
       "    </tr>\n",
       "    <tr>\n",
       "      <th>2</th>\n",
       "      <td>1000</td>\n",
       "      <td>July</td>\n",
       "      <td>14,003.64</td>\n",
       "    </tr>\n",
       "    <tr>\n",
       "      <th>3</th>\n",
       "      <td>1000</td>\n",
       "      <td>June</td>\n",
       "      <td>23,233.77</td>\n",
       "    </tr>\n",
       "    <tr>\n",
       "      <th>4</th>\n",
       "      <td>1000</td>\n",
       "      <td>May</td>\n",
       "      <td>2,253.49</td>\n",
       "    </tr>\n",
       "  </tbody>\n",
       "</table>\n",
       "</div>"
      ],
      "text/plain": [
       "   user_id     month  mb_total_in_month\n",
       "0     1000    August          14,055.93\n",
       "1     1000  December           9,817.61\n",
       "2     1000      July          14,003.64\n",
       "3     1000      June          23,233.77\n",
       "4     1000       May           2,253.49"
      ]
     },
     "execution_count": 45,
     "metadata": {},
     "output_type": "execute_result"
    }
   ],
   "source": [
    "user_internet.head()"
   ]
  },
  {
   "cell_type": "markdown",
   "metadata": {},
   "source": [
    "Месячная выручка с каждого пользователя"
   ]
  },
  {
   "cell_type": "code",
   "execution_count": 46,
   "metadata": {},
   "outputs": [],
   "source": [
    "df = user_calls.merge(user_messages, on=['user_id', 'month'], how='outer')"
   ]
  },
  {
   "cell_type": "code",
   "execution_count": 47,
   "metadata": {},
   "outputs": [
    {
     "data": {
      "text/html": [
       "<div>\n",
       "<style scoped>\n",
       "    .dataframe tbody tr th:only-of-type {\n",
       "        vertical-align: middle;\n",
       "    }\n",
       "\n",
       "    .dataframe tbody tr th {\n",
       "        vertical-align: top;\n",
       "    }\n",
       "\n",
       "    .dataframe thead th {\n",
       "        text-align: right;\n",
       "    }\n",
       "</style>\n",
       "<table border=\"1\" class=\"dataframe\">\n",
       "  <thead>\n",
       "    <tr style=\"text-align: right;\">\n",
       "      <th></th>\n",
       "      <th>user_id</th>\n",
       "      <th>month</th>\n",
       "      <th>month_calls_duration</th>\n",
       "      <th>calls_total_in_month</th>\n",
       "      <th>sms_total_in_month</th>\n",
       "    </tr>\n",
       "  </thead>\n",
       "  <tbody>\n",
       "    <tr>\n",
       "      <th>0</th>\n",
       "      <td>1000</td>\n",
       "      <td>August</td>\n",
       "      <td>408.00</td>\n",
       "      <td>52.00</td>\n",
       "      <td>81.00</td>\n",
       "    </tr>\n",
       "    <tr>\n",
       "      <th>1</th>\n",
       "      <td>1000</td>\n",
       "      <td>December</td>\n",
       "      <td>333.00</td>\n",
       "      <td>46.00</td>\n",
       "      <td>70.00</td>\n",
       "    </tr>\n",
       "    <tr>\n",
       "      <th>2</th>\n",
       "      <td>1000</td>\n",
       "      <td>July</td>\n",
       "      <td>340.00</td>\n",
       "      <td>47.00</td>\n",
       "      <td>75.00</td>\n",
       "    </tr>\n",
       "    <tr>\n",
       "      <th>3</th>\n",
       "      <td>1000</td>\n",
       "      <td>June</td>\n",
       "      <td>172.00</td>\n",
       "      <td>43.00</td>\n",
       "      <td>60.00</td>\n",
       "    </tr>\n",
       "    <tr>\n",
       "      <th>4</th>\n",
       "      <td>1000</td>\n",
       "      <td>May</td>\n",
       "      <td>159.00</td>\n",
       "      <td>22.00</td>\n",
       "      <td>22.00</td>\n",
       "    </tr>\n",
       "  </tbody>\n",
       "</table>\n",
       "</div>"
      ],
      "text/plain": [
       "   user_id     month  month_calls_duration  calls_total_in_month  \\\n",
       "0     1000    August                408.00                 52.00   \n",
       "1     1000  December                333.00                 46.00   \n",
       "2     1000      July                340.00                 47.00   \n",
       "3     1000      June                172.00                 43.00   \n",
       "4     1000       May                159.00                 22.00   \n",
       "\n",
       "   sms_total_in_month  \n",
       "0               81.00  \n",
       "1               70.00  \n",
       "2               75.00  \n",
       "3               60.00  \n",
       "4               22.00  "
      ]
     },
     "execution_count": 47,
     "metadata": {},
     "output_type": "execute_result"
    }
   ],
   "source": [
    "df.head()"
   ]
  },
  {
   "cell_type": "code",
   "execution_count": 48,
   "metadata": {},
   "outputs": [
    {
     "data": {
      "text/html": [
       "<div>\n",
       "<style scoped>\n",
       "    .dataframe tbody tr th:only-of-type {\n",
       "        vertical-align: middle;\n",
       "    }\n",
       "\n",
       "    .dataframe tbody tr th {\n",
       "        vertical-align: top;\n",
       "    }\n",
       "\n",
       "    .dataframe thead th {\n",
       "        text-align: right;\n",
       "    }\n",
       "</style>\n",
       "<table border=\"1\" class=\"dataframe\">\n",
       "  <thead>\n",
       "    <tr style=\"text-align: right;\">\n",
       "      <th></th>\n",
       "      <th>user_id</th>\n",
       "      <th>month</th>\n",
       "      <th>month_calls_duration</th>\n",
       "      <th>calls_total_in_month</th>\n",
       "      <th>sms_total_in_month</th>\n",
       "      <th>mb_total_in_month</th>\n",
       "    </tr>\n",
       "  </thead>\n",
       "  <tbody>\n",
       "    <tr>\n",
       "      <th>0</th>\n",
       "      <td>1000</td>\n",
       "      <td>August</td>\n",
       "      <td>408.00</td>\n",
       "      <td>52.00</td>\n",
       "      <td>81.00</td>\n",
       "      <td>14,055.93</td>\n",
       "    </tr>\n",
       "    <tr>\n",
       "      <th>1</th>\n",
       "      <td>1000</td>\n",
       "      <td>December</td>\n",
       "      <td>333.00</td>\n",
       "      <td>46.00</td>\n",
       "      <td>70.00</td>\n",
       "      <td>9,817.61</td>\n",
       "    </tr>\n",
       "    <tr>\n",
       "      <th>2</th>\n",
       "      <td>1000</td>\n",
       "      <td>July</td>\n",
       "      <td>340.00</td>\n",
       "      <td>47.00</td>\n",
       "      <td>75.00</td>\n",
       "      <td>14,003.64</td>\n",
       "    </tr>\n",
       "    <tr>\n",
       "      <th>3</th>\n",
       "      <td>1000</td>\n",
       "      <td>June</td>\n",
       "      <td>172.00</td>\n",
       "      <td>43.00</td>\n",
       "      <td>60.00</td>\n",
       "      <td>23,233.77</td>\n",
       "    </tr>\n",
       "    <tr>\n",
       "      <th>4</th>\n",
       "      <td>1000</td>\n",
       "      <td>May</td>\n",
       "      <td>159.00</td>\n",
       "      <td>22.00</td>\n",
       "      <td>22.00</td>\n",
       "      <td>2,253.49</td>\n",
       "    </tr>\n",
       "  </tbody>\n",
       "</table>\n",
       "</div>"
      ],
      "text/plain": [
       "   user_id     month  month_calls_duration  calls_total_in_month  \\\n",
       "0     1000    August                408.00                 52.00   \n",
       "1     1000  December                333.00                 46.00   \n",
       "2     1000      July                340.00                 47.00   \n",
       "3     1000      June                172.00                 43.00   \n",
       "4     1000       May                159.00                 22.00   \n",
       "\n",
       "   sms_total_in_month  mb_total_in_month  \n",
       "0               81.00          14,055.93  \n",
       "1               70.00           9,817.61  \n",
       "2               75.00          14,003.64  \n",
       "3               60.00          23,233.77  \n",
       "4               22.00           2,253.49  "
      ]
     },
     "execution_count": 48,
     "metadata": {},
     "output_type": "execute_result"
    }
   ],
   "source": [
    "df = df.merge(user_internet, on=['user_id','month'], how = 'outer')\n",
    "df.head()"
   ]
  },
  {
   "cell_type": "code",
   "execution_count": 49,
   "metadata": {},
   "outputs": [
    {
     "data": {
      "text/html": [
       "<div>\n",
       "<style scoped>\n",
       "    .dataframe tbody tr th:only-of-type {\n",
       "        vertical-align: middle;\n",
       "    }\n",
       "\n",
       "    .dataframe tbody tr th {\n",
       "        vertical-align: top;\n",
       "    }\n",
       "\n",
       "    .dataframe thead th {\n",
       "        text-align: right;\n",
       "    }\n",
       "</style>\n",
       "<table border=\"1\" class=\"dataframe\">\n",
       "  <thead>\n",
       "    <tr style=\"text-align: right;\">\n",
       "      <th></th>\n",
       "      <th>user_id</th>\n",
       "      <th>month</th>\n",
       "      <th>month_calls_duration</th>\n",
       "      <th>calls_total_in_month</th>\n",
       "      <th>sms_total_in_month</th>\n",
       "      <th>mb_total_in_month</th>\n",
       "      <th>age</th>\n",
       "      <th>churn_date</th>\n",
       "      <th>city</th>\n",
       "      <th>first_name</th>\n",
       "      <th>last_name</th>\n",
       "      <th>reg_date</th>\n",
       "      <th>tariff</th>\n",
       "    </tr>\n",
       "  </thead>\n",
       "  <tbody>\n",
       "    <tr>\n",
       "      <th>0</th>\n",
       "      <td>1000</td>\n",
       "      <td>August</td>\n",
       "      <td>408.00</td>\n",
       "      <td>52.00</td>\n",
       "      <td>81.00</td>\n",
       "      <td>14,055.93</td>\n",
       "      <td>52</td>\n",
       "      <td>NaT</td>\n",
       "      <td>Краснодар</td>\n",
       "      <td>Рафаил</td>\n",
       "      <td>Верещагин</td>\n",
       "      <td>2018-05-25</td>\n",
       "      <td>ultra</td>\n",
       "    </tr>\n",
       "    <tr>\n",
       "      <th>1</th>\n",
       "      <td>1000</td>\n",
       "      <td>December</td>\n",
       "      <td>333.00</td>\n",
       "      <td>46.00</td>\n",
       "      <td>70.00</td>\n",
       "      <td>9,817.61</td>\n",
       "      <td>52</td>\n",
       "      <td>NaT</td>\n",
       "      <td>Краснодар</td>\n",
       "      <td>Рафаил</td>\n",
       "      <td>Верещагин</td>\n",
       "      <td>2018-05-25</td>\n",
       "      <td>ultra</td>\n",
       "    </tr>\n",
       "    <tr>\n",
       "      <th>2</th>\n",
       "      <td>1000</td>\n",
       "      <td>July</td>\n",
       "      <td>340.00</td>\n",
       "      <td>47.00</td>\n",
       "      <td>75.00</td>\n",
       "      <td>14,003.64</td>\n",
       "      <td>52</td>\n",
       "      <td>NaT</td>\n",
       "      <td>Краснодар</td>\n",
       "      <td>Рафаил</td>\n",
       "      <td>Верещагин</td>\n",
       "      <td>2018-05-25</td>\n",
       "      <td>ultra</td>\n",
       "    </tr>\n",
       "    <tr>\n",
       "      <th>3</th>\n",
       "      <td>1000</td>\n",
       "      <td>June</td>\n",
       "      <td>172.00</td>\n",
       "      <td>43.00</td>\n",
       "      <td>60.00</td>\n",
       "      <td>23,233.77</td>\n",
       "      <td>52</td>\n",
       "      <td>NaT</td>\n",
       "      <td>Краснодар</td>\n",
       "      <td>Рафаил</td>\n",
       "      <td>Верещагин</td>\n",
       "      <td>2018-05-25</td>\n",
       "      <td>ultra</td>\n",
       "    </tr>\n",
       "    <tr>\n",
       "      <th>4</th>\n",
       "      <td>1000</td>\n",
       "      <td>May</td>\n",
       "      <td>159.00</td>\n",
       "      <td>22.00</td>\n",
       "      <td>22.00</td>\n",
       "      <td>2,253.49</td>\n",
       "      <td>52</td>\n",
       "      <td>NaT</td>\n",
       "      <td>Краснодар</td>\n",
       "      <td>Рафаил</td>\n",
       "      <td>Верещагин</td>\n",
       "      <td>2018-05-25</td>\n",
       "      <td>ultra</td>\n",
       "    </tr>\n",
       "  </tbody>\n",
       "</table>\n",
       "</div>"
      ],
      "text/plain": [
       "   user_id     month  month_calls_duration  calls_total_in_month  \\\n",
       "0     1000    August                408.00                 52.00   \n",
       "1     1000  December                333.00                 46.00   \n",
       "2     1000      July                340.00                 47.00   \n",
       "3     1000      June                172.00                 43.00   \n",
       "4     1000       May                159.00                 22.00   \n",
       "\n",
       "   sms_total_in_month  mb_total_in_month  age churn_date       city  \\\n",
       "0               81.00          14,055.93   52        NaT  Краснодар   \n",
       "1               70.00           9,817.61   52        NaT  Краснодар   \n",
       "2               75.00          14,003.64   52        NaT  Краснодар   \n",
       "3               60.00          23,233.77   52        NaT  Краснодар   \n",
       "4               22.00           2,253.49   52        NaT  Краснодар   \n",
       "\n",
       "  first_name  last_name   reg_date tariff  \n",
       "0     Рафаил  Верещагин 2018-05-25  ultra  \n",
       "1     Рафаил  Верещагин 2018-05-25  ultra  \n",
       "2     Рафаил  Верещагин 2018-05-25  ultra  \n",
       "3     Рафаил  Верещагин 2018-05-25  ultra  \n",
       "4     Рафаил  Верещагин 2018-05-25  ultra  "
      ]
     },
     "execution_count": 49,
     "metadata": {},
     "output_type": "execute_result"
    }
   ],
   "source": [
    "df = df.merge(users, on='user_id', how = 'left')\n",
    "df.head()"
   ]
  },
  {
   "cell_type": "code",
   "execution_count": 50,
   "metadata": {},
   "outputs": [
    {
     "data": {
      "text/html": [
       "<div>\n",
       "<style scoped>\n",
       "    .dataframe tbody tr th:only-of-type {\n",
       "        vertical-align: middle;\n",
       "    }\n",
       "\n",
       "    .dataframe tbody tr th {\n",
       "        vertical-align: top;\n",
       "    }\n",
       "\n",
       "    .dataframe thead th {\n",
       "        text-align: right;\n",
       "    }\n",
       "</style>\n",
       "<table border=\"1\" class=\"dataframe\">\n",
       "  <thead>\n",
       "    <tr style=\"text-align: right;\">\n",
       "      <th></th>\n",
       "      <th>messages_included</th>\n",
       "      <th>mb_per_month_included</th>\n",
       "      <th>minutes_included</th>\n",
       "      <th>rub_monthly_fee</th>\n",
       "      <th>rub_per_gb</th>\n",
       "      <th>rub_per_message</th>\n",
       "      <th>rub_per_minute</th>\n",
       "      <th>tariff_name</th>\n",
       "    </tr>\n",
       "  </thead>\n",
       "  <tbody>\n",
       "    <tr>\n",
       "      <th>0</th>\n",
       "      <td>50</td>\n",
       "      <td>15360</td>\n",
       "      <td>500</td>\n",
       "      <td>550</td>\n",
       "      <td>200</td>\n",
       "      <td>3</td>\n",
       "      <td>3</td>\n",
       "      <td>smart</td>\n",
       "    </tr>\n",
       "    <tr>\n",
       "      <th>1</th>\n",
       "      <td>1000</td>\n",
       "      <td>30720</td>\n",
       "      <td>3000</td>\n",
       "      <td>1950</td>\n",
       "      <td>150</td>\n",
       "      <td>1</td>\n",
       "      <td>1</td>\n",
       "      <td>ultra</td>\n",
       "    </tr>\n",
       "  </tbody>\n",
       "</table>\n",
       "</div>"
      ],
      "text/plain": [
       "   messages_included  mb_per_month_included  minutes_included  \\\n",
       "0                 50                  15360               500   \n",
       "1               1000                  30720              3000   \n",
       "\n",
       "   rub_monthly_fee  rub_per_gb  rub_per_message  rub_per_minute tariff_name  \n",
       "0              550         200                3               3       smart  \n",
       "1             1950         150                1               1       ultra  "
      ]
     },
     "execution_count": 50,
     "metadata": {},
     "output_type": "execute_result"
    }
   ],
   "source": [
    "tariffs.head()"
   ]
  },
  {
   "cell_type": "code",
   "execution_count": 51,
   "metadata": {},
   "outputs": [
    {
     "data": {
      "text/plain": [
       "user_id                    0\n",
       "month                      0\n",
       "month_calls_duration      40\n",
       "calls_total_in_month      40\n",
       "sms_total_in_month       497\n",
       "mb_total_in_month         11\n",
       "age                        0\n",
       "churn_date              3027\n",
       "city                       0\n",
       "first_name                 0\n",
       "last_name                  0\n",
       "reg_date                   0\n",
       "tariff                     0\n",
       "dtype: int64"
      ]
     },
     "execution_count": 51,
     "metadata": {},
     "output_type": "execute_result"
    }
   ],
   "source": [
    "df.isna().sum()"
   ]
  },
  {
   "cell_type": "code",
   "execution_count": 52,
   "metadata": {},
   "outputs": [
    {
     "data": {
      "text/plain": [
       "array(['ultra', 'smart'], dtype=object)"
      ]
     },
     "execution_count": 52,
     "metadata": {},
     "output_type": "execute_result"
    }
   ],
   "source": [
    "df['tariff'].unique()"
   ]
  },
  {
   "cell_type": "code",
   "execution_count": 53,
   "metadata": {},
   "outputs": [],
   "source": [
    "df['tariff_name'] = df['tariff']"
   ]
  },
  {
   "cell_type": "code",
   "execution_count": 54,
   "metadata": {},
   "outputs": [],
   "source": [
    "del df['tariff']"
   ]
  },
  {
   "cell_type": "code",
   "execution_count": 55,
   "metadata": {},
   "outputs": [
    {
     "data": {
      "text/html": [
       "<div>\n",
       "<style scoped>\n",
       "    .dataframe tbody tr th:only-of-type {\n",
       "        vertical-align: middle;\n",
       "    }\n",
       "\n",
       "    .dataframe tbody tr th {\n",
       "        vertical-align: top;\n",
       "    }\n",
       "\n",
       "    .dataframe thead th {\n",
       "        text-align: right;\n",
       "    }\n",
       "</style>\n",
       "<table border=\"1\" class=\"dataframe\">\n",
       "  <thead>\n",
       "    <tr style=\"text-align: right;\">\n",
       "      <th></th>\n",
       "      <th>user_id</th>\n",
       "      <th>month</th>\n",
       "      <th>month_calls_duration</th>\n",
       "      <th>calls_total_in_month</th>\n",
       "      <th>sms_total_in_month</th>\n",
       "      <th>mb_total_in_month</th>\n",
       "      <th>age</th>\n",
       "      <th>churn_date</th>\n",
       "      <th>city</th>\n",
       "      <th>first_name</th>\n",
       "      <th>last_name</th>\n",
       "      <th>reg_date</th>\n",
       "      <th>tariff_name</th>\n",
       "      <th>messages_included</th>\n",
       "      <th>mb_per_month_included</th>\n",
       "      <th>minutes_included</th>\n",
       "      <th>rub_monthly_fee</th>\n",
       "      <th>rub_per_gb</th>\n",
       "      <th>rub_per_message</th>\n",
       "      <th>rub_per_minute</th>\n",
       "    </tr>\n",
       "  </thead>\n",
       "  <tbody>\n",
       "    <tr>\n",
       "      <th>0</th>\n",
       "      <td>1000</td>\n",
       "      <td>August</td>\n",
       "      <td>408.00</td>\n",
       "      <td>52.00</td>\n",
       "      <td>81.00</td>\n",
       "      <td>14,055.93</td>\n",
       "      <td>52</td>\n",
       "      <td>NaT</td>\n",
       "      <td>Краснодар</td>\n",
       "      <td>Рафаил</td>\n",
       "      <td>Верещагин</td>\n",
       "      <td>2018-05-25</td>\n",
       "      <td>ultra</td>\n",
       "      <td>1000</td>\n",
       "      <td>30720</td>\n",
       "      <td>3000</td>\n",
       "      <td>1950</td>\n",
       "      <td>150</td>\n",
       "      <td>1</td>\n",
       "      <td>1</td>\n",
       "    </tr>\n",
       "    <tr>\n",
       "      <th>1</th>\n",
       "      <td>1000</td>\n",
       "      <td>December</td>\n",
       "      <td>333.00</td>\n",
       "      <td>46.00</td>\n",
       "      <td>70.00</td>\n",
       "      <td>9,817.61</td>\n",
       "      <td>52</td>\n",
       "      <td>NaT</td>\n",
       "      <td>Краснодар</td>\n",
       "      <td>Рафаил</td>\n",
       "      <td>Верещагин</td>\n",
       "      <td>2018-05-25</td>\n",
       "      <td>ultra</td>\n",
       "      <td>1000</td>\n",
       "      <td>30720</td>\n",
       "      <td>3000</td>\n",
       "      <td>1950</td>\n",
       "      <td>150</td>\n",
       "      <td>1</td>\n",
       "      <td>1</td>\n",
       "    </tr>\n",
       "    <tr>\n",
       "      <th>2</th>\n",
       "      <td>1000</td>\n",
       "      <td>July</td>\n",
       "      <td>340.00</td>\n",
       "      <td>47.00</td>\n",
       "      <td>75.00</td>\n",
       "      <td>14,003.64</td>\n",
       "      <td>52</td>\n",
       "      <td>NaT</td>\n",
       "      <td>Краснодар</td>\n",
       "      <td>Рафаил</td>\n",
       "      <td>Верещагин</td>\n",
       "      <td>2018-05-25</td>\n",
       "      <td>ultra</td>\n",
       "      <td>1000</td>\n",
       "      <td>30720</td>\n",
       "      <td>3000</td>\n",
       "      <td>1950</td>\n",
       "      <td>150</td>\n",
       "      <td>1</td>\n",
       "      <td>1</td>\n",
       "    </tr>\n",
       "    <tr>\n",
       "      <th>3</th>\n",
       "      <td>1000</td>\n",
       "      <td>June</td>\n",
       "      <td>172.00</td>\n",
       "      <td>43.00</td>\n",
       "      <td>60.00</td>\n",
       "      <td>23,233.77</td>\n",
       "      <td>52</td>\n",
       "      <td>NaT</td>\n",
       "      <td>Краснодар</td>\n",
       "      <td>Рафаил</td>\n",
       "      <td>Верещагин</td>\n",
       "      <td>2018-05-25</td>\n",
       "      <td>ultra</td>\n",
       "      <td>1000</td>\n",
       "      <td>30720</td>\n",
       "      <td>3000</td>\n",
       "      <td>1950</td>\n",
       "      <td>150</td>\n",
       "      <td>1</td>\n",
       "      <td>1</td>\n",
       "    </tr>\n",
       "    <tr>\n",
       "      <th>4</th>\n",
       "      <td>1000</td>\n",
       "      <td>May</td>\n",
       "      <td>159.00</td>\n",
       "      <td>22.00</td>\n",
       "      <td>22.00</td>\n",
       "      <td>2,253.49</td>\n",
       "      <td>52</td>\n",
       "      <td>NaT</td>\n",
       "      <td>Краснодар</td>\n",
       "      <td>Рафаил</td>\n",
       "      <td>Верещагин</td>\n",
       "      <td>2018-05-25</td>\n",
       "      <td>ultra</td>\n",
       "      <td>1000</td>\n",
       "      <td>30720</td>\n",
       "      <td>3000</td>\n",
       "      <td>1950</td>\n",
       "      <td>150</td>\n",
       "      <td>1</td>\n",
       "      <td>1</td>\n",
       "    </tr>\n",
       "  </tbody>\n",
       "</table>\n",
       "</div>"
      ],
      "text/plain": [
       "   user_id     month  month_calls_duration  calls_total_in_month  \\\n",
       "0     1000    August                408.00                 52.00   \n",
       "1     1000  December                333.00                 46.00   \n",
       "2     1000      July                340.00                 47.00   \n",
       "3     1000      June                172.00                 43.00   \n",
       "4     1000       May                159.00                 22.00   \n",
       "\n",
       "   sms_total_in_month  mb_total_in_month  age churn_date       city  \\\n",
       "0               81.00          14,055.93   52        NaT  Краснодар   \n",
       "1               70.00           9,817.61   52        NaT  Краснодар   \n",
       "2               75.00          14,003.64   52        NaT  Краснодар   \n",
       "3               60.00          23,233.77   52        NaT  Краснодар   \n",
       "4               22.00           2,253.49   52        NaT  Краснодар   \n",
       "\n",
       "  first_name  last_name   reg_date tariff_name  messages_included  \\\n",
       "0     Рафаил  Верещагин 2018-05-25       ultra               1000   \n",
       "1     Рафаил  Верещагин 2018-05-25       ultra               1000   \n",
       "2     Рафаил  Верещагин 2018-05-25       ultra               1000   \n",
       "3     Рафаил  Верещагин 2018-05-25       ultra               1000   \n",
       "4     Рафаил  Верещагин 2018-05-25       ultra               1000   \n",
       "\n",
       "   mb_per_month_included  minutes_included  rub_monthly_fee  rub_per_gb  \\\n",
       "0                  30720              3000             1950         150   \n",
       "1                  30720              3000             1950         150   \n",
       "2                  30720              3000             1950         150   \n",
       "3                  30720              3000             1950         150   \n",
       "4                  30720              3000             1950         150   \n",
       "\n",
       "   rub_per_message  rub_per_minute  \n",
       "0                1               1  \n",
       "1                1               1  \n",
       "2                1               1  \n",
       "3                1               1  \n",
       "4                1               1  "
      ]
     },
     "execution_count": 55,
     "metadata": {},
     "output_type": "execute_result"
    }
   ],
   "source": [
    "df = df.merge(tariffs,on='tariff_name', how='left')\n",
    "df.head()"
   ]
  },
  {
   "cell_type": "code",
   "execution_count": 56,
   "metadata": {},
   "outputs": [
    {
     "data": {
      "text/plain": [
       "user_id                     0\n",
       "month                       0\n",
       "month_calls_duration       40\n",
       "calls_total_in_month       40\n",
       "sms_total_in_month        497\n",
       "mb_total_in_month          11\n",
       "age                         0\n",
       "churn_date               3027\n",
       "city                        0\n",
       "first_name                  0\n",
       "last_name                   0\n",
       "reg_date                    0\n",
       "tariff_name                 0\n",
       "messages_included           0\n",
       "mb_per_month_included       0\n",
       "minutes_included            0\n",
       "rub_monthly_fee             0\n",
       "rub_per_gb                  0\n",
       "rub_per_message             0\n",
       "rub_per_minute              0\n",
       "dtype: int64"
      ]
     },
     "execution_count": 56,
     "metadata": {},
     "output_type": "execute_result"
    }
   ],
   "source": [
    "df.isna().sum()"
   ]
  },
  {
   "cell_type": "code",
   "execution_count": 57,
   "metadata": {},
   "outputs": [],
   "source": [
    "df['month_calls_duration'] = df['month_calls_duration'].fillna(0)\n",
    "df['calls_total_in_month'] = df['calls_total_in_month'].fillna(0)\n",
    "df['sms_total_in_month'] = df['sms_total_in_month'].fillna(0)\n",
    "df['mb_total_in_month'] = df['mb_total_in_month'].fillna(0)"
   ]
  },
  {
   "cell_type": "code",
   "execution_count": 58,
   "metadata": {},
   "outputs": [
    {
     "data": {
      "text/plain": [
       "user_id                     0\n",
       "month                       0\n",
       "month_calls_duration        0\n",
       "calls_total_in_month        0\n",
       "sms_total_in_month          0\n",
       "mb_total_in_month           0\n",
       "age                         0\n",
       "churn_date               3027\n",
       "city                        0\n",
       "first_name                  0\n",
       "last_name                   0\n",
       "reg_date                    0\n",
       "tariff_name                 0\n",
       "messages_included           0\n",
       "mb_per_month_included       0\n",
       "minutes_included            0\n",
       "rub_monthly_fee             0\n",
       "rub_per_gb                  0\n",
       "rub_per_message             0\n",
       "rub_per_minute              0\n",
       "dtype: int64"
      ]
     },
     "execution_count": 58,
     "metadata": {},
     "output_type": "execute_result"
    }
   ],
   "source": [
    "df.isna().sum()"
   ]
  },
  {
   "cell_type": "code",
   "execution_count": 59,
   "metadata": {},
   "outputs": [
    {
     "data": {
      "text/plain": [
       "0"
      ]
     },
     "execution_count": 59,
     "metadata": {},
     "output_type": "execute_result"
    }
   ],
   "source": [
    "df.duplicated().sum()"
   ]
  },
  {
   "cell_type": "code",
   "execution_count": 60,
   "metadata": {},
   "outputs": [
    {
     "data": {
      "text/html": [
       "<div>\n",
       "<style scoped>\n",
       "    .dataframe tbody tr th:only-of-type {\n",
       "        vertical-align: middle;\n",
       "    }\n",
       "\n",
       "    .dataframe tbody tr th {\n",
       "        vertical-align: top;\n",
       "    }\n",
       "\n",
       "    .dataframe thead th {\n",
       "        text-align: right;\n",
       "    }\n",
       "</style>\n",
       "<table border=\"1\" class=\"dataframe\">\n",
       "  <thead>\n",
       "    <tr style=\"text-align: right;\">\n",
       "      <th></th>\n",
       "      <th>messages_included</th>\n",
       "      <th>mb_per_month_included</th>\n",
       "      <th>minutes_included</th>\n",
       "      <th>rub_monthly_fee</th>\n",
       "      <th>rub_per_gb</th>\n",
       "      <th>rub_per_message</th>\n",
       "      <th>rub_per_minute</th>\n",
       "      <th>tariff_name</th>\n",
       "    </tr>\n",
       "  </thead>\n",
       "  <tbody>\n",
       "    <tr>\n",
       "      <th>0</th>\n",
       "      <td>50</td>\n",
       "      <td>15360</td>\n",
       "      <td>500</td>\n",
       "      <td>550</td>\n",
       "      <td>200</td>\n",
       "      <td>3</td>\n",
       "      <td>3</td>\n",
       "      <td>smart</td>\n",
       "    </tr>\n",
       "    <tr>\n",
       "      <th>1</th>\n",
       "      <td>1000</td>\n",
       "      <td>30720</td>\n",
       "      <td>3000</td>\n",
       "      <td>1950</td>\n",
       "      <td>150</td>\n",
       "      <td>1</td>\n",
       "      <td>1</td>\n",
       "      <td>ultra</td>\n",
       "    </tr>\n",
       "  </tbody>\n",
       "</table>\n",
       "</div>"
      ],
      "text/plain": [
       "   messages_included  mb_per_month_included  minutes_included  \\\n",
       "0                 50                  15360               500   \n",
       "1               1000                  30720              3000   \n",
       "\n",
       "   rub_monthly_fee  rub_per_gb  rub_per_message  rub_per_minute tariff_name  \n",
       "0              550         200                3               3       smart  \n",
       "1             1950         150                1               1       ultra  "
      ]
     },
     "execution_count": 60,
     "metadata": {},
     "output_type": "execute_result"
    }
   ],
   "source": [
    "tariffs.head()"
   ]
  },
  {
   "cell_type": "code",
   "execution_count": 61,
   "metadata": {},
   "outputs": [],
   "source": [
    "def above_the_tariff(row):\n",
    "    sms = (row['sms_total_in_month'] - row['messages_included']) * row['rub_per_minute']\n",
    "    mins = (row['month_calls_duration'] - row['minutes_included']) * row['rub_per_message']\n",
    "    mbs = np.ceil((row['mb_total_in_month'] - row['mb_per_month_included']) / 1024) * row['rub_per_gb'] \n",
    "    total = 0\n",
    "    for i in [sms, mins, mbs]:\n",
    "        if i > 0:\n",
    "            total +=i\n",
    "    return total"
   ]
  },
  {
   "cell_type": "code",
   "execution_count": 62,
   "metadata": {},
   "outputs": [
    {
     "data": {
      "text/html": [
       "<div>\n",
       "<style scoped>\n",
       "    .dataframe tbody tr th:only-of-type {\n",
       "        vertical-align: middle;\n",
       "    }\n",
       "\n",
       "    .dataframe tbody tr th {\n",
       "        vertical-align: top;\n",
       "    }\n",
       "\n",
       "    .dataframe thead th {\n",
       "        text-align: right;\n",
       "    }\n",
       "</style>\n",
       "<table border=\"1\" class=\"dataframe\">\n",
       "  <thead>\n",
       "    <tr style=\"text-align: right;\">\n",
       "      <th></th>\n",
       "      <th>user_id</th>\n",
       "      <th>month</th>\n",
       "      <th>month_calls_duration</th>\n",
       "      <th>calls_total_in_month</th>\n",
       "      <th>sms_total_in_month</th>\n",
       "      <th>mb_total_in_month</th>\n",
       "      <th>age</th>\n",
       "      <th>churn_date</th>\n",
       "      <th>city</th>\n",
       "      <th>first_name</th>\n",
       "      <th>last_name</th>\n",
       "      <th>reg_date</th>\n",
       "      <th>tariff_name</th>\n",
       "      <th>messages_included</th>\n",
       "      <th>mb_per_month_included</th>\n",
       "      <th>minutes_included</th>\n",
       "      <th>rub_monthly_fee</th>\n",
       "      <th>rub_per_gb</th>\n",
       "      <th>rub_per_message</th>\n",
       "      <th>rub_per_minute</th>\n",
       "    </tr>\n",
       "  </thead>\n",
       "  <tbody>\n",
       "    <tr>\n",
       "      <th>0</th>\n",
       "      <td>1000</td>\n",
       "      <td>August</td>\n",
       "      <td>408.00</td>\n",
       "      <td>52.00</td>\n",
       "      <td>81.00</td>\n",
       "      <td>14,055.93</td>\n",
       "      <td>52</td>\n",
       "      <td>NaT</td>\n",
       "      <td>Краснодар</td>\n",
       "      <td>Рафаил</td>\n",
       "      <td>Верещагин</td>\n",
       "      <td>2018-05-25</td>\n",
       "      <td>ultra</td>\n",
       "      <td>1000</td>\n",
       "      <td>30720</td>\n",
       "      <td>3000</td>\n",
       "      <td>1950</td>\n",
       "      <td>150</td>\n",
       "      <td>1</td>\n",
       "      <td>1</td>\n",
       "    </tr>\n",
       "    <tr>\n",
       "      <th>1</th>\n",
       "      <td>1000</td>\n",
       "      <td>December</td>\n",
       "      <td>333.00</td>\n",
       "      <td>46.00</td>\n",
       "      <td>70.00</td>\n",
       "      <td>9,817.61</td>\n",
       "      <td>52</td>\n",
       "      <td>NaT</td>\n",
       "      <td>Краснодар</td>\n",
       "      <td>Рафаил</td>\n",
       "      <td>Верещагин</td>\n",
       "      <td>2018-05-25</td>\n",
       "      <td>ultra</td>\n",
       "      <td>1000</td>\n",
       "      <td>30720</td>\n",
       "      <td>3000</td>\n",
       "      <td>1950</td>\n",
       "      <td>150</td>\n",
       "      <td>1</td>\n",
       "      <td>1</td>\n",
       "    </tr>\n",
       "    <tr>\n",
       "      <th>2</th>\n",
       "      <td>1000</td>\n",
       "      <td>July</td>\n",
       "      <td>340.00</td>\n",
       "      <td>47.00</td>\n",
       "      <td>75.00</td>\n",
       "      <td>14,003.64</td>\n",
       "      <td>52</td>\n",
       "      <td>NaT</td>\n",
       "      <td>Краснодар</td>\n",
       "      <td>Рафаил</td>\n",
       "      <td>Верещагин</td>\n",
       "      <td>2018-05-25</td>\n",
       "      <td>ultra</td>\n",
       "      <td>1000</td>\n",
       "      <td>30720</td>\n",
       "      <td>3000</td>\n",
       "      <td>1950</td>\n",
       "      <td>150</td>\n",
       "      <td>1</td>\n",
       "      <td>1</td>\n",
       "    </tr>\n",
       "    <tr>\n",
       "      <th>3</th>\n",
       "      <td>1000</td>\n",
       "      <td>June</td>\n",
       "      <td>172.00</td>\n",
       "      <td>43.00</td>\n",
       "      <td>60.00</td>\n",
       "      <td>23,233.77</td>\n",
       "      <td>52</td>\n",
       "      <td>NaT</td>\n",
       "      <td>Краснодар</td>\n",
       "      <td>Рафаил</td>\n",
       "      <td>Верещагин</td>\n",
       "      <td>2018-05-25</td>\n",
       "      <td>ultra</td>\n",
       "      <td>1000</td>\n",
       "      <td>30720</td>\n",
       "      <td>3000</td>\n",
       "      <td>1950</td>\n",
       "      <td>150</td>\n",
       "      <td>1</td>\n",
       "      <td>1</td>\n",
       "    </tr>\n",
       "    <tr>\n",
       "      <th>4</th>\n",
       "      <td>1000</td>\n",
       "      <td>May</td>\n",
       "      <td>159.00</td>\n",
       "      <td>22.00</td>\n",
       "      <td>22.00</td>\n",
       "      <td>2,253.49</td>\n",
       "      <td>52</td>\n",
       "      <td>NaT</td>\n",
       "      <td>Краснодар</td>\n",
       "      <td>Рафаил</td>\n",
       "      <td>Верещагин</td>\n",
       "      <td>2018-05-25</td>\n",
       "      <td>ultra</td>\n",
       "      <td>1000</td>\n",
       "      <td>30720</td>\n",
       "      <td>3000</td>\n",
       "      <td>1950</td>\n",
       "      <td>150</td>\n",
       "      <td>1</td>\n",
       "      <td>1</td>\n",
       "    </tr>\n",
       "  </tbody>\n",
       "</table>\n",
       "</div>"
      ],
      "text/plain": [
       "   user_id     month  month_calls_duration  calls_total_in_month  \\\n",
       "0     1000    August                408.00                 52.00   \n",
       "1     1000  December                333.00                 46.00   \n",
       "2     1000      July                340.00                 47.00   \n",
       "3     1000      June                172.00                 43.00   \n",
       "4     1000       May                159.00                 22.00   \n",
       "\n",
       "   sms_total_in_month  mb_total_in_month  age churn_date       city  \\\n",
       "0               81.00          14,055.93   52        NaT  Краснодар   \n",
       "1               70.00           9,817.61   52        NaT  Краснодар   \n",
       "2               75.00          14,003.64   52        NaT  Краснодар   \n",
       "3               60.00          23,233.77   52        NaT  Краснодар   \n",
       "4               22.00           2,253.49   52        NaT  Краснодар   \n",
       "\n",
       "  first_name  last_name   reg_date tariff_name  messages_included  \\\n",
       "0     Рафаил  Верещагин 2018-05-25       ultra               1000   \n",
       "1     Рафаил  Верещагин 2018-05-25       ultra               1000   \n",
       "2     Рафаил  Верещагин 2018-05-25       ultra               1000   \n",
       "3     Рафаил  Верещагин 2018-05-25       ultra               1000   \n",
       "4     Рафаил  Верещагин 2018-05-25       ultra               1000   \n",
       "\n",
       "   mb_per_month_included  minutes_included  rub_monthly_fee  rub_per_gb  \\\n",
       "0                  30720              3000             1950         150   \n",
       "1                  30720              3000             1950         150   \n",
       "2                  30720              3000             1950         150   \n",
       "3                  30720              3000             1950         150   \n",
       "4                  30720              3000             1950         150   \n",
       "\n",
       "   rub_per_message  rub_per_minute  \n",
       "0                1               1  \n",
       "1                1               1  \n",
       "2                1               1  \n",
       "3                1               1  \n",
       "4                1               1  "
      ]
     },
     "execution_count": 62,
     "metadata": {},
     "output_type": "execute_result"
    }
   ],
   "source": [
    "df.head()"
   ]
  },
  {
   "cell_type": "code",
   "execution_count": 63,
   "metadata": {},
   "outputs": [],
   "source": [
    "df['above_the_tariff'] = df.apply(lambda x: above_the_tariff(x), axis=1)"
   ]
  },
  {
   "cell_type": "code",
   "execution_count": 64,
   "metadata": {},
   "outputs": [],
   "source": [
    "df['total_paid'] = df['rub_monthly_fee'] + df['above_the_tariff']"
   ]
  },
  {
   "cell_type": "code",
   "execution_count": 65,
   "metadata": {},
   "outputs": [
    {
     "data": {
      "text/html": [
       "<div>\n",
       "<style scoped>\n",
       "    .dataframe tbody tr th:only-of-type {\n",
       "        vertical-align: middle;\n",
       "    }\n",
       "\n",
       "    .dataframe tbody tr th {\n",
       "        vertical-align: top;\n",
       "    }\n",
       "\n",
       "    .dataframe thead th {\n",
       "        text-align: right;\n",
       "    }\n",
       "</style>\n",
       "<table border=\"1\" class=\"dataframe\">\n",
       "  <thead>\n",
       "    <tr style=\"text-align: right;\">\n",
       "      <th></th>\n",
       "      <th>user_id</th>\n",
       "      <th>month</th>\n",
       "      <th>month_calls_duration</th>\n",
       "      <th>calls_total_in_month</th>\n",
       "      <th>sms_total_in_month</th>\n",
       "      <th>mb_total_in_month</th>\n",
       "      <th>age</th>\n",
       "      <th>churn_date</th>\n",
       "      <th>city</th>\n",
       "      <th>first_name</th>\n",
       "      <th>last_name</th>\n",
       "      <th>reg_date</th>\n",
       "      <th>tariff_name</th>\n",
       "      <th>messages_included</th>\n",
       "      <th>mb_per_month_included</th>\n",
       "      <th>minutes_included</th>\n",
       "      <th>rub_monthly_fee</th>\n",
       "      <th>rub_per_gb</th>\n",
       "      <th>rub_per_message</th>\n",
       "      <th>rub_per_minute</th>\n",
       "      <th>above_the_tariff</th>\n",
       "      <th>total_paid</th>\n",
       "    </tr>\n",
       "  </thead>\n",
       "  <tbody>\n",
       "    <tr>\n",
       "      <th>1792</th>\n",
       "      <td>1286</td>\n",
       "      <td>December</td>\n",
       "      <td>739.00</td>\n",
       "      <td>95.00</td>\n",
       "      <td>68.00</td>\n",
       "      <td>35,108.07</td>\n",
       "      <td>19</td>\n",
       "      <td>NaT</td>\n",
       "      <td>Москва</td>\n",
       "      <td>Рашид</td>\n",
       "      <td>Троицкий</td>\n",
       "      <td>2018-11-27</td>\n",
       "      <td>smart</td>\n",
       "      <td>50</td>\n",
       "      <td>15360</td>\n",
       "      <td>500</td>\n",
       "      <td>550</td>\n",
       "      <td>200</td>\n",
       "      <td>3</td>\n",
       "      <td>3</td>\n",
       "      <td>4,771.00</td>\n",
       "      <td>5,321.00</td>\n",
       "    </tr>\n",
       "    <tr>\n",
       "      <th>1620</th>\n",
       "      <td>1261</td>\n",
       "      <td>December</td>\n",
       "      <td>1,074.00</td>\n",
       "      <td>141.00</td>\n",
       "      <td>22.00</td>\n",
       "      <td>32,650.91</td>\n",
       "      <td>46</td>\n",
       "      <td>NaT</td>\n",
       "      <td>Казань</td>\n",
       "      <td>Мадина</td>\n",
       "      <td>Пантелеева</td>\n",
       "      <td>2018-10-30</td>\n",
       "      <td>smart</td>\n",
       "      <td>50</td>\n",
       "      <td>15360</td>\n",
       "      <td>500</td>\n",
       "      <td>550</td>\n",
       "      <td>200</td>\n",
       "      <td>3</td>\n",
       "      <td>3</td>\n",
       "      <td>5,122.00</td>\n",
       "      <td>5,672.00</td>\n",
       "    </tr>\n",
       "    <tr>\n",
       "      <th>3105</th>\n",
       "      <td>1486</td>\n",
       "      <td>November</td>\n",
       "      <td>764.00</td>\n",
       "      <td>108.00</td>\n",
       "      <td>96.00</td>\n",
       "      <td>36,266.11</td>\n",
       "      <td>35</td>\n",
       "      <td>NaT</td>\n",
       "      <td>Нижний Новгород</td>\n",
       "      <td>Матвей</td>\n",
       "      <td>Моргунов</td>\n",
       "      <td>2018-10-31</td>\n",
       "      <td>smart</td>\n",
       "      <td>50</td>\n",
       "      <td>15360</td>\n",
       "      <td>500</td>\n",
       "      <td>550</td>\n",
       "      <td>200</td>\n",
       "      <td>3</td>\n",
       "      <td>3</td>\n",
       "      <td>5,130.00</td>\n",
       "      <td>5,680.00</td>\n",
       "    </tr>\n",
       "    <tr>\n",
       "      <th>259</th>\n",
       "      <td>1042</td>\n",
       "      <td>December</td>\n",
       "      <td>728.00</td>\n",
       "      <td>121.00</td>\n",
       "      <td>75.00</td>\n",
       "      <td>37,165.69</td>\n",
       "      <td>42</td>\n",
       "      <td>NaT</td>\n",
       "      <td>Хабаровск</td>\n",
       "      <td>Константин</td>\n",
       "      <td>Добрынин</td>\n",
       "      <td>2018-11-25</td>\n",
       "      <td>smart</td>\n",
       "      <td>50</td>\n",
       "      <td>15360</td>\n",
       "      <td>500</td>\n",
       "      <td>550</td>\n",
       "      <td>200</td>\n",
       "      <td>3</td>\n",
       "      <td>3</td>\n",
       "      <td>5,159.00</td>\n",
       "      <td>5,709.00</td>\n",
       "    </tr>\n",
       "    <tr>\n",
       "      <th>3104</th>\n",
       "      <td>1486</td>\n",
       "      <td>December</td>\n",
       "      <td>1,007.00</td>\n",
       "      <td>133.00</td>\n",
       "      <td>83.00</td>\n",
       "      <td>38,552.45</td>\n",
       "      <td>35</td>\n",
       "      <td>NaT</td>\n",
       "      <td>Нижний Новгород</td>\n",
       "      <td>Матвей</td>\n",
       "      <td>Моргунов</td>\n",
       "      <td>2018-10-31</td>\n",
       "      <td>smart</td>\n",
       "      <td>50</td>\n",
       "      <td>15360</td>\n",
       "      <td>500</td>\n",
       "      <td>550</td>\n",
       "      <td>200</td>\n",
       "      <td>3</td>\n",
       "      <td>3</td>\n",
       "      <td>6,220.00</td>\n",
       "      <td>6,770.00</td>\n",
       "    </tr>\n",
       "  </tbody>\n",
       "</table>\n",
       "</div>"
      ],
      "text/plain": [
       "      user_id     month  month_calls_duration  calls_total_in_month  \\\n",
       "1792     1286  December                739.00                 95.00   \n",
       "1620     1261  December              1,074.00                141.00   \n",
       "3105     1486  November                764.00                108.00   \n",
       "259      1042  December                728.00                121.00   \n",
       "3104     1486  December              1,007.00                133.00   \n",
       "\n",
       "      sms_total_in_month  mb_total_in_month  age churn_date             city  \\\n",
       "1792               68.00          35,108.07   19        NaT           Москва   \n",
       "1620               22.00          32,650.91   46        NaT           Казань   \n",
       "3105               96.00          36,266.11   35        NaT  Нижний Новгород   \n",
       "259                75.00          37,165.69   42        NaT        Хабаровск   \n",
       "3104               83.00          38,552.45   35        NaT  Нижний Новгород   \n",
       "\n",
       "      first_name   last_name   reg_date tariff_name  messages_included  \\\n",
       "1792       Рашид    Троицкий 2018-11-27       smart                 50   \n",
       "1620      Мадина  Пантелеева 2018-10-30       smart                 50   \n",
       "3105      Матвей    Моргунов 2018-10-31       smart                 50   \n",
       "259   Константин    Добрынин 2018-11-25       smart                 50   \n",
       "3104      Матвей    Моргунов 2018-10-31       smart                 50   \n",
       "\n",
       "      mb_per_month_included  minutes_included  rub_monthly_fee  rub_per_gb  \\\n",
       "1792                  15360               500              550         200   \n",
       "1620                  15360               500              550         200   \n",
       "3105                  15360               500              550         200   \n",
       "259                   15360               500              550         200   \n",
       "3104                  15360               500              550         200   \n",
       "\n",
       "      rub_per_message  rub_per_minute  above_the_tariff  total_paid  \n",
       "1792                3               3          4,771.00    5,321.00  \n",
       "1620                3               3          5,122.00    5,672.00  \n",
       "3105                3               3          5,130.00    5,680.00  \n",
       "259                 3               3          5,159.00    5,709.00  \n",
       "3104                3               3          6,220.00    6,770.00  "
      ]
     },
     "execution_count": 65,
     "metadata": {},
     "output_type": "execute_result"
    }
   ],
   "source": [
    "df.sort_values(by='total_paid').tail()"
   ]
  },
  {
   "cell_type": "markdown",
   "metadata": {},
   "source": [
    "Шаг 3. \n",
    "\n",
    "Проанализируйте данные\n",
    "\n",
    "Опишите поведение клиентов оператора, исходя из выборки. Сколько минут разговора, сколько сообщений и какой объём интернет-трафика требуется пользователям каждого тарифа в месяц? Посчитайте среднее количество, дисперсию и стандартное отклонение. Постройте гистограммы. Опишите распределения."
   ]
  },
  {
   "cell_type": "code",
   "execution_count": 66,
   "metadata": {},
   "outputs": [
    {
     "data": {
      "text/html": [
       "<div>\n",
       "<style scoped>\n",
       "    .dataframe tbody tr th:only-of-type {\n",
       "        vertical-align: middle;\n",
       "    }\n",
       "\n",
       "    .dataframe tbody tr th {\n",
       "        vertical-align: top;\n",
       "    }\n",
       "\n",
       "    .dataframe thead th {\n",
       "        text-align: right;\n",
       "    }\n",
       "</style>\n",
       "<table border=\"1\" class=\"dataframe\">\n",
       "  <thead>\n",
       "    <tr style=\"text-align: right;\">\n",
       "      <th></th>\n",
       "      <th>above_the_tariff</th>\n",
       "      <th>total_paid</th>\n",
       "    </tr>\n",
       "  </thead>\n",
       "  <tbody>\n",
       "    <tr>\n",
       "      <th>count</th>\n",
       "      <td>3,214.00</td>\n",
       "      <td>3,214.00</td>\n",
       "    </tr>\n",
       "    <tr>\n",
       "      <th>mean</th>\n",
       "      <td>550.02</td>\n",
       "      <td>1,529.08</td>\n",
       "    </tr>\n",
       "    <tr>\n",
       "      <th>std</th>\n",
       "      <td>767.77</td>\n",
       "      <td>798.25</td>\n",
       "    </tr>\n",
       "    <tr>\n",
       "      <th>min</th>\n",
       "      <td>0.00</td>\n",
       "      <td>550.00</td>\n",
       "    </tr>\n",
       "    <tr>\n",
       "      <th>25%</th>\n",
       "      <td>0.00</td>\n",
       "      <td>750.00</td>\n",
       "    </tr>\n",
       "    <tr>\n",
       "      <th>50%</th>\n",
       "      <td>163.50</td>\n",
       "      <td>1,653.50</td>\n",
       "    </tr>\n",
       "    <tr>\n",
       "      <th>75%</th>\n",
       "      <td>938.00</td>\n",
       "      <td>1,950.00</td>\n",
       "    </tr>\n",
       "    <tr>\n",
       "      <th>max</th>\n",
       "      <td>6,220.00</td>\n",
       "      <td>6,770.00</td>\n",
       "    </tr>\n",
       "  </tbody>\n",
       "</table>\n",
       "</div>"
      ],
      "text/plain": [
       "       above_the_tariff  total_paid\n",
       "count          3,214.00    3,214.00\n",
       "mean             550.02    1,529.08\n",
       "std              767.77      798.25\n",
       "min                0.00      550.00\n",
       "25%                0.00      750.00\n",
       "50%              163.50    1,653.50\n",
       "75%              938.00    1,950.00\n",
       "max            6,220.00    6,770.00"
      ]
     },
     "execution_count": 66,
     "metadata": {},
     "output_type": "execute_result"
    }
   ],
   "source": [
    "df[['above_the_tariff', 'total_paid']].describe()"
   ]
  },
  {
   "cell_type": "code",
   "execution_count": 67,
   "metadata": {},
   "outputs": [
    {
     "data": {
      "text/plain": [
       "<AxesSubplot:ylabel='Frequency'>"
      ]
     },
     "execution_count": 67,
     "metadata": {},
     "output_type": "execute_result"
    },
    {
     "data": {
      "image/png": "[encoded data removed]",
      "text/plain": [
       "<Figure size 432x288 with 1 Axes>"
      ]
     },
     "metadata": {
      "needs_background": "light"
     },
     "output_type": "display_data"
    }
   ],
   "source": [
    "df[df['tariff_name'] == 'ultra']['total_paid'].plot(kind='hist')"
   ]
  },
  {
   "cell_type": "markdown",
   "metadata": {},
   "source": [
    "Судя по графику в Ultra основную выручку приносит абонентская плата, так же есть небольшие доборы по дополнительным услугам"
   ]
  },
  {
   "cell_type": "code",
   "execution_count": 68,
   "metadata": {},
   "outputs": [
    {
     "data": {
      "text/plain": [
       "<AxesSubplot:ylabel='Frequency'>"
      ]
     },
     "execution_count": 68,
     "metadata": {},
     "output_type": "execute_result"
    },
    {
     "data": {
      "image/png": "[encoded data removed]",
      "text/plain": [
       "<Figure size 432x288 with 1 Axes>"
      ]
     },
     "metadata": {
      "needs_background": "light"
     },
     "output_type": "display_data"
    }
   ],
   "source": [
    "df[df['tariff_name'] == 'smart']['total_paid'].plot(kind='hist', bins=10)"
   ]
  },
  {
   "cell_type": "code",
   "execution_count": 69,
   "metadata": {},
   "outputs": [
    {
     "data": {
      "text/html": [
       "<style  type=\"text/css\" >\n",
       "</style><table id=\"T_c2cd1_\" ><thead>    <tr>        <th class=\"blank level0\" ></th>        <th class=\"col_heading level0 col0\" colspan=\"4\">total_paid</th>    </tr>    <tr>        <th class=\"blank level1\" ></th>        <th class=\"col_heading level1 col0\" >median</th>        <th class=\"col_heading level1 col1\" >mean</th>        <th class=\"col_heading level1 col2\" >var</th>        <th class=\"col_heading level1 col3\" >std</th>    </tr>    <tr>        <th class=\"index_name level0\" >tariff_name</th>        <th class=\"blank\" ></th>        <th class=\"blank\" ></th>        <th class=\"blank\" ></th>        <th class=\"blank\" ></th>    </tr></thead><tbody>\n",
       "                <tr>\n",
       "                        <th id=\"T_c2cd1_level0_row0\" class=\"row_heading level0 row0\" >smart</th>\n",
       "                        <td id=\"T_c2cd1_row0_col0\" class=\"data row0 col0\" >1023.00</td>\n",
       "                        <td id=\"T_c2cd1_row0_col1\" class=\"data row0 col1\" >1289.97</td>\n",
       "                        <td id=\"T_c2cd1_row0_col2\" class=\"data row0 col2\" >669785.71</td>\n",
       "                        <td id=\"T_c2cd1_row0_col3\" class=\"data row0 col3\" >818.40</td>\n",
       "            </tr>\n",
       "            <tr>\n",
       "                        <th id=\"T_c2cd1_level0_row1\" class=\"row_heading level0 row1\" >ultra</th>\n",
       "                        <td id=\"T_c2cd1_row1_col0\" class=\"data row1 col0\" >1950.00</td>\n",
       "                        <td id=\"T_c2cd1_row1_col1\" class=\"data row1 col1\" >2070.15</td>\n",
       "                        <td id=\"T_c2cd1_row1_col2\" class=\"data row1 col2\" >141516.75</td>\n",
       "                        <td id=\"T_c2cd1_row1_col3\" class=\"data row1 col3\" >376.19</td>\n",
       "            </tr>\n",
       "    </tbody></table>"
      ],
      "text/plain": [
       "<pandas.io.formats.style.Styler at 0x7f7f152d6370>"
      ]
     },
     "execution_count": 69,
     "metadata": {},
     "output_type": "execute_result"
    }
   ],
   "source": [
    "df.groupby('tariff_name')\\\n",
    "  .agg({'total_paid': ['median', 'mean', 'var', 'std']})\\\n",
    "  .style.format('{:.2f}')"
   ]
  },
  {
   "cell_type": "markdown",
   "metadata": {},
   "source": [
    "\n",
    "Так же в smart,видимо в основном обоненская плата, но так же абоненты докупают или интернет или минуты "
   ]
  },
  {
   "cell_type": "code",
   "execution_count": 70,
   "metadata": {},
   "outputs": [
    {
     "data": {
      "text/html": [
       "<style  type=\"text/css\" >\n",
       "</style><table id=\"T_40766_\" ><thead>    <tr>        <th class=\"blank level0\" ></th>        <th class=\"col_heading level0 col0\" colspan=\"4\">month_calls_duration</th>    </tr>    <tr>        <th class=\"blank level1\" ></th>        <th class=\"col_heading level1 col0\" >median</th>        <th class=\"col_heading level1 col1\" >mean</th>        <th class=\"col_heading level1 col2\" >var</th>        <th class=\"col_heading level1 col3\" >std</th>    </tr>    <tr>        <th class=\"index_name level0\" >tariff_name</th>        <th class=\"blank\" ></th>        <th class=\"blank\" ></th>        <th class=\"blank\" ></th>        <th class=\"blank\" ></th>    </tr></thead><tbody>\n",
       "                <tr>\n",
       "                        <th id=\"T_40766_level0_row0\" class=\"row_heading level0 row0\" >smart</th>\n",
       "                        <td id=\"T_40766_row0_col0\" class=\"data row0 col0\" >422.00</td>\n",
       "                        <td id=\"T_40766_row0_col1\" class=\"data row0 col1\" >417.93</td>\n",
       "                        <td id=\"T_40766_row0_col2\" class=\"data row0 col2\" >36219.32</td>\n",
       "                        <td id=\"T_40766_row0_col3\" class=\"data row0 col3\" >190.31</td>\n",
       "            </tr>\n",
       "            <tr>\n",
       "                        <th id=\"T_40766_level0_row1\" class=\"row_heading level0 row1\" >ultra</th>\n",
       "                        <td id=\"T_40766_row1_col0\" class=\"data row1 col0\" >518.00</td>\n",
       "                        <td id=\"T_40766_row1_col1\" class=\"data row1 col1\" >526.62</td>\n",
       "                        <td id=\"T_40766_row1_col2\" class=\"data row1 col2\" >100873.63</td>\n",
       "                        <td id=\"T_40766_row1_col3\" class=\"data row1 col3\" >317.61</td>\n",
       "            </tr>\n",
       "    </tbody></table>"
      ],
      "text/plain": [
       "<pandas.io.formats.style.Styler at 0x7f7f150f12b0>"
      ]
     },
     "execution_count": 70,
     "metadata": {},
     "output_type": "execute_result"
    }
   ],
   "source": [
    "df.groupby('tariff_name')\\\n",
    "  .agg({'month_calls_duration': ['median', 'mean', 'var', 'std']})\\\n",
    "  .style.format('{:.2f}')"
   ]
  },
  {
   "cell_type": "code",
   "execution_count": 71,
   "metadata": {},
   "outputs": [
    {
     "data": {
      "text/plain": [
       "<AxesSubplot:ylabel='Frequency'>"
      ]
     },
     "execution_count": 71,
     "metadata": {},
     "output_type": "execute_result"
    },
    {
     "data": {
      "image/png": "[encoded data removed]",
      "text/plain": [
       "<Figure size 432x288 with 1 Axes>"
      ]
     },
     "metadata": {
      "needs_background": "light"
     },
     "output_type": "display_data"
    }
   ],
   "source": [
    "df[df['tariff_name'] == 'ultra']['month_calls_duration'].plot(kind='hist', bins=10)"
   ]
  },
  {
   "cell_type": "code",
   "execution_count": 72,
   "metadata": {},
   "outputs": [
    {
     "data": {
      "text/plain": [
       "<AxesSubplot:ylabel='Frequency'>"
      ]
     },
     "execution_count": 72,
     "metadata": {},
     "output_type": "execute_result"
    },
    {
     "data": {
      "image/png": "[encoded data removed]",
      "text/plain": [
       "<Figure size 432x288 with 1 Axes>"
      ]
     },
     "metadata": {
      "needs_background": "light"
     },
     "output_type": "display_data"
    }
   ],
   "source": [
    "df[df['tariff_name'] == 'smart']['month_calls_duration'].plot(kind='hist', bins=10)"
   ]
  },
  {
   "cell_type": "markdown",
   "metadata": {},
   "source": [
    " В smart в среднем выговаривают 422 минуты в месяц из 500 бесплатных, в ultra в среднем выговаривают 518 минут в месяц из 3000 "
   ]
  },
  {
   "cell_type": "code",
   "execution_count": 73,
   "metadata": {},
   "outputs": [
    {
     "data": {
      "text/html": [
       "<style  type=\"text/css\" >\n",
       "</style><table id=\"T_77b86_\" ><thead>    <tr>        <th class=\"blank level0\" ></th>        <th class=\"col_heading level0 col0\" colspan=\"4\">mb_total_in_month</th>    </tr>    <tr>        <th class=\"blank level1\" ></th>        <th class=\"col_heading level1 col0\" >median</th>        <th class=\"col_heading level1 col1\" >mean</th>        <th class=\"col_heading level1 col2\" >var</th>        <th class=\"col_heading level1 col3\" >std</th>    </tr>    <tr>        <th class=\"index_name level0\" >tariff_name</th>        <th class=\"blank\" ></th>        <th class=\"blank\" ></th>        <th class=\"blank\" ></th>        <th class=\"blank\" ></th>    </tr></thead><tbody>\n",
       "                <tr>\n",
       "                        <th id=\"T_77b86_level0_row0\" class=\"row_heading level0 row0\" >smart</th>\n",
       "                        <td id=\"T_77b86_row0_col0\" class=\"data row0 col0\" >16506.84</td>\n",
       "                        <td id=\"T_77b86_row0_col1\" class=\"data row0 col1\" >16208.39</td>\n",
       "                        <td id=\"T_77b86_row0_col2\" class=\"data row0 col2\" >34462496.46</td>\n",
       "                        <td id=\"T_77b86_row0_col3\" class=\"data row0 col3\" >5870.48</td>\n",
       "            </tr>\n",
       "            <tr>\n",
       "                        <th id=\"T_77b86_level0_row1\" class=\"row_heading level0 row1\" >ultra</th>\n",
       "                        <td id=\"T_77b86_row1_col0\" class=\"data row1 col0\" >19308.01</td>\n",
       "                        <td id=\"T_77b86_row1_col1\" class=\"data row1 col1\" >19468.81</td>\n",
       "                        <td id=\"T_77b86_row1_col2\" class=\"data row1 col2\" >101751013.78</td>\n",
       "                        <td id=\"T_77b86_row1_col3\" class=\"data row1 col3\" >10087.17</td>\n",
       "            </tr>\n",
       "    </tbody></table>"
      ],
      "text/plain": [
       "<pandas.io.formats.style.Styler at 0x7f7f14ecb490>"
      ]
     },
     "execution_count": 73,
     "metadata": {},
     "output_type": "execute_result"
    }
   ],
   "source": [
    "df.groupby('tariff_name')\\\n",
    "  .agg({'mb_total_in_month': ['median', 'mean', 'var', 'std']})\\\n",
    "  .style.format('{:.2f}')"
   ]
  },
  {
   "cell_type": "code",
   "execution_count": 74,
   "metadata": {},
   "outputs": [
    {
     "data": {
      "text/plain": [
       "<AxesSubplot:ylabel='Frequency'>"
      ]
     },
     "execution_count": 74,
     "metadata": {},
     "output_type": "execute_result"
    },
    {
     "data": {
      "image/png": "[encoded data removed]",
      "text/plain": [
       "<Figure size 432x288 with 1 Axes>"
      ]
     },
     "metadata": {
      "needs_background": "light"
     },
     "output_type": "display_data"
    }
   ],
   "source": [
    "df[df['tariff_name'] == 'ultra']['mb_total_in_month'].plot(kind='hist', bins=10)"
   ]
  },
  {
   "cell_type": "code",
   "execution_count": 75,
   "metadata": {},
   "outputs": [
    {
     "data": {
      "text/plain": [
       "<AxesSubplot:ylabel='Frequency'>"
      ]
     },
     "execution_count": 75,
     "metadata": {},
     "output_type": "execute_result"
    },
    {
     "data": {
      "image/png": "[encoded data removed]",
      "text/plain": [
       "<Figure size 432x288 with 1 Axes>"
      ]
     },
     "metadata": {
      "needs_background": "light"
     },
     "output_type": "display_data"
    }
   ],
   "source": [
    "df[df['tariff_name'] == 'smart']['mb_total_in_month'].plot(kind='hist', bins=10)"
   ]
  },
  {
   "cell_type": "code",
   "execution_count": 76,
   "metadata": {},
   "outputs": [
    {
     "data": {
      "text/plain": [
       "<matplotlib.legend.Legend at 0x7f7f14dd1ca0>"
      ]
     },
     "execution_count": 76,
     "metadata": {},
     "output_type": "execute_result"
    },
    {
     "data": {
      "image/png": "[encoded data removed]",
      "text/plain": [
       "<Figure size 432x288 with 1 Axes>"
      ]
     },
     "metadata": {
      "needs_background": "light"
     },
     "output_type": "display_data"
    }
   ],
   "source": [
    "# Код ревьюера\n",
    "\n",
    "df.loc[df['tariff_name'] == 'ultra','mb_total_in_month'].hist(bins=30, alpha=0.6, color='c', label='ultra', density=True)\n",
    "df.loc[df['tariff_name'] == 'smart','mb_total_in_month'].hist(bins=30, alpha=0.6, color='purple', label='smart', density=True)\n",
    "plt.legend()"
   ]
  },
  {
   "cell_type": "markdown",
   "metadata": {},
   "source": [
    "В smart в среднем используют 17 гб интернета, а в абонентскую плату входит 15,немного докупают, в ultra в среднем используют 20гб , но есть не малое количество людей, которые выходят за рамки 30гб трафика"
   ]
  },
  {
   "cell_type": "code",
   "execution_count": 77,
   "metadata": {},
   "outputs": [
    {
     "data": {
      "text/html": [
       "<style  type=\"text/css\" >\n",
       "</style><table id=\"T_94c76_\" ><thead>    <tr>        <th class=\"blank level0\" ></th>        <th class=\"col_heading level0 col0\" colspan=\"4\">sms_total_in_month</th>    </tr>    <tr>        <th class=\"blank level1\" ></th>        <th class=\"col_heading level1 col0\" >median</th>        <th class=\"col_heading level1 col1\" >mean</th>        <th class=\"col_heading level1 col2\" >var</th>        <th class=\"col_heading level1 col3\" >std</th>    </tr>    <tr>        <th class=\"index_name level0\" >tariff_name</th>        <th class=\"blank\" ></th>        <th class=\"blank\" ></th>        <th class=\"blank\" ></th>        <th class=\"blank\" ></th>    </tr></thead><tbody>\n",
       "                <tr>\n",
       "                        <th id=\"T_94c76_level0_row0\" class=\"row_heading level0 row0\" >smart</th>\n",
       "                        <td id=\"T_94c76_row0_col0\" class=\"data row0 col0\" >28.00</td>\n",
       "                        <td id=\"T_94c76_row0_col1\" class=\"data row0 col1\" >33.38</td>\n",
       "                        <td id=\"T_94c76_row0_col2\" class=\"data row0 col2\" >796.81</td>\n",
       "                        <td id=\"T_94c76_row0_col3\" class=\"data row0 col3\" >28.23</td>\n",
       "            </tr>\n",
       "            <tr>\n",
       "                        <th id=\"T_94c76_level0_row1\" class=\"row_heading level0 row1\" >ultra</th>\n",
       "                        <td id=\"T_94c76_row1_col0\" class=\"data row1 col0\" >38.00</td>\n",
       "                        <td id=\"T_94c76_row1_col1\" class=\"data row1 col1\" >49.36</td>\n",
       "                        <td id=\"T_94c76_row1_col2\" class=\"data row1 col2\" >2285.27</td>\n",
       "                        <td id=\"T_94c76_row1_col3\" class=\"data row1 col3\" >47.80</td>\n",
       "            </tr>\n",
       "    </tbody></table>"
      ],
      "text/plain": [
       "<pandas.io.formats.style.Styler at 0x7f7f14e11fd0>"
      ]
     },
     "execution_count": 77,
     "metadata": {},
     "output_type": "execute_result"
    }
   ],
   "source": [
    "df.groupby('tariff_name')\\\n",
    "  .agg({'sms_total_in_month': ['median', 'mean', 'var', 'std']})\\\n",
    "  .style.format('{:.2f}')"
   ]
  },
  {
   "cell_type": "code",
   "execution_count": 78,
   "metadata": {},
   "outputs": [
    {
     "data": {
      "text/plain": [
       "<AxesSubplot:ylabel='Frequency'>"
      ]
     },
     "execution_count": 78,
     "metadata": {},
     "output_type": "execute_result"
    },
    {
     "data": {
      "image/png": "[encoded data removed]",
      "text/plain": [
       "<Figure size 432x288 with 1 Axes>"
      ]
     },
     "metadata": {
      "needs_background": "light"
     },
     "output_type": "display_data"
    }
   ],
   "source": [
    "df[df['tariff_name'] == 'ultra']['sms_total_in_month'].plot(kind='hist', bins=10)"
   ]
  },
  {
   "cell_type": "code",
   "execution_count": 79,
   "metadata": {},
   "outputs": [
    {
     "data": {
      "text/plain": [
       "<AxesSubplot:ylabel='Frequency'>"
      ]
     },
     "execution_count": 79,
     "metadata": {},
     "output_type": "execute_result"
    },
    {
     "data": {
      "image/png": "[encoded data removed]",
      "text/plain": [
       "<Figure size 432x288 with 1 Axes>"
      ]
     },
     "metadata": {
      "needs_background": "light"
     },
     "output_type": "display_data"
    }
   ],
   "source": [
    "df[df['tariff_name'] == 'smart']['sms_total_in_month'].plot(kind='hist', bins=10)"
   ]
  },
  {
   "cell_type": "markdown",
   "metadata": {},
   "source": [
    "В smart в среднем используют 33 смс в месяц из 50 бесплатных, в ultra из 1000 бесплатных смс используют только 49 смс в среднем"
   ]
  },
  {
   "cell_type": "markdown",
   "metadata": {},
   "source": [
    "Можно сделать вывод, что большим спросом по тарифам пользуется интернет и минуты разговора(и то не сильно), \n",
    "на смс вообще спроса очень мало, в нынешнее время люди привыкли общаться через интернет"
   ]
  },
  {
   "cell_type": "markdown",
   "metadata": {},
   "source": [
    "Шаг 4. \n",
    "\n",
    "Проверим гипотезы\n",
    "\n",
    "средняя выручка пользователей тарифов «Ультра» и «Смарт» различаются;\n",
    "\n",
    "средняя выручка пользователей из Москвы отличается от выручки пользователей из других регионов.\n",
    "\n",
    "Пороговое значение alpha задайте самостоятельно.\n",
    "\n",
    "Поясните:\n",
    "\n",
    "как вы формулировали нулевую и альтернативную гипотезы;\n",
    "\n",
    "какой критерий использовали для проверки гипотез и почему."
   ]
  },
  {
   "cell_type": "code",
   "execution_count": 80,
   "metadata": {},
   "outputs": [],
   "source": [
    "#Напишем функцию по устранению аномалий\n",
    "def delete_outliers(df, column, graphic=0, x = 10, y = 10):\n",
    "    q1 = df[column].quantile(0.25)\n",
    "    q3 = df[column].quantile(0.75)\n",
    "    igr = q3 - q1\n",
    "    igr_test = (df[column] >=(q1 - 1.5 * igr)) & (df[column] <= (q3 +1.5 * igr))\n",
    "    if graphic == 1:\n",
    "        return df.loc[igr_test].boxplot([column], figsize=(x,y))\n",
    "    else:\n",
    "        return df.loc[igr_test]"
   ]
  },
  {
   "cell_type": "markdown",
   "metadata": {},
   "source": [
    "Сформулируем гипотезы:\n",
    "\n",
    "-H0: срелние показатели по выручкам пользователей тарифов \"Ультра\" и \"Смарт\" не различается\n",
    "\n",
    "-H1: срелние показатели по выручкам пользователей тарифов \"Ультра\" и \"Смарт\" различается"
   ]
  },
  {
   "cell_type": "code",
   "execution_count": 81,
   "metadata": {},
   "outputs": [
    {
     "data": {
      "text/html": [
       "<div>\n",
       "<style scoped>\n",
       "    .dataframe tbody tr th:only-of-type {\n",
       "        vertical-align: middle;\n",
       "    }\n",
       "\n",
       "    .dataframe tbody tr th {\n",
       "        vertical-align: top;\n",
       "    }\n",
       "\n",
       "    .dataframe thead th {\n",
       "        text-align: right;\n",
       "    }\n",
       "</style>\n",
       "<table border=\"1\" class=\"dataframe\">\n",
       "  <thead>\n",
       "    <tr style=\"text-align: right;\">\n",
       "      <th></th>\n",
       "      <th>user_id</th>\n",
       "      <th>month</th>\n",
       "      <th>month_calls_duration</th>\n",
       "      <th>calls_total_in_month</th>\n",
       "      <th>sms_total_in_month</th>\n",
       "      <th>mb_total_in_month</th>\n",
       "      <th>age</th>\n",
       "      <th>churn_date</th>\n",
       "      <th>city</th>\n",
       "      <th>first_name</th>\n",
       "      <th>last_name</th>\n",
       "      <th>reg_date</th>\n",
       "      <th>tariff_name</th>\n",
       "      <th>messages_included</th>\n",
       "      <th>mb_per_month_included</th>\n",
       "      <th>minutes_included</th>\n",
       "      <th>rub_monthly_fee</th>\n",
       "      <th>rub_per_gb</th>\n",
       "      <th>rub_per_message</th>\n",
       "      <th>rub_per_minute</th>\n",
       "      <th>above_the_tariff</th>\n",
       "      <th>total_paid</th>\n",
       "    </tr>\n",
       "  </thead>\n",
       "  <tbody>\n",
       "    <tr>\n",
       "      <th>0</th>\n",
       "      <td>1000</td>\n",
       "      <td>August</td>\n",
       "      <td>408.00</td>\n",
       "      <td>52.00</td>\n",
       "      <td>81.00</td>\n",
       "      <td>14,055.93</td>\n",
       "      <td>52</td>\n",
       "      <td>NaT</td>\n",
       "      <td>Краснодар</td>\n",
       "      <td>Рафаил</td>\n",
       "      <td>Верещагин</td>\n",
       "      <td>2018-05-25</td>\n",
       "      <td>ultra</td>\n",
       "      <td>1000</td>\n",
       "      <td>30720</td>\n",
       "      <td>3000</td>\n",
       "      <td>1950</td>\n",
       "      <td>150</td>\n",
       "      <td>1</td>\n",
       "      <td>1</td>\n",
       "      <td>0.00</td>\n",
       "      <td>1,950.00</td>\n",
       "    </tr>\n",
       "    <tr>\n",
       "      <th>1</th>\n",
       "      <td>1000</td>\n",
       "      <td>December</td>\n",
       "      <td>333.00</td>\n",
       "      <td>46.00</td>\n",
       "      <td>70.00</td>\n",
       "      <td>9,817.61</td>\n",
       "      <td>52</td>\n",
       "      <td>NaT</td>\n",
       "      <td>Краснодар</td>\n",
       "      <td>Рафаил</td>\n",
       "      <td>Верещагин</td>\n",
       "      <td>2018-05-25</td>\n",
       "      <td>ultra</td>\n",
       "      <td>1000</td>\n",
       "      <td>30720</td>\n",
       "      <td>3000</td>\n",
       "      <td>1950</td>\n",
       "      <td>150</td>\n",
       "      <td>1</td>\n",
       "      <td>1</td>\n",
       "      <td>0.00</td>\n",
       "      <td>1,950.00</td>\n",
       "    </tr>\n",
       "    <tr>\n",
       "      <th>2</th>\n",
       "      <td>1000</td>\n",
       "      <td>July</td>\n",
       "      <td>340.00</td>\n",
       "      <td>47.00</td>\n",
       "      <td>75.00</td>\n",
       "      <td>14,003.64</td>\n",
       "      <td>52</td>\n",
       "      <td>NaT</td>\n",
       "      <td>Краснодар</td>\n",
       "      <td>Рафаил</td>\n",
       "      <td>Верещагин</td>\n",
       "      <td>2018-05-25</td>\n",
       "      <td>ultra</td>\n",
       "      <td>1000</td>\n",
       "      <td>30720</td>\n",
       "      <td>3000</td>\n",
       "      <td>1950</td>\n",
       "      <td>150</td>\n",
       "      <td>1</td>\n",
       "      <td>1</td>\n",
       "      <td>0.00</td>\n",
       "      <td>1,950.00</td>\n",
       "    </tr>\n",
       "    <tr>\n",
       "      <th>3</th>\n",
       "      <td>1000</td>\n",
       "      <td>June</td>\n",
       "      <td>172.00</td>\n",
       "      <td>43.00</td>\n",
       "      <td>60.00</td>\n",
       "      <td>23,233.77</td>\n",
       "      <td>52</td>\n",
       "      <td>NaT</td>\n",
       "      <td>Краснодар</td>\n",
       "      <td>Рафаил</td>\n",
       "      <td>Верещагин</td>\n",
       "      <td>2018-05-25</td>\n",
       "      <td>ultra</td>\n",
       "      <td>1000</td>\n",
       "      <td>30720</td>\n",
       "      <td>3000</td>\n",
       "      <td>1950</td>\n",
       "      <td>150</td>\n",
       "      <td>1</td>\n",
       "      <td>1</td>\n",
       "      <td>0.00</td>\n",
       "      <td>1,950.00</td>\n",
       "    </tr>\n",
       "    <tr>\n",
       "      <th>4</th>\n",
       "      <td>1000</td>\n",
       "      <td>May</td>\n",
       "      <td>159.00</td>\n",
       "      <td>22.00</td>\n",
       "      <td>22.00</td>\n",
       "      <td>2,253.49</td>\n",
       "      <td>52</td>\n",
       "      <td>NaT</td>\n",
       "      <td>Краснодар</td>\n",
       "      <td>Рафаил</td>\n",
       "      <td>Верещагин</td>\n",
       "      <td>2018-05-25</td>\n",
       "      <td>ultra</td>\n",
       "      <td>1000</td>\n",
       "      <td>30720</td>\n",
       "      <td>3000</td>\n",
       "      <td>1950</td>\n",
       "      <td>150</td>\n",
       "      <td>1</td>\n",
       "      <td>1</td>\n",
       "      <td>0.00</td>\n",
       "      <td>1,950.00</td>\n",
       "    </tr>\n",
       "  </tbody>\n",
       "</table>\n",
       "</div>"
      ],
      "text/plain": [
       "   user_id     month  month_calls_duration  calls_total_in_month  \\\n",
       "0     1000    August                408.00                 52.00   \n",
       "1     1000  December                333.00                 46.00   \n",
       "2     1000      July                340.00                 47.00   \n",
       "3     1000      June                172.00                 43.00   \n",
       "4     1000       May                159.00                 22.00   \n",
       "\n",
       "   sms_total_in_month  mb_total_in_month  age churn_date       city  \\\n",
       "0               81.00          14,055.93   52        NaT  Краснодар   \n",
       "1               70.00           9,817.61   52        NaT  Краснодар   \n",
       "2               75.00          14,003.64   52        NaT  Краснодар   \n",
       "3               60.00          23,233.77   52        NaT  Краснодар   \n",
       "4               22.00           2,253.49   52        NaT  Краснодар   \n",
       "\n",
       "  first_name  last_name   reg_date tariff_name  messages_included  \\\n",
       "0     Рафаил  Верещагин 2018-05-25       ultra               1000   \n",
       "1     Рафаил  Верещагин 2018-05-25       ultra               1000   \n",
       "2     Рафаил  Верещагин 2018-05-25       ultra               1000   \n",
       "3     Рафаил  Верещагин 2018-05-25       ultra               1000   \n",
       "4     Рафаил  Верещагин 2018-05-25       ultra               1000   \n",
       "\n",
       "   mb_per_month_included  minutes_included  rub_monthly_fee  rub_per_gb  \\\n",
       "0                  30720              3000             1950         150   \n",
       "1                  30720              3000             1950         150   \n",
       "2                  30720              3000             1950         150   \n",
       "3                  30720              3000             1950         150   \n",
       "4                  30720              3000             1950         150   \n",
       "\n",
       "   rub_per_message  rub_per_minute  above_the_tariff  total_paid  \n",
       "0                1               1              0.00    1,950.00  \n",
       "1                1               1              0.00    1,950.00  \n",
       "2                1               1              0.00    1,950.00  \n",
       "3                1               1              0.00    1,950.00  \n",
       "4                1               1              0.00    1,950.00  "
      ]
     },
     "execution_count": 81,
     "metadata": {},
     "output_type": "execute_result"
    }
   ],
   "source": [
    "df.head()"
   ]
  },
  {
   "cell_type": "code",
   "execution_count": 82,
   "metadata": {},
   "outputs": [],
   "source": [
    "ultra = df[df['tariff_name'] == 'ultra']\n",
    "smart = df[df['tariff_name'] == 'smart']"
   ]
  },
  {
   "cell_type": "code",
   "execution_count": 83,
   "metadata": {},
   "outputs": [],
   "source": [
    "ultra = delete_outliers(ultra, 'total_paid', 0)\n",
    "ultra = ultra['total_paid']"
   ]
  },
  {
   "cell_type": "code",
   "execution_count": 84,
   "metadata": {},
   "outputs": [],
   "source": [
    "smart = delete_outliers(smart, 'total_paid', 0)\n",
    "smart = smart['total_paid']"
   ]
  },
  {
   "cell_type": "code",
   "execution_count": 85,
   "metadata": {},
   "outputs": [],
   "source": [
    "alpha = 0.05"
   ]
  },
  {
   "cell_type": "code",
   "execution_count": 86,
   "metadata": {},
   "outputs": [],
   "source": [
    "results = st.ttest_ind(ultra, smart)"
   ]
  },
  {
   "cell_type": "code",
   "execution_count": 87,
   "metadata": {},
   "outputs": [
    {
     "name": "stdout",
     "output_type": "stream",
     "text": [
      "р-значение: 6.199325734910118e-155\n",
      "Отвергаем нулевую гипотезу\n"
     ]
    }
   ],
   "source": [
    "print('р-значение:', results.pvalue)\n",
    "\n",
    "if (results.pvalue < alpha):\n",
    "    print('Отвергаем нулевую гипотезу')\n",
    "else: \n",
    "    print('Не получилось отвергнуть нулевую гипотезу')"
   ]
  },
  {
   "cell_type": "code",
   "execution_count": 88,
   "metadata": {},
   "outputs": [
    {
     "name": "stdout",
     "output_type": "stream",
     "text": [
      "703.8416742493175\n"
     ]
    }
   ],
   "source": [
    "odds = ultra.mean() - smart.mean()\n",
    "print(odds)"
   ]
  },
  {
   "cell_type": "markdown",
   "metadata": {},
   "source": [
    "Выручка тарифов различается по средним показателям примерно на 700 рублей"
   ]
  },
  {
   "cell_type": "markdown",
   "metadata": {},
   "source": [
    "Гипотеза о равенстве средних двух генеральных совокупностей\n",
    "\n",
    "-Н0: средняя выручка пользователей из Москвы не отличается от выручки пользователей из других регионов \n",
    "\n",
    "-H1: средняя выручка пользователей из Москвы отличается от выручки пользователей из других регионов "
   ]
  },
  {
   "cell_type": "code",
   "execution_count": 89,
   "metadata": {},
   "outputs": [
    {
     "data": {
      "text/plain": [
       "array(['Краснодар', 'Москва', 'Стерлитамак', 'Новокузнецк',\n",
       "       'Набережные Челны', 'Ульяновск', 'Челябинск', 'Пермь', 'Тюмень',\n",
       "       'Самара', 'Санкт-Петербург', 'Иваново', 'Чебоксары', 'Омск', 'Уфа',\n",
       "       'Томск', 'Чита', 'Мурманск', 'Петрозаводск', 'Тверь',\n",
       "       'Екатеринбург', 'Махачкала', 'Вологда', 'Череповец', 'Ярославль',\n",
       "       'Сочи', 'Хабаровск', 'Ставрополь', 'Рязань', 'Улан-Удэ', 'Тула',\n",
       "       'Саратов', 'Ростов-на-Дону', 'Казань', 'Иркутск', 'Курск',\n",
       "       'Калуга', 'Якутск', 'Астрахань', 'Химки', 'Владикавказ',\n",
       "       'Волгоград', 'Саранск', 'Ижевск', 'Новосибирск', 'Брянск',\n",
       "       'Тольятти', 'Нижний Тагил', 'Орёл', 'Белгород', 'Воронеж',\n",
       "       'Курган', 'Барнаул', 'Красноярск', 'Архангельск', 'Липецк',\n",
       "       'Кемерово', 'Киров', 'Сургут', 'Пенза', 'Волжский', 'Магнитогорск',\n",
       "       'Нижний Новгород', 'Кострома', 'Владивосток', 'Тамбов', 'Балашиха',\n",
       "       'Севастополь', 'Калининград', 'Оренбург', 'Смоленск',\n",
       "       'Нижневартовск', 'Владимир', 'Новороссийск', 'Грозный', 'Подольск'],\n",
       "      dtype=object)"
      ]
     },
     "execution_count": 89,
     "metadata": {},
     "output_type": "execute_result"
    }
   ],
   "source": [
    "df['city'].unique()"
   ]
  },
  {
   "cell_type": "code",
   "execution_count": 90,
   "metadata": {},
   "outputs": [],
   "source": [
    "df['region'] = np.where(df['city'] == 'Москва', 'Москва', 'Провинция')"
   ]
  },
  {
   "cell_type": "code",
   "execution_count": 91,
   "metadata": {},
   "outputs": [],
   "source": [
    "moscow = df[df['region'] == 'Москва']\n",
    "province = df[df['region'] == 'Провинция']"
   ]
  },
  {
   "cell_type": "code",
   "execution_count": 92,
   "metadata": {},
   "outputs": [],
   "source": [
    "moscow = delete_outliers(moscow, 'total_paid', 0)\n",
    "moscow = moscow['total_paid']"
   ]
  },
  {
   "cell_type": "code",
   "execution_count": 93,
   "metadata": {},
   "outputs": [],
   "source": [
    "province = delete_outliers(province, 'total_paid', 0)\n",
    "province = province['total_paid']"
   ]
  },
  {
   "cell_type": "code",
   "execution_count": 94,
   "metadata": {},
   "outputs": [],
   "source": [
    "alpha = 0.05"
   ]
  },
  {
   "cell_type": "code",
   "execution_count": 95,
   "metadata": {},
   "outputs": [],
   "source": [
    "results = st.ttest_ind(moscow, province)"
   ]
  },
  {
   "cell_type": "code",
   "execution_count": 96,
   "metadata": {},
   "outputs": [
    {
     "name": "stdout",
     "output_type": "stream",
     "text": [
      "р-значение: 0.29404256281786206\n",
      "Не получилось отвергнуть нулевую гипотезу\n"
     ]
    }
   ],
   "source": [
    "print('р-значение:', results.pvalue)\n",
    "\n",
    "if (results.pvalue < alpha):\n",
    "    print('Отвергаем нулевую гипотезу')\n",
    "else: \n",
    "    print('Не получилось отвергнуть нулевую гипотезу')"
   ]
  },
  {
   "cell_type": "markdown",
   "metadata": {},
   "source": [
    "Выручка в Москве и в регионах не отличается"
   ]
  },
  {
   "cell_type": "markdown",
   "metadata": {},
   "source": [
    "# Общий вывод"
   ]
  },
  {
   "cell_type": "markdown",
   "metadata": {},
   "source": [
    "   - Использование смс, ни в smart(33 из 50) ни в ultra (49 из 1000) спросом не пользуeтся.\n",
    "  \n",
    "   - Выручка в Москве и по регионам не отличается\n",
    "    \n",
    "   - Минуты входящие в абонентскую плату в тарифе smart пользователи почти выговаривают, по средним показателям 422 из 500. В тарифе ultra выговаривают не намного больше, в среднем 518 из 3000, что совсем не выгодно абоненту, но выгодно оператору. \n",
    "    \n",
    "   - Интернет и в одном и в другом тарифе пользуется огромным спросом, в тарифе smart используют в среднем 17ГБ в месяц, в абонентскую плату входит 15ГБ трафика, видимо дополнительные траты, которые мы увидели в графике идут как раз на него. В тарифе ultra в среднем используют 20ГБ трафика из входящих в тариф 30ГБ, но есть группы людей которым не хватает и 30ГБ входящего в тариф, а так же не малое количество людей не доходит и до среднего показателя по использованию трафика. Но по графикам тарифов четко видно разное поведение пользователей, если в тарифе ultra на графике более плавное распределение, то в smart пиковый показатель у среднего значения.\n",
    "    \n",
    "   - Средняя выручка по тарифу smart составляет 1289р, а абонентская плата всего 550р, пользователи добирают на дополнительные услуги более чем в 2 раза от абонентской платы, но даже не смотря на это smart более выгоден для абонентов чем ultra, в котором только абонентская плата составляет 1950р, а со всеми доплатами за недостающие услуги, а средняя выручка по ним составляет 2070р, при том что абоненты не пользуются всеми благами входящими в их тариф. Средняя выручка по тарифу ultra превышает среднюю выручку по тарифу smart примерно на 700р.\n",
    "    \n",
    "   -Для оператора более выгоден тариф ultra, так как абоненты явно переплачивают и недоиспользуют входящие в тариф привилегии и плюс ко всему еще и немалое количество людей докупает дополнительные ГБ трафика."
   ]
  },
  {
   "cell_type": "markdown",
   "metadata": {},
   "source": [
    "# Рекомендации оператору:"
   ]
  },
  {
   "cell_type": "markdown",
   "metadata": {},
   "source": [
    "\n",
    "    \n",
    "   - Доработать тарифные планы, что бы не потерять клиентов в будующем.\n",
    "    \n",
    "   - Не публиковать незашифрованные ФИО. \n",
    "   \n",
    "   - Нулевые минуты округлять до 1\n"
   ]
  }
 ],
 "metadata": {
  "ExecuteTimeLog": [
   {
    "duration": 1242,
    "start_time": "2022-05-27T17:37:52.371Z"
   },
   {
    "duration": 446,
    "start_time": "2022-05-27T17:38:04.409Z"
   },
   {
    "duration": 9,
    "start_time": "2022-05-27T17:40:06.844Z"
   },
   {
    "duration": 1991,
    "start_time": "2022-05-27T17:45:36.271Z"
   },
   {
    "duration": 18,
    "start_time": "2022-05-27T17:46:46.108Z"
   },
   {
    "duration": 57,
    "start_time": "2022-05-27T17:47:01.671Z"
   },
   {
    "duration": 43,
    "start_time": "2022-05-27T17:47:22.119Z"
   },
   {
    "duration": 26,
    "start_time": "2022-05-27T17:48:13.264Z"
   },
   {
    "duration": 34,
    "start_time": "2022-05-27T17:51:33.419Z"
   },
   {
    "duration": 41,
    "start_time": "2022-05-27T17:51:38.791Z"
   },
   {
    "duration": 5,
    "start_time": "2022-05-27T17:53:01.399Z"
   },
   {
    "duration": 649,
    "start_time": "2022-05-27T17:56:49.486Z"
   },
   {
    "duration": 37,
    "start_time": "2022-05-27T17:56:59.872Z"
   },
   {
    "duration": 8,
    "start_time": "2022-05-27T17:57:15.399Z"
   },
   {
    "duration": 9,
    "start_time": "2022-05-27T17:59:51.805Z"
   },
   {
    "duration": 35,
    "start_time": "2022-05-27T18:00:20.475Z"
   },
   {
    "duration": 35,
    "start_time": "2022-05-27T18:00:49.894Z"
   },
   {
    "duration": 17,
    "start_time": "2022-05-27T18:02:20.166Z"
   },
   {
    "duration": 4,
    "start_time": "2022-05-27T18:03:55.265Z"
   },
   {
    "duration": 7,
    "start_time": "2022-05-27T18:05:07.949Z"
   },
   {
    "duration": 7,
    "start_time": "2022-05-27T18:05:27.704Z"
   },
   {
    "duration": 38,
    "start_time": "2022-05-27T18:06:43.585Z"
   },
   {
    "duration": 8,
    "start_time": "2022-05-27T18:07:57.463Z"
   },
   {
    "duration": 19,
    "start_time": "2022-05-27T18:08:20.174Z"
   },
   {
    "duration": 26,
    "start_time": "2022-05-27T18:08:55.265Z"
   },
   {
    "duration": 24,
    "start_time": "2022-05-27T18:12:53.901Z"
   },
   {
    "duration": 20,
    "start_time": "2022-05-27T18:12:54.990Z"
   },
   {
    "duration": 5,
    "start_time": "2022-05-27T18:12:55.771Z"
   },
   {
    "duration": 40,
    "start_time": "2022-05-27T18:13:16.195Z"
   },
   {
    "duration": 4,
    "start_time": "2022-05-27T18:13:20.202Z"
   },
   {
    "duration": 12,
    "start_time": "2022-05-27T18:13:20.720Z"
   },
   {
    "duration": 18,
    "start_time": "2022-05-27T18:14:06.916Z"
   },
   {
    "duration": 656,
    "start_time": "2022-05-27T18:14:48.322Z"
   },
   {
    "duration": 30,
    "start_time": "2022-05-27T18:15:30.128Z"
   },
   {
    "duration": 6,
    "start_time": "2022-05-27T18:15:42.466Z"
   },
   {
    "duration": 9,
    "start_time": "2022-05-27T18:16:28.413Z"
   },
   {
    "duration": 35,
    "start_time": "2022-05-27T18:16:54.288Z"
   },
   {
    "duration": 10,
    "start_time": "2022-05-27T18:21:57.791Z"
   },
   {
    "duration": 37,
    "start_time": "2022-05-27T18:22:29.443Z"
   },
   {
    "duration": 15,
    "start_time": "2022-05-27T18:55:17.016Z"
   },
   {
    "duration": 5,
    "start_time": "2022-05-27T19:01:50.927Z"
   },
   {
    "duration": 4,
    "start_time": "2022-05-27T19:02:14.075Z"
   },
   {
    "duration": 17,
    "start_time": "2022-05-27T19:02:27.908Z"
   },
   {
    "duration": 13,
    "start_time": "2022-05-27T19:02:41.588Z"
   },
   {
    "duration": 13,
    "start_time": "2022-05-27T19:03:15.630Z"
   },
   {
    "duration": 75,
    "start_time": "2022-05-27T19:09:24.976Z"
   },
   {
    "duration": 11,
    "start_time": "2022-05-27T19:09:51.369Z"
   },
   {
    "duration": 35,
    "start_time": "2022-05-27T19:16:36.702Z"
   },
   {
    "duration": 11,
    "start_time": "2022-05-27T19:17:19.233Z"
   },
   {
    "duration": 45,
    "start_time": "2022-05-27T19:17:46.660Z"
   },
   {
    "duration": 42,
    "start_time": "2022-05-27T19:18:18.593Z"
   },
   {
    "duration": 36,
    "start_time": "2022-05-27T19:18:25.264Z"
   },
   {
    "duration": 31,
    "start_time": "2022-05-27T19:18:31.275Z"
   },
   {
    "duration": 62,
    "start_time": "2022-05-27T19:26:17.605Z"
   },
   {
    "duration": 36,
    "start_time": "2022-05-27T19:26:41.422Z"
   },
   {
    "duration": 34,
    "start_time": "2022-05-27T19:26:55.521Z"
   },
   {
    "duration": 34,
    "start_time": "2022-05-27T19:27:37.357Z"
   },
   {
    "duration": 9,
    "start_time": "2022-05-27T19:27:59.974Z"
   },
   {
    "duration": 31,
    "start_time": "2022-05-27T19:28:01.065Z"
   },
   {
    "duration": 1108,
    "start_time": "2022-05-27T19:28:10.466Z"
   },
   {
    "duration": 7,
    "start_time": "2022-05-27T19:28:11.576Z"
   },
   {
    "duration": 1218,
    "start_time": "2022-05-27T19:28:11.585Z"
   },
   {
    "duration": 13,
    "start_time": "2022-05-27T19:28:12.804Z"
   },
   {
    "duration": 34,
    "start_time": "2022-05-27T19:28:12.819Z"
   },
   {
    "duration": 26,
    "start_time": "2022-05-27T19:28:12.854Z"
   },
   {
    "duration": 22,
    "start_time": "2022-05-27T19:28:12.882Z"
   },
   {
    "duration": 7,
    "start_time": "2022-05-27T19:28:12.906Z"
   },
   {
    "duration": 53,
    "start_time": "2022-05-27T19:28:12.914Z"
   },
   {
    "duration": 7,
    "start_time": "2022-05-27T19:28:12.969Z"
   },
   {
    "duration": 9,
    "start_time": "2022-05-27T19:28:12.978Z"
   },
   {
    "duration": 33,
    "start_time": "2022-05-27T19:28:12.988Z"
   },
   {
    "duration": 47,
    "start_time": "2022-05-27T19:28:13.023Z"
   },
   {
    "duration": 24,
    "start_time": "2022-05-27T19:28:13.074Z"
   },
   {
    "duration": 19,
    "start_time": "2022-05-27T19:28:13.100Z"
   },
   {
    "duration": 44,
    "start_time": "2022-05-27T19:28:13.121Z"
   },
   {
    "duration": 9,
    "start_time": "2022-05-27T19:28:13.167Z"
   },
   {
    "duration": 17,
    "start_time": "2022-05-27T19:28:13.177Z"
   },
   {
    "duration": 18,
    "start_time": "2022-05-27T19:28:13.196Z"
   },
   {
    "duration": 26,
    "start_time": "2022-05-27T19:28:13.215Z"
   },
   {
    "duration": 25,
    "start_time": "2022-05-27T19:28:13.245Z"
   },
   {
    "duration": 11,
    "start_time": "2022-05-27T19:28:13.272Z"
   },
   {
    "duration": 10,
    "start_time": "2022-05-27T19:28:13.285Z"
   },
   {
    "duration": 54,
    "start_time": "2022-05-27T19:28:13.297Z"
   },
   {
    "duration": 21,
    "start_time": "2022-05-27T19:28:13.354Z"
   },
   {
    "duration": 16,
    "start_time": "2022-05-27T19:28:13.376Z"
   },
   {
    "duration": 11,
    "start_time": "2022-05-27T19:28:13.394Z"
   },
   {
    "duration": 7,
    "start_time": "2022-05-27T19:28:13.406Z"
   },
   {
    "duration": 5,
    "start_time": "2022-05-27T19:28:13.415Z"
   },
   {
    "duration": 32,
    "start_time": "2022-05-27T19:28:13.422Z"
   },
   {
    "duration": 67,
    "start_time": "2022-05-27T19:28:13.456Z"
   },
   {
    "duration": 8,
    "start_time": "2022-05-27T19:28:13.524Z"
   },
   {
    "duration": 24,
    "start_time": "2022-05-27T19:28:13.534Z"
   },
   {
    "duration": 0,
    "start_time": "2022-05-27T19:28:13.560Z"
   },
   {
    "duration": 4,
    "start_time": "2022-05-27T19:28:34.101Z"
   },
   {
    "duration": 37,
    "start_time": "2022-05-27T19:29:12.567Z"
   },
   {
    "duration": 31,
    "start_time": "2022-05-27T19:29:39.809Z"
   },
   {
    "duration": 32,
    "start_time": "2022-05-27T19:29:59.557Z"
   },
   {
    "duration": 28,
    "start_time": "2022-05-27T19:30:17.356Z"
   },
   {
    "duration": 30,
    "start_time": "2022-05-27T19:30:20.754Z"
   },
   {
    "duration": 30,
    "start_time": "2022-05-27T19:30:59.454Z"
   },
   {
    "duration": 48,
    "start_time": "2022-05-27T19:31:04.240Z"
   },
   {
    "duration": 7,
    "start_time": "2022-05-27T19:31:05.685Z"
   },
   {
    "duration": 42,
    "start_time": "2022-05-27T19:35:43.178Z"
   },
   {
    "duration": 11,
    "start_time": "2022-05-27T19:36:03.146Z"
   },
   {
    "duration": 24,
    "start_time": "2022-05-27T19:37:17.403Z"
   },
   {
    "duration": 8,
    "start_time": "2022-05-27T19:37:32.018Z"
   },
   {
    "duration": 46,
    "start_time": "2022-05-27T19:48:05.751Z"
   },
   {
    "duration": 9,
    "start_time": "2022-05-27T19:48:22.913Z"
   },
   {
    "duration": 33,
    "start_time": "2022-05-27T20:11:03.774Z"
   },
   {
    "duration": 10,
    "start_time": "2022-05-27T20:11:19.286Z"
   },
   {
    "duration": 14,
    "start_time": "2022-05-27T20:14:09.568Z"
   },
   {
    "duration": 9,
    "start_time": "2022-05-27T20:14:24.571Z"
   },
   {
    "duration": 135,
    "start_time": "2022-05-27T20:18:29.120Z"
   },
   {
    "duration": 15,
    "start_time": "2022-05-27T20:18:39.847Z"
   },
   {
    "duration": 14,
    "start_time": "2022-05-27T20:18:57.825Z"
   },
   {
    "duration": 24,
    "start_time": "2022-05-27T20:20:20.385Z"
   },
   {
    "duration": 45,
    "start_time": "2022-05-27T20:20:26.860Z"
   },
   {
    "duration": 23,
    "start_time": "2022-05-27T20:20:39.389Z"
   },
   {
    "duration": 1500,
    "start_time": "2022-05-27T20:21:19.506Z"
   },
   {
    "duration": 3,
    "start_time": "2022-05-27T20:21:21.009Z"
   },
   {
    "duration": 890,
    "start_time": "2022-05-27T20:21:21.013Z"
   },
   {
    "duration": 17,
    "start_time": "2022-05-27T20:21:21.905Z"
   },
   {
    "duration": 49,
    "start_time": "2022-05-27T20:21:21.925Z"
   },
   {
    "duration": 39,
    "start_time": "2022-05-27T20:21:21.976Z"
   },
   {
    "duration": 40,
    "start_time": "2022-05-27T20:21:22.017Z"
   },
   {
    "duration": 47,
    "start_time": "2022-05-27T20:21:22.058Z"
   },
   {
    "duration": 29,
    "start_time": "2022-05-27T20:21:22.108Z"
   },
   {
    "duration": 10,
    "start_time": "2022-05-27T20:21:22.139Z"
   },
   {
    "duration": 56,
    "start_time": "2022-05-27T20:21:22.151Z"
   },
   {
    "duration": 89,
    "start_time": "2022-05-27T20:21:22.209Z"
   },
   {
    "duration": 25,
    "start_time": "2022-05-27T20:21:22.304Z"
   },
   {
    "duration": 47,
    "start_time": "2022-05-27T20:21:22.333Z"
   },
   {
    "duration": 55,
    "start_time": "2022-05-27T20:21:22.385Z"
   },
   {
    "duration": 56,
    "start_time": "2022-05-27T20:21:22.443Z"
   },
   {
    "duration": 8,
    "start_time": "2022-05-27T20:21:22.502Z"
   },
   {
    "duration": 15,
    "start_time": "2022-05-27T20:21:22.512Z"
   },
   {
    "duration": 33,
    "start_time": "2022-05-27T20:21:22.529Z"
   },
   {
    "duration": 48,
    "start_time": "2022-05-27T20:21:22.565Z"
   },
   {
    "duration": 24,
    "start_time": "2022-05-27T20:21:22.615Z"
   },
   {
    "duration": 20,
    "start_time": "2022-05-27T20:21:22.640Z"
   },
   {
    "duration": 45,
    "start_time": "2022-05-27T20:21:22.662Z"
   },
   {
    "duration": 41,
    "start_time": "2022-05-27T20:21:22.709Z"
   },
   {
    "duration": 11,
    "start_time": "2022-05-27T20:21:22.753Z"
   },
   {
    "duration": 48,
    "start_time": "2022-05-27T20:21:22.766Z"
   },
   {
    "duration": 21,
    "start_time": "2022-05-27T20:21:22.816Z"
   },
   {
    "duration": 47,
    "start_time": "2022-05-27T20:21:22.839Z"
   },
   {
    "duration": 14,
    "start_time": "2022-05-27T20:21:22.892Z"
   },
   {
    "duration": 15,
    "start_time": "2022-05-27T20:21:22.908Z"
   },
   {
    "duration": 98,
    "start_time": "2022-05-27T20:21:22.925Z"
   },
   {
    "duration": 11,
    "start_time": "2022-05-27T20:21:23.025Z"
   },
   {
    "duration": 64,
    "start_time": "2022-05-27T20:21:23.038Z"
   },
   {
    "duration": 22,
    "start_time": "2022-05-27T20:21:23.103Z"
   },
   {
    "duration": 85,
    "start_time": "2022-05-27T20:21:23.128Z"
   },
   {
    "duration": 10,
    "start_time": "2022-05-27T20:21:23.215Z"
   },
   {
    "duration": 38,
    "start_time": "2022-05-27T20:21:23.226Z"
   },
   {
    "duration": 8,
    "start_time": "2022-05-27T20:21:23.266Z"
   },
   {
    "duration": 110,
    "start_time": "2022-05-27T20:21:23.276Z"
   },
   {
    "duration": 22,
    "start_time": "2022-05-27T20:21:23.388Z"
   },
   {
    "duration": 58,
    "start_time": "2022-05-27T20:21:23.440Z"
   },
   {
    "duration": 8,
    "start_time": "2022-05-27T20:21:23.500Z"
   },
   {
    "duration": 35,
    "start_time": "2022-05-27T20:21:23.510Z"
   },
   {
    "duration": 36,
    "start_time": "2022-05-27T20:21:23.553Z"
   },
   {
    "duration": 62,
    "start_time": "2022-05-27T20:21:23.591Z"
   },
   {
    "duration": 20,
    "start_time": "2022-05-27T20:23:54.568Z"
   },
   {
    "duration": 129,
    "start_time": "2022-05-27T20:25:02.362Z"
   },
   {
    "duration": 14,
    "start_time": "2022-05-27T20:25:23.988Z"
   },
   {
    "duration": 14,
    "start_time": "2022-05-27T20:25:59.464Z"
   },
   {
    "duration": 31,
    "start_time": "2022-05-27T20:26:02.003Z"
   },
   {
    "duration": 16,
    "start_time": "2022-05-27T20:26:06.117Z"
   },
   {
    "duration": 1301,
    "start_time": "2022-05-27T20:26:40.858Z"
   },
   {
    "duration": 7,
    "start_time": "2022-05-27T20:26:42.162Z"
   },
   {
    "duration": 562,
    "start_time": "2022-05-27T20:26:42.170Z"
   },
   {
    "duration": 19,
    "start_time": "2022-05-27T20:26:42.734Z"
   },
   {
    "duration": 66,
    "start_time": "2022-05-27T20:26:42.755Z"
   },
   {
    "duration": 43,
    "start_time": "2022-05-27T20:26:42.824Z"
   },
   {
    "duration": 44,
    "start_time": "2022-05-27T20:26:42.872Z"
   },
   {
    "duration": 7,
    "start_time": "2022-05-27T20:26:42.918Z"
   },
   {
    "duration": 57,
    "start_time": "2022-05-27T20:26:42.927Z"
   },
   {
    "duration": 11,
    "start_time": "2022-05-27T20:26:42.986Z"
   },
   {
    "duration": 29,
    "start_time": "2022-05-27T20:26:42.998Z"
   },
   {
    "duration": 44,
    "start_time": "2022-05-27T20:26:43.029Z"
   },
   {
    "duration": 40,
    "start_time": "2022-05-27T20:26:43.076Z"
   },
   {
    "duration": 71,
    "start_time": "2022-05-27T20:26:43.120Z"
   },
   {
    "duration": 53,
    "start_time": "2022-05-27T20:26:43.194Z"
   },
   {
    "duration": 33,
    "start_time": "2022-05-27T20:26:43.249Z"
   },
   {
    "duration": 21,
    "start_time": "2022-05-27T20:26:43.284Z"
   },
   {
    "duration": 24,
    "start_time": "2022-05-27T20:26:43.307Z"
   },
   {
    "duration": 58,
    "start_time": "2022-05-27T20:26:43.333Z"
   },
   {
    "duration": 22,
    "start_time": "2022-05-27T20:26:43.393Z"
   },
   {
    "duration": 36,
    "start_time": "2022-05-27T20:26:43.417Z"
   },
   {
    "duration": 21,
    "start_time": "2022-05-27T20:26:43.455Z"
   },
   {
    "duration": 17,
    "start_time": "2022-05-27T20:26:43.478Z"
   },
   {
    "duration": 30,
    "start_time": "2022-05-27T20:26:43.497Z"
   },
   {
    "duration": 12,
    "start_time": "2022-05-27T20:26:43.529Z"
   },
   {
    "duration": 32,
    "start_time": "2022-05-27T20:26:43.543Z"
   },
   {
    "duration": 19,
    "start_time": "2022-05-27T20:26:43.580Z"
   },
   {
    "duration": 12,
    "start_time": "2022-05-27T20:26:43.601Z"
   },
   {
    "duration": 18,
    "start_time": "2022-05-27T20:26:43.616Z"
   },
   {
    "duration": 48,
    "start_time": "2022-05-27T20:26:43.636Z"
   },
   {
    "duration": 69,
    "start_time": "2022-05-27T20:26:43.686Z"
   },
   {
    "duration": 25,
    "start_time": "2022-05-27T20:26:43.757Z"
   },
   {
    "duration": 42,
    "start_time": "2022-05-27T20:26:43.784Z"
   },
   {
    "duration": 7,
    "start_time": "2022-05-27T20:26:43.828Z"
   },
   {
    "duration": 96,
    "start_time": "2022-05-27T20:26:43.836Z"
   },
   {
    "duration": 21,
    "start_time": "2022-05-27T20:26:43.934Z"
   },
   {
    "duration": 43,
    "start_time": "2022-05-27T20:26:43.957Z"
   },
   {
    "duration": 9,
    "start_time": "2022-05-27T20:26:44.002Z"
   },
   {
    "duration": 76,
    "start_time": "2022-05-27T20:26:44.013Z"
   },
   {
    "duration": 12,
    "start_time": "2022-05-27T20:26:44.091Z"
   },
   {
    "duration": 56,
    "start_time": "2022-05-27T20:26:44.107Z"
   },
   {
    "duration": 18,
    "start_time": "2022-05-27T20:26:44.165Z"
   },
   {
    "duration": 14,
    "start_time": "2022-05-27T20:26:44.185Z"
   },
   {
    "duration": 20,
    "start_time": "2022-05-27T20:26:44.201Z"
   },
   {
    "duration": 63,
    "start_time": "2022-05-27T20:26:44.223Z"
   },
   {
    "duration": 27,
    "start_time": "2022-05-27T20:26:44.288Z"
   },
   {
    "duration": 157,
    "start_time": "2022-05-27T20:26:44.317Z"
   },
   {
    "duration": 18,
    "start_time": "2022-05-27T20:26:54.568Z"
   },
   {
    "duration": 9,
    "start_time": "2022-05-27T20:27:50.816Z"
   },
   {
    "duration": 14,
    "start_time": "2022-05-27T20:28:16.203Z"
   },
   {
    "duration": 22,
    "start_time": "2022-05-27T20:28:42.957Z"
   },
   {
    "duration": 18,
    "start_time": "2022-05-27T20:28:57.464Z"
   },
   {
    "duration": 12,
    "start_time": "2022-05-27T20:29:34.403Z"
   },
   {
    "duration": 20,
    "start_time": "2022-05-27T20:30:25.387Z"
   },
   {
    "duration": 19,
    "start_time": "2022-05-27T20:30:48.197Z"
   },
   {
    "duration": 11,
    "start_time": "2022-05-27T20:31:23.378Z"
   },
   {
    "duration": 29,
    "start_time": "2022-05-27T20:31:55.906Z"
   },
   {
    "duration": 60,
    "start_time": "2022-05-27T20:34:51.813Z"
   },
   {
    "duration": 21,
    "start_time": "2022-05-27T20:35:24.918Z"
   },
   {
    "duration": 18,
    "start_time": "2022-05-27T20:35:28.480Z"
   },
   {
    "duration": 1552,
    "start_time": "2022-05-27T20:36:46.527Z"
   },
   {
    "duration": 4,
    "start_time": "2022-05-27T20:36:48.093Z"
   },
   {
    "duration": 669,
    "start_time": "2022-05-27T20:36:48.100Z"
   },
   {
    "duration": 19,
    "start_time": "2022-05-27T20:36:48.772Z"
   },
   {
    "duration": 42,
    "start_time": "2022-05-27T20:36:48.795Z"
   },
   {
    "duration": 52,
    "start_time": "2022-05-27T20:36:48.841Z"
   },
   {
    "duration": 46,
    "start_time": "2022-05-27T20:36:48.895Z"
   },
   {
    "duration": 8,
    "start_time": "2022-05-27T20:36:48.944Z"
   },
   {
    "duration": 81,
    "start_time": "2022-05-27T20:36:48.953Z"
   },
   {
    "duration": 27,
    "start_time": "2022-05-27T20:36:49.039Z"
   },
   {
    "duration": 17,
    "start_time": "2022-05-27T20:36:49.068Z"
   },
   {
    "duration": 42,
    "start_time": "2022-05-27T20:36:49.089Z"
   },
   {
    "duration": 46,
    "start_time": "2022-05-27T20:36:49.133Z"
   },
   {
    "duration": 52,
    "start_time": "2022-05-27T20:36:49.182Z"
   },
   {
    "duration": 34,
    "start_time": "2022-05-27T20:36:49.237Z"
   },
   {
    "duration": 18,
    "start_time": "2022-05-27T20:36:49.273Z"
   },
   {
    "duration": 10,
    "start_time": "2022-05-27T20:36:49.293Z"
   },
   {
    "duration": 36,
    "start_time": "2022-05-27T20:36:49.305Z"
   },
   {
    "duration": 38,
    "start_time": "2022-05-27T20:36:49.344Z"
   },
   {
    "duration": 28,
    "start_time": "2022-05-27T20:36:49.383Z"
   },
   {
    "duration": 45,
    "start_time": "2022-05-27T20:36:49.413Z"
   },
   {
    "duration": 10,
    "start_time": "2022-05-27T20:36:49.460Z"
   },
   {
    "duration": 29,
    "start_time": "2022-05-27T20:36:49.472Z"
   },
   {
    "duration": 46,
    "start_time": "2022-05-27T20:36:49.503Z"
   },
   {
    "duration": 15,
    "start_time": "2022-05-27T20:36:49.551Z"
   },
   {
    "duration": 34,
    "start_time": "2022-05-27T20:36:49.568Z"
   },
   {
    "duration": 23,
    "start_time": "2022-05-27T20:36:49.605Z"
   },
   {
    "duration": 10,
    "start_time": "2022-05-27T20:36:49.633Z"
   },
   {
    "duration": 29,
    "start_time": "2022-05-27T20:36:49.648Z"
   },
   {
    "duration": 22,
    "start_time": "2022-05-27T20:36:49.679Z"
   },
   {
    "duration": 114,
    "start_time": "2022-05-27T20:36:49.704Z"
   },
   {
    "duration": 10,
    "start_time": "2022-05-27T20:36:49.819Z"
   },
   {
    "duration": 99,
    "start_time": "2022-05-27T20:36:49.831Z"
   },
   {
    "duration": 15,
    "start_time": "2022-05-27T20:36:49.936Z"
   },
   {
    "duration": 88,
    "start_time": "2022-05-27T20:36:49.953Z"
   },
   {
    "duration": 24,
    "start_time": "2022-05-27T20:36:50.046Z"
   },
   {
    "duration": 40,
    "start_time": "2022-05-27T20:36:50.080Z"
   },
   {
    "duration": 7,
    "start_time": "2022-05-27T20:36:50.122Z"
   },
   {
    "duration": 66,
    "start_time": "2022-05-27T20:36:50.131Z"
   },
   {
    "duration": 10,
    "start_time": "2022-05-27T20:36:50.199Z"
   },
   {
    "duration": 46,
    "start_time": "2022-05-27T20:36:50.212Z"
   },
   {
    "duration": 14,
    "start_time": "2022-05-27T20:36:50.268Z"
   },
   {
    "duration": 13,
    "start_time": "2022-05-27T20:36:50.285Z"
   },
   {
    "duration": 15,
    "start_time": "2022-05-27T20:36:50.301Z"
   },
   {
    "duration": 34,
    "start_time": "2022-05-27T20:36:50.318Z"
   },
   {
    "duration": 26,
    "start_time": "2022-05-27T20:36:50.354Z"
   },
   {
    "duration": 13,
    "start_time": "2022-05-27T20:36:50.384Z"
   },
   {
    "duration": 168,
    "start_time": "2022-05-27T20:36:50.399Z"
   },
   {
    "duration": 0,
    "start_time": "2022-05-27T20:36:50.574Z"
   },
   {
    "duration": 11,
    "start_time": "2022-05-27T20:43:35.950Z"
   },
   {
    "duration": 7,
    "start_time": "2022-05-27T20:49:46.773Z"
   },
   {
    "duration": 11,
    "start_time": "2022-05-27T20:50:01.722Z"
   },
   {
    "duration": 14,
    "start_time": "2022-05-27T20:50:39.783Z"
   },
   {
    "duration": 4,
    "start_time": "2022-05-27T21:06:03.420Z"
   },
   {
    "duration": 5,
    "start_time": "2022-05-27T21:06:38.180Z"
   },
   {
    "duration": 16,
    "start_time": "2022-05-27T21:07:09.889Z"
   },
   {
    "duration": 44,
    "start_time": "2022-05-27T21:08:53.515Z"
   },
   {
    "duration": 41,
    "start_time": "2022-05-27T21:09:31.532Z"
   },
   {
    "duration": 599,
    "start_time": "2022-05-27T21:10:54.102Z"
   },
   {
    "duration": 3,
    "start_time": "2022-05-27T21:12:09.676Z"
   },
   {
    "duration": 14,
    "start_time": "2022-05-27T21:12:11.373Z"
   },
   {
    "duration": 15,
    "start_time": "2022-05-27T21:15:09.974Z"
   },
   {
    "duration": 15,
    "start_time": "2022-05-27T21:15:27.857Z"
   },
   {
    "duration": 11,
    "start_time": "2022-05-27T21:16:31.160Z"
   },
   {
    "duration": 11,
    "start_time": "2022-05-27T21:16:51.260Z"
   },
   {
    "duration": 14,
    "start_time": "2022-05-27T21:16:51.864Z"
   },
   {
    "duration": 16,
    "start_time": "2022-05-27T21:17:00.311Z"
   },
   {
    "duration": 8,
    "start_time": "2022-05-27T21:17:06.502Z"
   },
   {
    "duration": 17,
    "start_time": "2022-05-27T21:17:15.650Z"
   },
   {
    "duration": 13,
    "start_time": "2022-05-27T21:17:28.523Z"
   },
   {
    "duration": 1211,
    "start_time": "2022-05-27T21:17:39.421Z"
   },
   {
    "duration": 3,
    "start_time": "2022-05-27T21:17:40.634Z"
   },
   {
    "duration": 559,
    "start_time": "2022-05-27T21:17:40.638Z"
   },
   {
    "duration": 14,
    "start_time": "2022-05-27T21:17:41.199Z"
   },
   {
    "duration": 54,
    "start_time": "2022-05-27T21:17:41.215Z"
   },
   {
    "duration": 30,
    "start_time": "2022-05-27T21:17:41.274Z"
   },
   {
    "duration": 25,
    "start_time": "2022-05-27T21:17:41.306Z"
   },
   {
    "duration": 20,
    "start_time": "2022-05-27T21:17:41.333Z"
   },
   {
    "duration": 46,
    "start_time": "2022-05-27T21:17:41.355Z"
   },
   {
    "duration": 9,
    "start_time": "2022-05-27T21:17:41.404Z"
   },
   {
    "duration": 12,
    "start_time": "2022-05-27T21:17:41.415Z"
   },
   {
    "duration": 45,
    "start_time": "2022-05-27T21:17:41.429Z"
   },
   {
    "duration": 23,
    "start_time": "2022-05-27T21:17:41.476Z"
   },
   {
    "duration": 51,
    "start_time": "2022-05-27T21:17:41.501Z"
   },
   {
    "duration": 28,
    "start_time": "2022-05-27T21:17:41.554Z"
   },
   {
    "duration": 11,
    "start_time": "2022-05-27T21:17:41.583Z"
   },
   {
    "duration": 14,
    "start_time": "2022-05-27T21:17:41.596Z"
   },
   {
    "duration": 36,
    "start_time": "2022-05-27T21:17:41.612Z"
   },
   {
    "duration": 32,
    "start_time": "2022-05-27T21:17:41.649Z"
   },
   {
    "duration": 14,
    "start_time": "2022-05-27T21:17:41.683Z"
   },
   {
    "duration": 19,
    "start_time": "2022-05-27T21:17:41.699Z"
   },
   {
    "duration": 39,
    "start_time": "2022-05-27T21:17:41.720Z"
   },
   {
    "duration": 24,
    "start_time": "2022-05-27T21:17:41.760Z"
   },
   {
    "duration": 28,
    "start_time": "2022-05-27T21:17:41.785Z"
   },
   {
    "duration": 10,
    "start_time": "2022-05-27T21:17:41.814Z"
   },
   {
    "duration": 26,
    "start_time": "2022-05-27T21:17:41.826Z"
   },
   {
    "duration": 30,
    "start_time": "2022-05-27T21:17:41.854Z"
   },
   {
    "duration": 4,
    "start_time": "2022-05-27T21:17:41.889Z"
   },
   {
    "duration": 7,
    "start_time": "2022-05-27T21:17:41.895Z"
   },
   {
    "duration": 12,
    "start_time": "2022-05-27T21:17:41.904Z"
   },
   {
    "duration": 80,
    "start_time": "2022-05-27T21:17:41.917Z"
   },
   {
    "duration": 9,
    "start_time": "2022-05-27T21:17:41.999Z"
   },
   {
    "duration": 59,
    "start_time": "2022-05-27T21:17:42.009Z"
   },
   {
    "duration": 10,
    "start_time": "2022-05-27T21:17:42.070Z"
   },
   {
    "duration": 40,
    "start_time": "2022-05-27T21:17:42.082Z"
   },
   {
    "duration": 37,
    "start_time": "2022-05-27T21:17:42.124Z"
   },
   {
    "duration": 33,
    "start_time": "2022-05-27T21:17:42.164Z"
   },
   {
    "duration": 7,
    "start_time": "2022-05-27T21:17:42.199Z"
   },
   {
    "duration": 64,
    "start_time": "2022-05-27T21:17:42.208Z"
   },
   {
    "duration": 11,
    "start_time": "2022-05-27T21:17:42.274Z"
   },
   {
    "duration": 37,
    "start_time": "2022-05-27T21:17:42.287Z"
   },
   {
    "duration": 6,
    "start_time": "2022-05-27T21:17:42.326Z"
   },
   {
    "duration": 27,
    "start_time": "2022-05-27T21:17:42.334Z"
   },
   {
    "duration": 22,
    "start_time": "2022-05-27T21:17:42.363Z"
   },
   {
    "duration": 18,
    "start_time": "2022-05-27T21:17:42.387Z"
   },
   {
    "duration": 17,
    "start_time": "2022-05-27T21:17:42.407Z"
   },
   {
    "duration": 8,
    "start_time": "2022-05-27T21:17:42.426Z"
   },
   {
    "duration": 28,
    "start_time": "2022-05-27T21:17:42.436Z"
   },
   {
    "duration": 130,
    "start_time": "2022-05-27T21:17:42.465Z"
   },
   {
    "duration": 0,
    "start_time": "2022-05-27T21:17:42.596Z"
   },
   {
    "duration": 0,
    "start_time": "2022-05-27T21:17:42.598Z"
   },
   {
    "duration": 0,
    "start_time": "2022-05-27T21:17:42.599Z"
   },
   {
    "duration": 0,
    "start_time": "2022-05-27T21:17:42.601Z"
   },
   {
    "duration": 0,
    "start_time": "2022-05-27T21:17:42.601Z"
   },
   {
    "duration": 0,
    "start_time": "2022-05-27T21:17:42.602Z"
   },
   {
    "duration": 0,
    "start_time": "2022-05-27T21:17:42.603Z"
   },
   {
    "duration": 0,
    "start_time": "2022-05-27T21:17:42.604Z"
   },
   {
    "duration": 19,
    "start_time": "2022-05-27T21:18:13.735Z"
   },
   {
    "duration": 14,
    "start_time": "2022-05-27T21:18:15.626Z"
   },
   {
    "duration": 13,
    "start_time": "2022-05-27T21:18:51.416Z"
   },
   {
    "duration": 14,
    "start_time": "2022-05-27T21:19:23.999Z"
   },
   {
    "duration": 14,
    "start_time": "2022-05-27T21:19:45.278Z"
   },
   {
    "duration": 12,
    "start_time": "2022-05-27T21:20:04.073Z"
   },
   {
    "duration": 16,
    "start_time": "2022-05-27T21:20:18.764Z"
   },
   {
    "duration": 13,
    "start_time": "2022-05-27T21:20:30.285Z"
   },
   {
    "duration": 9,
    "start_time": "2022-05-27T21:20:45.588Z"
   },
   {
    "duration": 17,
    "start_time": "2022-05-27T21:21:14.568Z"
   },
   {
    "duration": 17,
    "start_time": "2022-05-27T21:21:35.561Z"
   },
   {
    "duration": 19,
    "start_time": "2022-05-27T21:22:13.729Z"
   },
   {
    "duration": 9,
    "start_time": "2022-05-27T21:22:19.593Z"
   },
   {
    "duration": 6,
    "start_time": "2022-05-27T21:23:27.810Z"
   },
   {
    "duration": 14,
    "start_time": "2022-05-27T21:25:49.821Z"
   },
   {
    "duration": 13,
    "start_time": "2022-05-27T21:26:28.992Z"
   },
   {
    "duration": 19,
    "start_time": "2022-05-27T21:27:41.714Z"
   },
   {
    "duration": 38,
    "start_time": "2022-05-27T21:28:01.116Z"
   },
   {
    "duration": 17,
    "start_time": "2022-05-27T21:28:09.890Z"
   },
   {
    "duration": 12,
    "start_time": "2022-05-27T21:28:19.279Z"
   },
   {
    "duration": 28,
    "start_time": "2022-05-27T21:29:24.534Z"
   },
   {
    "duration": 19,
    "start_time": "2022-05-27T21:29:35.468Z"
   },
   {
    "duration": 79,
    "start_time": "2022-05-28T16:33:15.355Z"
   },
   {
    "duration": 4,
    "start_time": "2022-05-28T16:33:39.525Z"
   },
   {
    "duration": 8,
    "start_time": "2022-05-28T16:33:44.501Z"
   },
   {
    "duration": 7,
    "start_time": "2022-05-28T16:33:50.825Z"
   },
   {
    "duration": 9,
    "start_time": "2022-05-28T16:33:55.978Z"
   },
   {
    "duration": 1364,
    "start_time": "2022-05-28T16:34:04.214Z"
   },
   {
    "duration": 3,
    "start_time": "2022-05-28T16:34:05.580Z"
   },
   {
    "duration": 944,
    "start_time": "2022-05-28T16:34:05.584Z"
   },
   {
    "duration": 12,
    "start_time": "2022-05-28T16:34:06.530Z"
   },
   {
    "duration": 31,
    "start_time": "2022-05-28T16:34:06.544Z"
   },
   {
    "duration": 22,
    "start_time": "2022-05-28T16:34:06.577Z"
   },
   {
    "duration": 23,
    "start_time": "2022-05-28T16:34:06.601Z"
   },
   {
    "duration": 27,
    "start_time": "2022-05-28T16:34:06.626Z"
   },
   {
    "duration": 29,
    "start_time": "2022-05-28T16:34:06.655Z"
   },
   {
    "duration": 7,
    "start_time": "2022-05-28T16:34:06.687Z"
   },
   {
    "duration": 10,
    "start_time": "2022-05-28T16:34:06.696Z"
   },
   {
    "duration": 55,
    "start_time": "2022-05-28T16:34:06.707Z"
   },
   {
    "duration": 19,
    "start_time": "2022-05-28T16:34:06.764Z"
   },
   {
    "duration": 23,
    "start_time": "2022-05-28T16:34:06.784Z"
   },
   {
    "duration": 43,
    "start_time": "2022-05-28T16:34:06.809Z"
   },
   {
    "duration": 8,
    "start_time": "2022-05-28T16:34:06.854Z"
   },
   {
    "duration": 10,
    "start_time": "2022-05-28T16:34:06.864Z"
   },
   {
    "duration": 19,
    "start_time": "2022-05-28T16:34:06.875Z"
   },
   {
    "duration": 17,
    "start_time": "2022-05-28T16:34:06.896Z"
   },
   {
    "duration": 38,
    "start_time": "2022-05-28T16:34:06.915Z"
   },
   {
    "duration": 18,
    "start_time": "2022-05-28T16:34:06.955Z"
   },
   {
    "duration": 8,
    "start_time": "2022-05-28T16:34:06.975Z"
   },
   {
    "duration": 13,
    "start_time": "2022-05-28T16:34:06.984Z"
   },
   {
    "duration": 55,
    "start_time": "2022-05-28T16:34:06.999Z"
   },
   {
    "duration": 15,
    "start_time": "2022-05-28T16:34:07.055Z"
   },
   {
    "duration": 18,
    "start_time": "2022-05-28T16:34:07.072Z"
   },
   {
    "duration": 19,
    "start_time": "2022-05-28T16:34:07.091Z"
   },
   {
    "duration": 19,
    "start_time": "2022-05-28T16:34:07.115Z"
   },
   {
    "duration": 14,
    "start_time": "2022-05-28T16:34:07.136Z"
   },
   {
    "duration": 15,
    "start_time": "2022-05-28T16:34:07.151Z"
   },
   {
    "duration": 65,
    "start_time": "2022-05-28T16:34:07.168Z"
   },
   {
    "duration": 17,
    "start_time": "2022-05-28T16:34:07.235Z"
   },
   {
    "duration": 41,
    "start_time": "2022-05-28T16:34:07.254Z"
   },
   {
    "duration": 8,
    "start_time": "2022-05-28T16:34:07.296Z"
   },
   {
    "duration": 58,
    "start_time": "2022-05-28T16:34:07.306Z"
   },
   {
    "duration": 12,
    "start_time": "2022-05-28T16:34:07.366Z"
   },
   {
    "duration": 30,
    "start_time": "2022-05-28T16:34:07.379Z"
   },
   {
    "duration": 7,
    "start_time": "2022-05-28T16:34:07.411Z"
   },
   {
    "duration": 68,
    "start_time": "2022-05-28T16:34:07.420Z"
   },
   {
    "duration": 23,
    "start_time": "2022-05-28T16:34:07.490Z"
   },
   {
    "duration": 40,
    "start_time": "2022-05-28T16:34:07.515Z"
   },
   {
    "duration": 7,
    "start_time": "2022-05-28T16:34:07.557Z"
   },
   {
    "duration": 14,
    "start_time": "2022-05-28T16:34:07.566Z"
   },
   {
    "duration": 10,
    "start_time": "2022-05-28T16:34:07.582Z"
   },
   {
    "duration": 16,
    "start_time": "2022-05-28T16:34:07.594Z"
   },
   {
    "duration": 45,
    "start_time": "2022-05-28T16:34:07.612Z"
   },
   {
    "duration": 9,
    "start_time": "2022-05-28T16:34:07.659Z"
   },
   {
    "duration": 29,
    "start_time": "2022-05-28T16:34:07.669Z"
   },
   {
    "duration": 128,
    "start_time": "2022-05-28T16:34:07.700Z"
   },
   {
    "duration": 0,
    "start_time": "2022-05-28T16:34:07.831Z"
   },
   {
    "duration": 0,
    "start_time": "2022-05-28T16:34:07.832Z"
   },
   {
    "duration": 0,
    "start_time": "2022-05-28T16:34:07.834Z"
   },
   {
    "duration": 0,
    "start_time": "2022-05-28T16:34:07.835Z"
   },
   {
    "duration": 0,
    "start_time": "2022-05-28T16:34:07.837Z"
   },
   {
    "duration": 0,
    "start_time": "2022-05-28T16:34:07.838Z"
   },
   {
    "duration": 0,
    "start_time": "2022-05-28T16:34:07.852Z"
   },
   {
    "duration": 0,
    "start_time": "2022-05-28T16:34:07.854Z"
   },
   {
    "duration": 19,
    "start_time": "2022-05-28T16:35:57.997Z"
   },
   {
    "duration": 10,
    "start_time": "2022-05-28T16:36:01.379Z"
   },
   {
    "duration": 6,
    "start_time": "2022-05-28T16:36:02.222Z"
   },
   {
    "duration": 8,
    "start_time": "2022-05-28T16:36:02.726Z"
   },
   {
    "duration": 9,
    "start_time": "2022-05-28T16:36:04.041Z"
   },
   {
    "duration": 4,
    "start_time": "2022-05-28T16:36:07.287Z"
   },
   {
    "duration": 15,
    "start_time": "2022-05-28T16:36:09.007Z"
   },
   {
    "duration": 47,
    "start_time": "2022-05-28T16:36:17.074Z"
   },
   {
    "duration": 29,
    "start_time": "2022-05-28T16:36:39.773Z"
   },
   {
    "duration": 32,
    "start_time": "2022-05-28T16:36:47.714Z"
   },
   {
    "duration": 410,
    "start_time": "2022-05-28T16:38:21.412Z"
   },
   {
    "duration": 9,
    "start_time": "2022-05-28T16:39:22.909Z"
   },
   {
    "duration": 417,
    "start_time": "2022-05-28T16:40:13.073Z"
   },
   {
    "duration": 15,
    "start_time": "2022-05-28T16:41:05.615Z"
   },
   {
    "duration": 10,
    "start_time": "2022-05-28T16:41:51.349Z"
   },
   {
    "duration": 56,
    "start_time": "2022-05-28T16:45:00.145Z"
   },
   {
    "duration": 13,
    "start_time": "2022-05-28T16:45:08.816Z"
   },
   {
    "duration": 13,
    "start_time": "2022-05-28T16:46:11.666Z"
   },
   {
    "duration": 3,
    "start_time": "2022-05-28T16:46:49.100Z"
   },
   {
    "duration": 2,
    "start_time": "2022-05-28T16:46:49.282Z"
   },
   {
    "duration": 385,
    "start_time": "2022-05-28T16:46:49.463Z"
   },
   {
    "duration": 8,
    "start_time": "2022-05-28T16:46:50.015Z"
   },
   {
    "duration": 28,
    "start_time": "2022-05-28T16:46:50.528Z"
   },
   {
    "duration": 21,
    "start_time": "2022-05-28T16:46:50.793Z"
   },
   {
    "duration": 22,
    "start_time": "2022-05-28T16:46:50.968Z"
   },
   {
    "duration": 6,
    "start_time": "2022-05-28T16:46:51.148Z"
   },
   {
    "duration": 28,
    "start_time": "2022-05-28T16:46:51.346Z"
   },
   {
    "duration": 7,
    "start_time": "2022-05-28T16:46:51.539Z"
   },
   {
    "duration": 8,
    "start_time": "2022-05-28T16:46:51.905Z"
   },
   {
    "duration": 30,
    "start_time": "2022-05-28T16:46:52.115Z"
   },
   {
    "duration": 18,
    "start_time": "2022-05-28T16:46:52.322Z"
   },
   {
    "duration": 26,
    "start_time": "2022-05-28T16:46:52.529Z"
   },
   {
    "duration": 16,
    "start_time": "2022-05-28T16:46:52.916Z"
   },
   {
    "duration": 8,
    "start_time": "2022-05-28T16:46:53.094Z"
   },
   {
    "duration": 7,
    "start_time": "2022-05-28T16:46:53.301Z"
   },
   {
    "duration": 13,
    "start_time": "2022-05-28T16:46:53.478Z"
   },
   {
    "duration": 15,
    "start_time": "2022-05-28T16:46:53.661Z"
   },
   {
    "duration": 13,
    "start_time": "2022-05-28T16:46:53.839Z"
   },
   {
    "duration": 17,
    "start_time": "2022-05-28T16:46:54.023Z"
   },
   {
    "duration": 7,
    "start_time": "2022-05-28T16:46:54.207Z"
   },
   {
    "duration": 8,
    "start_time": "2022-05-28T16:46:54.379Z"
   },
   {
    "duration": 27,
    "start_time": "2022-05-28T16:46:54.572Z"
   },
   {
    "duration": 9,
    "start_time": "2022-05-28T16:46:54.948Z"
   },
   {
    "duration": 13,
    "start_time": "2022-05-28T16:46:55.116Z"
   },
   {
    "duration": 13,
    "start_time": "2022-05-28T16:46:55.316Z"
   },
   {
    "duration": 4,
    "start_time": "2022-05-28T16:46:55.740Z"
   },
   {
    "duration": 4,
    "start_time": "2022-05-28T16:46:55.892Z"
   },
   {
    "duration": 12,
    "start_time": "2022-05-28T16:46:56.109Z"
   },
   {
    "duration": 58,
    "start_time": "2022-05-28T16:46:56.790Z"
   },
   {
    "duration": 8,
    "start_time": "2022-05-28T16:46:57.002Z"
   },
   {
    "duration": 38,
    "start_time": "2022-05-28T16:46:57.208Z"
   },
   {
    "duration": 7,
    "start_time": "2022-05-28T16:46:57.398Z"
   },
   {
    "duration": 39,
    "start_time": "2022-05-28T16:46:57.815Z"
   },
   {
    "duration": 8,
    "start_time": "2022-05-28T16:46:58.277Z"
   },
   {
    "duration": 25,
    "start_time": "2022-05-28T16:46:58.645Z"
   },
   {
    "duration": 8,
    "start_time": "2022-05-28T16:46:58.917Z"
   },
   {
    "duration": 49,
    "start_time": "2022-05-28T16:46:59.839Z"
   },
   {
    "duration": 10,
    "start_time": "2022-05-28T16:47:00.190Z"
   },
   {
    "duration": 32,
    "start_time": "2022-05-28T16:47:00.465Z"
   },
   {
    "duration": 7,
    "start_time": "2022-05-28T16:47:00.680Z"
   },
   {
    "duration": 9,
    "start_time": "2022-05-28T16:47:01.804Z"
   },
   {
    "duration": 8,
    "start_time": "2022-05-28T16:47:02.196Z"
   },
   {
    "duration": 16,
    "start_time": "2022-05-28T16:47:02.706Z"
   },
   {
    "duration": 18,
    "start_time": "2022-05-28T16:47:03.924Z"
   },
   {
    "duration": 8,
    "start_time": "2022-05-28T16:47:04.424Z"
   },
   {
    "duration": 9,
    "start_time": "2022-05-28T16:47:05.247Z"
   },
   {
    "duration": 13,
    "start_time": "2022-05-28T16:47:06.414Z"
   },
   {
    "duration": 13,
    "start_time": "2022-05-28T16:47:19.533Z"
   },
   {
    "duration": 12,
    "start_time": "2022-05-28T16:47:58.678Z"
   },
   {
    "duration": 24,
    "start_time": "2022-05-28T16:50:57.919Z"
   },
   {
    "duration": 9,
    "start_time": "2022-05-28T16:50:58.474Z"
   },
   {
    "duration": 52,
    "start_time": "2022-05-28T16:51:07.484Z"
   },
   {
    "duration": 9,
    "start_time": "2022-05-28T16:51:11.129Z"
   },
   {
    "duration": 30,
    "start_time": "2022-05-28T16:51:13.443Z"
   },
   {
    "duration": 7,
    "start_time": "2022-05-28T16:51:14.189Z"
   },
   {
    "duration": 15,
    "start_time": "2022-05-28T16:53:41.924Z"
   },
   {
    "duration": 9,
    "start_time": "2022-05-28T16:53:55.682Z"
   },
   {
    "duration": 14,
    "start_time": "2022-05-28T16:54:33.473Z"
   },
   {
    "duration": 22,
    "start_time": "2022-05-28T16:55:17.495Z"
   },
   {
    "duration": 26,
    "start_time": "2022-05-28T16:55:45.637Z"
   },
   {
    "duration": 8,
    "start_time": "2022-05-28T16:55:47.669Z"
   },
   {
    "duration": 10,
    "start_time": "2022-05-28T16:55:49.037Z"
   },
   {
    "duration": 13,
    "start_time": "2022-05-28T16:55:49.729Z"
   },
   {
    "duration": 10,
    "start_time": "2022-05-28T16:56:22.332Z"
   },
   {
    "duration": 24,
    "start_time": "2022-05-28T16:57:00.615Z"
   },
   {
    "duration": 26,
    "start_time": "2022-05-28T16:57:01.257Z"
   },
   {
    "duration": 36,
    "start_time": "2022-05-28T16:57:01.892Z"
   },
   {
    "duration": 14,
    "start_time": "2022-05-28T16:57:02.602Z"
   },
   {
    "duration": 12,
    "start_time": "2022-05-28T16:57:03.809Z"
   },
   {
    "duration": 12,
    "start_time": "2022-05-28T16:57:04.963Z"
   },
   {
    "duration": 10,
    "start_time": "2022-05-28T16:57:06.593Z"
   },
   {
    "duration": 1149,
    "start_time": "2022-05-28T16:57:14.511Z"
   },
   {
    "duration": 2,
    "start_time": "2022-05-28T16:57:15.662Z"
   },
   {
    "duration": 417,
    "start_time": "2022-05-28T16:57:15.668Z"
   },
   {
    "duration": 11,
    "start_time": "2022-05-28T16:57:16.087Z"
   },
   {
    "duration": 40,
    "start_time": "2022-05-28T16:57:16.100Z"
   },
   {
    "duration": 24,
    "start_time": "2022-05-28T16:57:16.142Z"
   },
   {
    "duration": 25,
    "start_time": "2022-05-28T16:57:16.168Z"
   },
   {
    "duration": 7,
    "start_time": "2022-05-28T16:57:16.195Z"
   },
   {
    "duration": 52,
    "start_time": "2022-05-28T16:57:16.204Z"
   },
   {
    "duration": 7,
    "start_time": "2022-05-28T16:57:16.258Z"
   },
   {
    "duration": 10,
    "start_time": "2022-05-28T16:57:16.267Z"
   },
   {
    "duration": 31,
    "start_time": "2022-05-28T16:57:16.278Z"
   },
   {
    "duration": 44,
    "start_time": "2022-05-28T16:57:16.312Z"
   },
   {
    "duration": 20,
    "start_time": "2022-05-28T16:57:16.358Z"
   },
   {
    "duration": 16,
    "start_time": "2022-05-28T16:57:16.379Z"
   },
   {
    "duration": 19,
    "start_time": "2022-05-28T16:57:16.397Z"
   },
   {
    "duration": 10,
    "start_time": "2022-05-28T16:57:16.418Z"
   },
   {
    "duration": 29,
    "start_time": "2022-05-28T16:57:16.429Z"
   },
   {
    "duration": 19,
    "start_time": "2022-05-28T16:57:16.460Z"
   },
   {
    "duration": 13,
    "start_time": "2022-05-28T16:57:16.481Z"
   },
   {
    "duration": 24,
    "start_time": "2022-05-28T16:57:16.495Z"
   },
   {
    "duration": 8,
    "start_time": "2022-05-28T16:57:16.521Z"
   },
   {
    "duration": 28,
    "start_time": "2022-05-28T16:57:16.530Z"
   },
   {
    "duration": 30,
    "start_time": "2022-05-28T16:57:16.560Z"
   },
   {
    "duration": 10,
    "start_time": "2022-05-28T16:57:16.592Z"
   },
   {
    "duration": 25,
    "start_time": "2022-05-28T16:57:16.604Z"
   },
   {
    "duration": 25,
    "start_time": "2022-05-28T16:57:16.632Z"
   },
   {
    "duration": 18,
    "start_time": "2022-05-28T16:57:16.659Z"
   },
   {
    "duration": 11,
    "start_time": "2022-05-28T16:57:16.678Z"
   },
   {
    "duration": 22,
    "start_time": "2022-05-28T16:57:16.690Z"
   },
   {
    "duration": 65,
    "start_time": "2022-05-28T16:57:16.714Z"
   },
   {
    "duration": 8,
    "start_time": "2022-05-28T16:57:16.781Z"
   },
   {
    "duration": 41,
    "start_time": "2022-05-28T16:57:16.791Z"
   },
   {
    "duration": 26,
    "start_time": "2022-05-28T16:57:16.833Z"
   },
   {
    "duration": 50,
    "start_time": "2022-05-28T16:57:16.861Z"
   },
   {
    "duration": 9,
    "start_time": "2022-05-28T16:57:16.913Z"
   },
   {
    "duration": 30,
    "start_time": "2022-05-28T16:57:16.924Z"
   },
   {
    "duration": 8,
    "start_time": "2022-05-28T16:57:16.956Z"
   },
   {
    "duration": 59,
    "start_time": "2022-05-28T16:57:16.966Z"
   },
   {
    "duration": 24,
    "start_time": "2022-05-28T16:57:17.029Z"
   },
   {
    "duration": 33,
    "start_time": "2022-05-28T16:57:17.055Z"
   },
   {
    "duration": 8,
    "start_time": "2022-05-28T16:57:17.090Z"
   },
   {
    "duration": 11,
    "start_time": "2022-05-28T16:57:17.099Z"
   },
   {
    "duration": 8,
    "start_time": "2022-05-28T16:57:17.112Z"
   },
   {
    "duration": 38,
    "start_time": "2022-05-28T16:57:17.122Z"
   },
   {
    "duration": 18,
    "start_time": "2022-05-28T16:57:17.162Z"
   },
   {
    "duration": 8,
    "start_time": "2022-05-28T16:57:17.182Z"
   },
   {
    "duration": 10,
    "start_time": "2022-05-28T16:57:17.191Z"
   },
   {
    "duration": 132,
    "start_time": "2022-05-28T16:57:17.203Z"
   },
   {
    "duration": 0,
    "start_time": "2022-05-28T16:57:17.337Z"
   },
   {
    "duration": 0,
    "start_time": "2022-05-28T16:57:17.339Z"
   },
   {
    "duration": 1,
    "start_time": "2022-05-28T16:57:17.340Z"
   },
   {
    "duration": 0,
    "start_time": "2022-05-28T16:57:17.342Z"
   },
   {
    "duration": 0,
    "start_time": "2022-05-28T16:57:17.352Z"
   },
   {
    "duration": 0,
    "start_time": "2022-05-28T16:57:17.353Z"
   },
   {
    "duration": 0,
    "start_time": "2022-05-28T16:57:17.355Z"
   },
   {
    "duration": 0,
    "start_time": "2022-05-28T16:57:17.357Z"
   },
   {
    "duration": 0,
    "start_time": "2022-05-28T16:57:17.358Z"
   },
   {
    "duration": 0,
    "start_time": "2022-05-28T16:57:17.360Z"
   },
   {
    "duration": 0,
    "start_time": "2022-05-28T16:57:17.361Z"
   },
   {
    "duration": 2,
    "start_time": "2022-05-28T16:57:41.421Z"
   },
   {
    "duration": 9,
    "start_time": "2022-05-28T16:57:43.096Z"
   },
   {
    "duration": 6,
    "start_time": "2022-05-28T16:57:46.154Z"
   },
   {
    "duration": 9,
    "start_time": "2022-05-28T16:57:46.809Z"
   },
   {
    "duration": 9,
    "start_time": "2022-05-28T16:57:47.567Z"
   },
   {
    "duration": 8,
    "start_time": "2022-05-28T16:57:50.404Z"
   },
   {
    "duration": 4,
    "start_time": "2022-05-28T16:57:51.465Z"
   },
   {
    "duration": 13,
    "start_time": "2022-05-28T16:57:53.764Z"
   },
   {
    "duration": 3,
    "start_time": "2022-05-28T16:57:56.999Z"
   },
   {
    "duration": 28,
    "start_time": "2022-05-28T16:57:57.592Z"
   },
   {
    "duration": 11,
    "start_time": "2022-05-28T16:58:45.672Z"
   },
   {
    "duration": 12,
    "start_time": "2022-05-28T16:58:52.545Z"
   },
   {
    "duration": 6,
    "start_time": "2022-05-28T17:01:29.103Z"
   },
   {
    "duration": 5,
    "start_time": "2022-05-28T17:01:50.739Z"
   },
   {
    "duration": 10,
    "start_time": "2022-05-28T17:03:25.640Z"
   },
   {
    "duration": 76,
    "start_time": "2022-05-29T09:36:31.304Z"
   },
   {
    "duration": 9,
    "start_time": "2022-05-29T09:36:45.200Z"
   },
   {
    "duration": 7,
    "start_time": "2022-05-29T09:36:49.225Z"
   },
   {
    "duration": 1409,
    "start_time": "2022-05-29T09:36:56.176Z"
   },
   {
    "duration": 6,
    "start_time": "2022-05-29T09:36:57.588Z"
   },
   {
    "duration": 1581,
    "start_time": "2022-05-29T09:36:57.595Z"
   },
   {
    "duration": 16,
    "start_time": "2022-05-29T09:36:59.179Z"
   },
   {
    "duration": 67,
    "start_time": "2022-05-29T09:36:59.197Z"
   },
   {
    "duration": 28,
    "start_time": "2022-05-29T09:36:59.266Z"
   },
   {
    "duration": 46,
    "start_time": "2022-05-29T09:36:59.296Z"
   },
   {
    "duration": 117,
    "start_time": "2022-05-29T09:36:59.345Z"
   },
   {
    "duration": 6,
    "start_time": "2022-05-29T09:37:53.472Z"
   },
   {
    "duration": 16,
    "start_time": "2022-05-29T09:37:56.344Z"
   },
   {
    "duration": 18,
    "start_time": "2022-05-29T09:38:07.283Z"
   },
   {
    "duration": 40,
    "start_time": "2022-05-29T09:38:11.941Z"
   },
   {
    "duration": 5,
    "start_time": "2022-05-29T09:38:12.727Z"
   },
   {
    "duration": 15,
    "start_time": "2022-05-29T09:38:13.540Z"
   },
   {
    "duration": 10,
    "start_time": "2022-05-29T09:39:39.811Z"
   },
   {
    "duration": 15,
    "start_time": "2022-05-29T09:40:03.062Z"
   },
   {
    "duration": 13,
    "start_time": "2022-05-29T09:41:50.960Z"
   },
   {
    "duration": 13,
    "start_time": "2022-05-29T09:43:27.058Z"
   },
   {
    "duration": 11,
    "start_time": "2022-05-29T09:43:30.270Z"
   },
   {
    "duration": 32,
    "start_time": "2022-05-29T09:43:40.146Z"
   },
   {
    "duration": 28,
    "start_time": "2022-05-29T09:43:41.312Z"
   },
   {
    "duration": 4,
    "start_time": "2022-05-29T09:43:41.944Z"
   },
   {
    "duration": 11,
    "start_time": "2022-05-29T09:43:42.578Z"
   },
   {
    "duration": 49,
    "start_time": "2022-05-29T09:43:56.981Z"
   },
   {
    "duration": 22,
    "start_time": "2022-05-29T09:43:57.880Z"
   },
   {
    "duration": 9,
    "start_time": "2022-05-29T09:43:59.864Z"
   },
   {
    "duration": 13,
    "start_time": "2022-05-29T09:46:54.080Z"
   },
   {
    "duration": 4,
    "start_time": "2022-05-29T09:49:26.400Z"
   },
   {
    "duration": 3,
    "start_time": "2022-05-29T09:49:26.827Z"
   },
   {
    "duration": 523,
    "start_time": "2022-05-29T09:49:27.001Z"
   },
   {
    "duration": 13,
    "start_time": "2022-05-29T09:49:27.526Z"
   },
   {
    "duration": 39,
    "start_time": "2022-05-29T09:49:27.566Z"
   },
   {
    "duration": 41,
    "start_time": "2022-05-29T09:49:28.111Z"
   },
   {
    "duration": 40,
    "start_time": "2022-05-29T09:49:28.746Z"
   },
   {
    "duration": 5,
    "start_time": "2022-05-29T09:49:29.370Z"
   },
   {
    "duration": 30,
    "start_time": "2022-05-29T09:49:44.366Z"
   },
   {
    "duration": 460,
    "start_time": "2022-05-29T09:50:43.558Z"
   },
   {
    "duration": 14,
    "start_time": "2022-05-29T09:50:44.444Z"
   },
   {
    "duration": 45,
    "start_time": "2022-05-29T09:50:44.752Z"
   },
   {
    "duration": 46,
    "start_time": "2022-05-29T09:50:45.279Z"
   },
   {
    "duration": 45,
    "start_time": "2022-05-29T09:50:45.799Z"
   },
   {
    "duration": 5,
    "start_time": "2022-05-29T09:50:46.244Z"
   },
   {
    "duration": 31,
    "start_time": "2022-05-29T09:50:46.950Z"
   },
   {
    "duration": 10,
    "start_time": "2022-05-29T09:50:47.220Z"
   },
   {
    "duration": 9,
    "start_time": "2022-05-29T09:50:48.612Z"
   },
   {
    "duration": 34,
    "start_time": "2022-05-29T09:50:49.602Z"
   },
   {
    "duration": 38,
    "start_time": "2022-05-29T09:50:50.750Z"
   },
   {
    "duration": 13,
    "start_time": "2022-05-29T09:55:05.319Z"
   },
   {
    "duration": 8,
    "start_time": "2022-05-29T09:58:15.659Z"
   },
   {
    "duration": 9,
    "start_time": "2022-05-29T09:58:33.762Z"
   },
   {
    "duration": 17,
    "start_time": "2022-05-29T10:01:07.445Z"
   },
   {
    "duration": 14,
    "start_time": "2022-05-29T10:01:36.537Z"
   },
   {
    "duration": 168,
    "start_time": "2022-05-29T10:01:40.760Z"
   },
   {
    "duration": 15,
    "start_time": "2022-05-29T10:07:58.180Z"
   },
   {
    "duration": 19,
    "start_time": "2022-05-29T10:08:22.257Z"
   },
   {
    "duration": 20,
    "start_time": "2022-05-29T10:08:27.702Z"
   },
   {
    "duration": 11,
    "start_time": "2022-05-29T10:08:41.614Z"
   },
   {
    "duration": 20,
    "start_time": "2022-05-29T10:08:42.365Z"
   },
   {
    "duration": 14,
    "start_time": "2022-05-29T10:08:57.250Z"
   },
   {
    "duration": 4,
    "start_time": "2022-05-29T10:09:07.044Z"
   },
   {
    "duration": 4,
    "start_time": "2022-05-29T10:09:07.353Z"
   },
   {
    "duration": 630,
    "start_time": "2022-05-29T10:09:07.521Z"
   },
   {
    "duration": 13,
    "start_time": "2022-05-29T10:09:08.154Z"
   },
   {
    "duration": 73,
    "start_time": "2022-05-29T10:09:08.171Z"
   },
   {
    "duration": 42,
    "start_time": "2022-05-29T10:09:08.247Z"
   },
   {
    "duration": 23,
    "start_time": "2022-05-29T10:09:08.428Z"
   },
   {
    "duration": 5,
    "start_time": "2022-05-29T10:09:08.606Z"
   },
   {
    "duration": 38,
    "start_time": "2022-05-29T10:09:08.969Z"
   },
   {
    "duration": 11,
    "start_time": "2022-05-29T10:09:09.149Z"
   },
   {
    "duration": 10,
    "start_time": "2022-05-29T10:09:09.514Z"
   },
   {
    "duration": 32,
    "start_time": "2022-05-29T10:09:09.705Z"
   },
   {
    "duration": 35,
    "start_time": "2022-05-29T10:09:09.888Z"
   },
   {
    "duration": 41,
    "start_time": "2022-05-29T10:09:10.977Z"
   },
   {
    "duration": 34,
    "start_time": "2022-05-29T10:09:11.409Z"
   },
   {
    "duration": 12,
    "start_time": "2022-05-29T10:09:11.651Z"
   },
   {
    "duration": 11,
    "start_time": "2022-05-29T10:09:11.957Z"
   },
   {
    "duration": 19,
    "start_time": "2022-05-29T10:09:12.212Z"
   },
   {
    "duration": 36,
    "start_time": "2022-05-29T10:09:12.652Z"
   },
   {
    "duration": 25,
    "start_time": "2022-05-29T10:09:12.882Z"
   },
   {
    "duration": 37,
    "start_time": "2022-05-29T10:09:13.149Z"
   },
   {
    "duration": 11,
    "start_time": "2022-05-29T10:09:13.358Z"
   },
   {
    "duration": 13,
    "start_time": "2022-05-29T10:09:13.607Z"
   },
   {
    "duration": 38,
    "start_time": "2022-05-29T10:09:13.833Z"
   },
   {
    "duration": 14,
    "start_time": "2022-05-29T10:09:14.367Z"
   },
   {
    "duration": 20,
    "start_time": "2022-05-29T10:09:14.602Z"
   },
   {
    "duration": 16,
    "start_time": "2022-05-29T10:09:14.896Z"
   },
   {
    "duration": 7,
    "start_time": "2022-05-29T10:09:15.389Z"
   },
   {
    "duration": 7,
    "start_time": "2022-05-29T10:09:15.620Z"
   },
   {
    "duration": 18,
    "start_time": "2022-05-29T10:09:15.845Z"
   },
   {
    "duration": 8,
    "start_time": "2022-05-29T10:09:16.107Z"
   },
   {
    "duration": 16,
    "start_time": "2022-05-29T10:09:16.706Z"
   },
   {
    "duration": 124,
    "start_time": "2022-05-29T10:09:17.784Z"
   },
   {
    "duration": 13,
    "start_time": "2022-05-29T10:09:19.086Z"
   },
   {
    "duration": 58,
    "start_time": "2022-05-29T10:09:20.127Z"
   },
   {
    "duration": 10,
    "start_time": "2022-05-29T10:09:21.882Z"
   },
   {
    "duration": 11,
    "start_time": "2022-05-29T10:22:02.485Z"
   },
   {
    "duration": 10,
    "start_time": "2022-05-29T10:22:15.247Z"
   },
   {
    "duration": 13,
    "start_time": "2022-05-29T10:22:16.429Z"
   },
   {
    "duration": 13,
    "start_time": "2022-05-29T10:22:20.167Z"
   },
   {
    "duration": 32,
    "start_time": "2022-05-29T10:23:00.691Z"
   },
   {
    "duration": 11,
    "start_time": "2022-05-29T10:23:07.527Z"
   },
   {
    "duration": 4,
    "start_time": "2022-05-29T10:23:21.848Z"
   },
   {
    "duration": 4,
    "start_time": "2022-05-29T10:23:22.178Z"
   },
   {
    "duration": 577,
    "start_time": "2022-05-29T10:23:22.330Z"
   },
   {
    "duration": 12,
    "start_time": "2022-05-29T10:23:22.910Z"
   },
   {
    "duration": 58,
    "start_time": "2022-05-29T10:23:22.924Z"
   },
   {
    "duration": 25,
    "start_time": "2022-05-29T10:23:23.018Z"
   },
   {
    "duration": 38,
    "start_time": "2022-05-29T10:23:23.165Z"
   },
   {
    "duration": 6,
    "start_time": "2022-05-29T10:23:23.328Z"
   },
   {
    "duration": 48,
    "start_time": "2022-05-29T10:23:23.668Z"
   },
   {
    "duration": 8,
    "start_time": "2022-05-29T10:23:23.828Z"
   },
   {
    "duration": 10,
    "start_time": "2022-05-29T10:23:24.343Z"
   },
   {
    "duration": 25,
    "start_time": "2022-05-29T10:23:24.518Z"
   },
   {
    "duration": 22,
    "start_time": "2022-05-29T10:23:24.710Z"
   },
   {
    "duration": 22,
    "start_time": "2022-05-29T10:23:25.263Z"
   },
   {
    "duration": 17,
    "start_time": "2022-05-29T10:23:25.457Z"
   },
   {
    "duration": 7,
    "start_time": "2022-05-29T10:23:25.649Z"
   },
   {
    "duration": 7,
    "start_time": "2022-05-29T10:23:25.857Z"
   },
   {
    "duration": 18,
    "start_time": "2022-05-29T10:23:26.060Z"
   },
   {
    "duration": 22,
    "start_time": "2022-05-29T10:23:26.250Z"
   },
   {
    "duration": 25,
    "start_time": "2022-05-29T10:23:26.468Z"
   },
   {
    "duration": 20,
    "start_time": "2022-05-29T10:23:26.619Z"
   },
   {
    "duration": 10,
    "start_time": "2022-05-29T10:23:26.855Z"
   },
   {
    "duration": 11,
    "start_time": "2022-05-29T10:23:27.043Z"
   },
   {
    "duration": 33,
    "start_time": "2022-05-29T10:23:27.231Z"
   },
   {
    "duration": 11,
    "start_time": "2022-05-29T10:23:27.643Z"
   },
   {
    "duration": 15,
    "start_time": "2022-05-29T10:23:27.860Z"
   },
   {
    "duration": 15,
    "start_time": "2022-05-29T10:23:28.040Z"
   },
   {
    "duration": 5,
    "start_time": "2022-05-29T10:23:28.444Z"
   },
   {
    "duration": 5,
    "start_time": "2022-05-29T10:23:28.609Z"
   },
   {
    "duration": 11,
    "start_time": "2022-05-29T10:23:28.824Z"
   },
   {
    "duration": 7,
    "start_time": "2022-05-29T10:23:29.043Z"
   },
   {
    "duration": 13,
    "start_time": "2022-05-29T10:23:30.259Z"
   },
   {
    "duration": 71,
    "start_time": "2022-05-29T10:23:30.694Z"
   },
   {
    "duration": 8,
    "start_time": "2022-05-29T10:23:31.307Z"
   },
   {
    "duration": 55,
    "start_time": "2022-05-29T10:23:31.710Z"
   },
   {
    "duration": 12,
    "start_time": "2022-05-29T10:23:32.044Z"
   },
   {
    "duration": 51,
    "start_time": "2022-05-29T10:23:33.655Z"
   },
   {
    "duration": 10,
    "start_time": "2022-05-29T10:23:34.589Z"
   },
   {
    "duration": 33,
    "start_time": "2022-05-29T10:23:34.885Z"
   },
   {
    "duration": 8,
    "start_time": "2022-05-29T10:23:35.261Z"
   },
   {
    "duration": 52,
    "start_time": "2022-05-29T10:23:36.023Z"
   },
   {
    "duration": 12,
    "start_time": "2022-05-29T10:23:36.304Z"
   },
   {
    "duration": 40,
    "start_time": "2022-05-29T10:23:36.570Z"
   },
   {
    "duration": 8,
    "start_time": "2022-05-29T10:23:36.785Z"
   },
   {
    "duration": 11,
    "start_time": "2022-05-29T10:23:37.282Z"
   },
   {
    "duration": 11,
    "start_time": "2022-05-29T10:23:37.586Z"
   },
   {
    "duration": 19,
    "start_time": "2022-05-29T10:23:37.829Z"
   },
   {
    "duration": 24,
    "start_time": "2022-05-29T10:23:38.088Z"
   },
   {
    "duration": 8,
    "start_time": "2022-05-29T10:23:38.420Z"
   },
   {
    "duration": 7,
    "start_time": "2022-05-29T10:23:38.682Z"
   },
   {
    "duration": 18,
    "start_time": "2022-05-29T10:23:39.784Z"
   },
   {
    "duration": 17,
    "start_time": "2022-05-29T10:24:23.043Z"
   },
   {
    "duration": 11,
    "start_time": "2022-05-29T10:25:22.682Z"
   },
   {
    "duration": 31,
    "start_time": "2022-05-29T10:25:29.478Z"
   },
   {
    "duration": 10,
    "start_time": "2022-05-29T10:25:42.002Z"
   },
   {
    "duration": 23,
    "start_time": "2022-05-29T10:26:17.521Z"
   },
   {
    "duration": 19,
    "start_time": "2022-05-29T10:26:40.781Z"
   },
   {
    "duration": 691,
    "start_time": "2022-05-29T10:27:47.261Z"
   },
   {
    "duration": 1095,
    "start_time": "2022-05-29T10:27:57.843Z"
   },
   {
    "duration": 567,
    "start_time": "2022-05-29T10:28:18.501Z"
   },
   {
    "duration": 6,
    "start_time": "2022-05-29T10:28:25.446Z"
   },
   {
    "duration": 6,
    "start_time": "2022-05-29T10:29:08.347Z"
   },
   {
    "duration": 18,
    "start_time": "2022-05-29T10:34:08.744Z"
   },
   {
    "duration": 4,
    "start_time": "2022-05-29T10:35:02.180Z"
   },
   {
    "duration": 21,
    "start_time": "2022-05-29T10:35:13.725Z"
   },
   {
    "duration": 1682,
    "start_time": "2022-05-29T10:35:43.752Z"
   },
   {
    "duration": 0,
    "start_time": "2022-05-29T10:35:45.437Z"
   },
   {
    "duration": 42,
    "start_time": "2022-05-29T10:35:56.618Z"
   },
   {
    "duration": 4,
    "start_time": "2022-05-29T10:36:08.558Z"
   },
   {
    "duration": 52,
    "start_time": "2022-05-29T10:36:09.680Z"
   },
   {
    "duration": 23,
    "start_time": "2022-05-29T10:39:41.630Z"
   },
   {
    "duration": 7,
    "start_time": "2022-05-29T10:39:47.890Z"
   },
   {
    "duration": 10,
    "start_time": "2022-05-29T10:39:55.309Z"
   },
   {
    "duration": 23,
    "start_time": "2022-05-29T10:39:57.809Z"
   },
   {
    "duration": 8,
    "start_time": "2022-05-29T10:39:59.438Z"
   },
   {
    "duration": 10,
    "start_time": "2022-05-29T10:40:00.729Z"
   },
   {
    "duration": 5,
    "start_time": "2022-05-29T10:41:19.307Z"
   },
   {
    "duration": 16,
    "start_time": "2022-05-29T10:44:46.851Z"
   },
   {
    "duration": 25,
    "start_time": "2022-05-29T10:44:51.814Z"
   },
   {
    "duration": 34,
    "start_time": "2022-05-29T10:45:25.711Z"
   },
   {
    "duration": 33,
    "start_time": "2022-05-29T10:45:35.242Z"
   },
   {
    "duration": 5,
    "start_time": "2022-05-29T10:51:17.957Z"
   },
   {
    "duration": 25,
    "start_time": "2022-05-29T10:51:25.742Z"
   },
   {
    "duration": 47,
    "start_time": "2022-05-29T10:51:30.271Z"
   },
   {
    "duration": 733,
    "start_time": "2022-05-29T10:52:24.801Z"
   },
   {
    "duration": 4,
    "start_time": "2022-05-29T10:52:39.137Z"
   },
   {
    "duration": 5,
    "start_time": "2022-05-29T10:52:41.806Z"
   },
   {
    "duration": 545,
    "start_time": "2022-05-29T10:52:42.005Z"
   },
   {
    "duration": 10,
    "start_time": "2022-05-29T10:52:42.553Z"
   },
   {
    "duration": 41,
    "start_time": "2022-05-29T10:52:42.566Z"
   },
   {
    "duration": 41,
    "start_time": "2022-05-29T10:52:42.836Z"
   },
   {
    "duration": 36,
    "start_time": "2022-05-29T10:52:43.000Z"
   },
   {
    "duration": 7,
    "start_time": "2022-05-29T10:52:43.158Z"
   },
   {
    "duration": 47,
    "start_time": "2022-05-29T10:52:43.809Z"
   },
   {
    "duration": 16,
    "start_time": "2022-05-29T10:52:44.002Z"
   },
   {
    "duration": 14,
    "start_time": "2022-05-29T10:52:44.535Z"
   },
   {
    "duration": 33,
    "start_time": "2022-05-29T10:52:44.708Z"
   },
   {
    "duration": 36,
    "start_time": "2022-05-29T10:52:44.883Z"
   },
   {
    "duration": 43,
    "start_time": "2022-05-29T10:52:45.382Z"
   },
   {
    "duration": 32,
    "start_time": "2022-05-29T10:52:45.571Z"
   },
   {
    "duration": 10,
    "start_time": "2022-05-29T10:52:45.738Z"
   },
   {
    "duration": 10,
    "start_time": "2022-05-29T10:52:45.928Z"
   },
   {
    "duration": 26,
    "start_time": "2022-05-29T10:52:46.088Z"
   },
   {
    "duration": 42,
    "start_time": "2022-05-29T10:52:46.271Z"
   },
   {
    "duration": 16,
    "start_time": "2022-05-29T10:52:46.420Z"
   },
   {
    "duration": 35,
    "start_time": "2022-05-29T10:52:46.600Z"
   },
   {
    "duration": 9,
    "start_time": "2022-05-29T10:52:46.738Z"
   },
   {
    "duration": 9,
    "start_time": "2022-05-29T10:52:46.937Z"
   },
   {
    "duration": 29,
    "start_time": "2022-05-29T10:52:47.103Z"
   },
   {
    "duration": 15,
    "start_time": "2022-05-29T10:52:47.476Z"
   },
   {
    "duration": 20,
    "start_time": "2022-05-29T10:52:47.860Z"
   },
   {
    "duration": 16,
    "start_time": "2022-05-29T10:52:48.042Z"
   },
   {
    "duration": 16,
    "start_time": "2022-05-29T10:52:48.406Z"
   },
   {
    "duration": 5,
    "start_time": "2022-05-29T10:52:48.569Z"
   },
   {
    "duration": 17,
    "start_time": "2022-05-29T10:52:48.754Z"
   },
   {
    "duration": 8,
    "start_time": "2022-05-29T10:52:49.140Z"
   },
   {
    "duration": 14,
    "start_time": "2022-05-29T10:52:49.702Z"
   },
   {
    "duration": 87,
    "start_time": "2022-05-29T10:52:50.045Z"
   },
   {
    "duration": 11,
    "start_time": "2022-05-29T10:52:50.425Z"
   },
   {
    "duration": 64,
    "start_time": "2022-05-29T10:52:50.618Z"
   },
   {
    "duration": 11,
    "start_time": "2022-05-29T10:52:50.902Z"
   },
   {
    "duration": 72,
    "start_time": "2022-05-29T10:52:51.737Z"
   },
   {
    "duration": 12,
    "start_time": "2022-05-29T10:52:52.003Z"
   },
   {
    "duration": 28,
    "start_time": "2022-05-29T10:52:52.306Z"
   },
   {
    "duration": 10,
    "start_time": "2022-05-29T10:52:52.735Z"
   },
   {
    "duration": 63,
    "start_time": "2022-05-29T10:52:53.353Z"
   },
   {
    "duration": 10,
    "start_time": "2022-05-29T10:52:53.570Z"
   },
   {
    "duration": 44,
    "start_time": "2022-05-29T10:52:53.777Z"
   },
   {
    "duration": 10,
    "start_time": "2022-05-29T10:52:53.978Z"
   },
   {
    "duration": 12,
    "start_time": "2022-05-29T10:52:54.564Z"
   },
   {
    "duration": 9,
    "start_time": "2022-05-29T10:52:54.835Z"
   },
   {
    "duration": 23,
    "start_time": "2022-05-29T10:52:55.077Z"
   },
   {
    "duration": 24,
    "start_time": "2022-05-29T10:52:55.347Z"
   },
   {
    "duration": 9,
    "start_time": "2022-05-29T10:52:55.575Z"
   },
   {
    "duration": 11,
    "start_time": "2022-05-29T10:52:55.913Z"
   },
   {
    "duration": 7,
    "start_time": "2022-05-29T10:52:56.442Z"
   },
   {
    "duration": 4,
    "start_time": "2022-05-29T10:52:56.660Z"
   },
   {
    "duration": 4,
    "start_time": "2022-05-29T10:52:57.474Z"
   },
   {
    "duration": 25,
    "start_time": "2022-05-29T10:52:57.765Z"
   },
   {
    "duration": 9,
    "start_time": "2022-05-29T10:52:59.239Z"
   },
   {
    "duration": 6,
    "start_time": "2022-05-29T10:52:59.531Z"
   },
   {
    "duration": 11,
    "start_time": "2022-05-29T10:53:00.374Z"
   },
   {
    "duration": 16,
    "start_time": "2022-05-29T10:53:00.674Z"
   },
   {
    "duration": 10,
    "start_time": "2022-05-29T10:53:01.239Z"
   },
   {
    "duration": 6,
    "start_time": "2022-05-29T10:53:01.582Z"
   },
   {
    "duration": 21,
    "start_time": "2022-05-29T10:53:03.946Z"
   },
   {
    "duration": 104,
    "start_time": "2022-05-29T10:53:05.006Z"
   },
   {
    "duration": 44,
    "start_time": "2022-05-29T10:53:46.875Z"
   },
   {
    "duration": 9,
    "start_time": "2022-05-29T10:54:45.901Z"
   },
   {
    "duration": 4,
    "start_time": "2022-05-29T10:54:53.501Z"
   },
   {
    "duration": 4,
    "start_time": "2022-05-29T10:55:22.902Z"
   },
   {
    "duration": 5,
    "start_time": "2022-05-29T10:55:36.773Z"
   },
   {
    "duration": 9,
    "start_time": "2022-05-29T10:55:43.738Z"
   },
   {
    "duration": 4,
    "start_time": "2022-05-29T10:55:54.943Z"
   },
   {
    "duration": 16,
    "start_time": "2022-05-29T10:55:56.692Z"
   },
   {
    "duration": 39,
    "start_time": "2022-05-29T10:56:25.720Z"
   },
   {
    "duration": 30,
    "start_time": "2022-05-29T10:56:50.992Z"
   },
   {
    "duration": 4,
    "start_time": "2022-05-29T10:56:57.779Z"
   },
   {
    "duration": 3,
    "start_time": "2022-05-29T10:56:58.079Z"
   },
   {
    "duration": 461,
    "start_time": "2022-05-29T10:56:58.214Z"
   },
   {
    "duration": 8,
    "start_time": "2022-05-29T10:56:58.677Z"
   },
   {
    "duration": 93,
    "start_time": "2022-05-29T10:56:58.687Z"
   },
   {
    "duration": 30,
    "start_time": "2022-05-29T10:56:58.891Z"
   },
   {
    "duration": 34,
    "start_time": "2022-05-29T10:56:59.009Z"
   },
   {
    "duration": 6,
    "start_time": "2022-05-29T10:56:59.183Z"
   },
   {
    "duration": 28,
    "start_time": "2022-05-29T10:56:59.494Z"
   },
   {
    "duration": 12,
    "start_time": "2022-05-29T10:56:59.675Z"
   },
   {
    "duration": 12,
    "start_time": "2022-05-29T10:57:00.002Z"
   },
   {
    "duration": 33,
    "start_time": "2022-05-29T10:57:00.156Z"
   },
   {
    "duration": 36,
    "start_time": "2022-05-29T10:57:00.334Z"
   },
   {
    "duration": 38,
    "start_time": "2022-05-29T10:57:00.814Z"
   },
   {
    "duration": 19,
    "start_time": "2022-05-29T10:57:00.999Z"
   },
   {
    "duration": 9,
    "start_time": "2022-05-29T10:57:01.155Z"
   },
   {
    "duration": 8,
    "start_time": "2022-05-29T10:57:01.344Z"
   },
   {
    "duration": 15,
    "start_time": "2022-05-29T10:57:01.681Z"
   },
   {
    "duration": 28,
    "start_time": "2022-05-29T10:57:01.852Z"
   },
   {
    "duration": 14,
    "start_time": "2022-05-29T10:57:02.244Z"
   },
   {
    "duration": 20,
    "start_time": "2022-05-29T10:57:02.395Z"
   },
   {
    "duration": 8,
    "start_time": "2022-05-29T10:57:02.587Z"
   },
   {
    "duration": 9,
    "start_time": "2022-05-29T10:57:02.778Z"
   },
   {
    "duration": 35,
    "start_time": "2022-05-29T10:57:02.953Z"
   },
   {
    "duration": 14,
    "start_time": "2022-05-29T10:57:03.358Z"
   },
   {
    "duration": 15,
    "start_time": "2022-05-29T10:57:03.546Z"
   },
   {
    "duration": 11,
    "start_time": "2022-05-29T10:57:03.721Z"
   },
   {
    "duration": 4,
    "start_time": "2022-05-29T10:57:04.135Z"
   },
   {
    "duration": 4,
    "start_time": "2022-05-29T10:57:04.300Z"
   },
   {
    "duration": 16,
    "start_time": "2022-05-29T10:57:04.487Z"
   },
   {
    "duration": 8,
    "start_time": "2022-05-29T10:57:04.695Z"
   },
   {
    "duration": 17,
    "start_time": "2022-05-29T10:57:05.310Z"
   },
   {
    "duration": 105,
    "start_time": "2022-05-29T10:57:05.721Z"
   },
   {
    "duration": 12,
    "start_time": "2022-05-29T10:57:06.214Z"
   },
   {
    "duration": 57,
    "start_time": "2022-05-29T10:57:06.463Z"
   },
   {
    "duration": 10,
    "start_time": "2022-05-29T10:57:06.678Z"
   },
   {
    "duration": 49,
    "start_time": "2022-05-29T10:57:07.354Z"
   },
   {
    "duration": 9,
    "start_time": "2022-05-29T10:57:07.544Z"
   },
   {
    "duration": 31,
    "start_time": "2022-05-29T10:57:07.774Z"
   },
   {
    "duration": 10,
    "start_time": "2022-05-29T10:57:08.047Z"
   },
   {
    "duration": 60,
    "start_time": "2022-05-29T10:57:08.559Z"
   },
   {
    "duration": 8,
    "start_time": "2022-05-29T10:57:08.790Z"
   },
   {
    "duration": 30,
    "start_time": "2022-05-29T10:57:09.051Z"
   },
   {
    "duration": 10,
    "start_time": "2022-05-29T10:57:09.276Z"
   },
   {
    "duration": 10,
    "start_time": "2022-05-29T10:57:09.738Z"
   },
   {
    "duration": 8,
    "start_time": "2022-05-29T10:57:09.969Z"
   },
   {
    "duration": 16,
    "start_time": "2022-05-29T10:57:10.188Z"
   },
   {
    "duration": 20,
    "start_time": "2022-05-29T10:57:10.479Z"
   },
   {
    "duration": 13,
    "start_time": "2022-05-29T10:57:10.741Z"
   },
   {
    "duration": 11,
    "start_time": "2022-05-29T10:57:11.038Z"
   },
   {
    "duration": 6,
    "start_time": "2022-05-29T10:57:11.304Z"
   },
   {
    "duration": 5,
    "start_time": "2022-05-29T10:57:11.606Z"
   },
   {
    "duration": 4,
    "start_time": "2022-05-29T10:57:12.191Z"
   },
   {
    "duration": 30,
    "start_time": "2022-05-29T10:57:12.486Z"
   },
   {
    "duration": 11,
    "start_time": "2022-05-29T10:57:14.503Z"
   },
   {
    "duration": 8,
    "start_time": "2022-05-29T10:57:14.737Z"
   },
   {
    "duration": 9,
    "start_time": "2022-05-29T10:57:15.227Z"
   },
   {
    "duration": 12,
    "start_time": "2022-05-29T10:57:15.519Z"
   },
   {
    "duration": 9,
    "start_time": "2022-05-29T10:57:15.738Z"
   },
   {
    "duration": 4,
    "start_time": "2022-05-29T10:57:16.336Z"
   },
   {
    "duration": 29,
    "start_time": "2022-05-29T10:57:18.221Z"
   },
   {
    "duration": 12,
    "start_time": "2022-05-29T10:59:09.657Z"
   },
   {
    "duration": 7,
    "start_time": "2022-05-29T10:59:10.674Z"
   },
   {
    "duration": 10,
    "start_time": "2022-05-29T10:59:15.054Z"
   },
   {
    "duration": 17,
    "start_time": "2022-05-29T11:00:50.341Z"
   },
   {
    "duration": 44,
    "start_time": "2022-05-29T11:01:25.242Z"
   },
   {
    "duration": 4,
    "start_time": "2022-05-29T11:01:35.907Z"
   },
   {
    "duration": 17,
    "start_time": "2022-05-29T11:01:36.673Z"
   },
   {
    "duration": 586,
    "start_time": "2022-05-29T11:01:40.031Z"
   },
   {
    "duration": 1268,
    "start_time": "2022-05-29T11:02:11.069Z"
   },
   {
    "duration": 3,
    "start_time": "2022-05-29T11:02:12.340Z"
   },
   {
    "duration": 520,
    "start_time": "2022-05-29T11:02:12.345Z"
   },
   {
    "duration": 15,
    "start_time": "2022-05-29T11:02:12.868Z"
   },
   {
    "duration": 42,
    "start_time": "2022-05-29T11:02:12.886Z"
   },
   {
    "duration": 25,
    "start_time": "2022-05-29T11:02:12.930Z"
   },
   {
    "duration": 47,
    "start_time": "2022-05-29T11:02:12.957Z"
   },
   {
    "duration": 13,
    "start_time": "2022-05-29T11:02:13.006Z"
   },
   {
    "duration": 63,
    "start_time": "2022-05-29T11:02:13.021Z"
   },
   {
    "duration": 12,
    "start_time": "2022-05-29T11:02:13.088Z"
   },
   {
    "duration": 19,
    "start_time": "2022-05-29T11:02:13.103Z"
   },
   {
    "duration": 34,
    "start_time": "2022-05-29T11:02:13.124Z"
   },
   {
    "duration": 38,
    "start_time": "2022-05-29T11:02:13.160Z"
   },
   {
    "duration": 42,
    "start_time": "2022-05-29T11:02:13.200Z"
   },
   {
    "duration": 19,
    "start_time": "2022-05-29T11:02:13.244Z"
   },
   {
    "duration": 10,
    "start_time": "2022-05-29T11:02:13.265Z"
   },
   {
    "duration": 12,
    "start_time": "2022-05-29T11:02:13.284Z"
   },
   {
    "duration": 28,
    "start_time": "2022-05-29T11:02:13.298Z"
   },
   {
    "duration": 22,
    "start_time": "2022-05-29T11:02:13.328Z"
   },
   {
    "duration": 35,
    "start_time": "2022-05-29T11:02:13.352Z"
   },
   {
    "duration": 28,
    "start_time": "2022-05-29T11:02:13.389Z"
   },
   {
    "duration": 8,
    "start_time": "2022-05-29T11:02:13.419Z"
   },
   {
    "duration": 12,
    "start_time": "2022-05-29T11:02:13.428Z"
   },
   {
    "duration": 55,
    "start_time": "2022-05-29T11:02:13.442Z"
   },
   {
    "duration": 19,
    "start_time": "2022-05-29T11:02:13.499Z"
   },
   {
    "duration": 15,
    "start_time": "2022-05-29T11:02:13.520Z"
   },
   {
    "duration": 10,
    "start_time": "2022-05-29T11:02:13.537Z"
   },
   {
    "duration": 5,
    "start_time": "2022-05-29T11:02:13.553Z"
   },
   {
    "duration": 6,
    "start_time": "2022-05-29T11:02:13.584Z"
   },
   {
    "duration": 26,
    "start_time": "2022-05-29T11:02:13.591Z"
   },
   {
    "duration": 8,
    "start_time": "2022-05-29T11:02:13.619Z"
   },
   {
    "duration": 17,
    "start_time": "2022-05-29T11:02:13.628Z"
   },
   {
    "duration": 91,
    "start_time": "2022-05-29T11:02:13.647Z"
   },
   {
    "duration": 10,
    "start_time": "2022-05-29T11:02:13.739Z"
   },
   {
    "duration": 73,
    "start_time": "2022-05-29T11:02:13.751Z"
   },
   {
    "duration": 9,
    "start_time": "2022-05-29T11:02:13.826Z"
   },
   {
    "duration": 56,
    "start_time": "2022-05-29T11:02:13.836Z"
   },
   {
    "duration": 13,
    "start_time": "2022-05-29T11:02:13.895Z"
   },
   {
    "duration": 38,
    "start_time": "2022-05-29T11:02:13.910Z"
   },
   {
    "duration": 9,
    "start_time": "2022-05-29T11:02:13.950Z"
   },
   {
    "duration": 81,
    "start_time": "2022-05-29T11:02:13.961Z"
   },
   {
    "duration": 9,
    "start_time": "2022-05-29T11:02:14.044Z"
   },
   {
    "duration": 53,
    "start_time": "2022-05-29T11:02:14.055Z"
   },
   {
    "duration": 8,
    "start_time": "2022-05-29T11:02:14.110Z"
   },
   {
    "duration": 11,
    "start_time": "2022-05-29T11:02:14.119Z"
   },
   {
    "duration": 9,
    "start_time": "2022-05-29T11:02:14.132Z"
   },
   {
    "duration": 45,
    "start_time": "2022-05-29T11:02:14.142Z"
   },
   {
    "duration": 25,
    "start_time": "2022-05-29T11:02:14.189Z"
   },
   {
    "duration": 7,
    "start_time": "2022-05-29T11:02:14.216Z"
   },
   {
    "duration": 9,
    "start_time": "2022-05-29T11:02:14.225Z"
   },
   {
    "duration": 7,
    "start_time": "2022-05-29T11:02:14.236Z"
   },
   {
    "duration": 41,
    "start_time": "2022-05-29T11:02:14.244Z"
   },
   {
    "duration": 28,
    "start_time": "2022-05-29T11:02:14.286Z"
   },
   {
    "duration": 31,
    "start_time": "2022-05-29T11:02:14.316Z"
   },
   {
    "duration": 8,
    "start_time": "2022-05-29T11:02:14.349Z"
   },
   {
    "duration": 6,
    "start_time": "2022-05-29T11:02:14.358Z"
   },
   {
    "duration": 9,
    "start_time": "2022-05-29T11:02:14.366Z"
   },
   {
    "duration": 22,
    "start_time": "2022-05-29T11:02:14.376Z"
   },
   {
    "duration": 25,
    "start_time": "2022-05-29T11:02:14.399Z"
   },
   {
    "duration": 10,
    "start_time": "2022-05-29T11:02:14.426Z"
   },
   {
    "duration": 21,
    "start_time": "2022-05-29T11:02:14.438Z"
   },
   {
    "duration": 186,
    "start_time": "2022-05-29T11:02:14.461Z"
   },
   {
    "duration": 0,
    "start_time": "2022-05-29T11:02:14.650Z"
   },
   {
    "duration": 0,
    "start_time": "2022-05-29T11:02:14.651Z"
   },
   {
    "duration": 0,
    "start_time": "2022-05-29T11:02:14.652Z"
   },
   {
    "duration": 0,
    "start_time": "2022-05-29T11:02:14.654Z"
   },
   {
    "duration": 18,
    "start_time": "2022-05-29T11:02:34.875Z"
   },
   {
    "duration": 85,
    "start_time": "2022-05-29T11:02:36.243Z"
   },
   {
    "duration": 9,
    "start_time": "2022-05-29T11:03:19.269Z"
   },
   {
    "duration": 6,
    "start_time": "2022-05-29T11:03:36.397Z"
   },
   {
    "duration": 37,
    "start_time": "2022-05-29T11:03:37.710Z"
   },
   {
    "duration": 185,
    "start_time": "2022-05-29T11:03:46.510Z"
   },
   {
    "duration": 4,
    "start_time": "2022-05-29T11:03:54.331Z"
   },
   {
    "duration": 24,
    "start_time": "2022-05-29T11:03:58.110Z"
   },
   {
    "duration": 451,
    "start_time": "2022-05-29T11:04:11.509Z"
   },
   {
    "duration": 8,
    "start_time": "2022-05-29T11:04:22.367Z"
   },
   {
    "duration": 13,
    "start_time": "2022-05-29T11:04:54.991Z"
   },
   {
    "duration": 11,
    "start_time": "2022-05-29T11:05:02.597Z"
   },
   {
    "duration": 10,
    "start_time": "2022-05-29T11:07:05.762Z"
   },
   {
    "duration": 15,
    "start_time": "2022-05-29T11:07:43.270Z"
   },
   {
    "duration": 9,
    "start_time": "2022-05-29T11:10:29.093Z"
   },
   {
    "duration": 364,
    "start_time": "2022-05-29T11:18:22.244Z"
   },
   {
    "duration": 264,
    "start_time": "2022-05-29T11:18:35.047Z"
   },
   {
    "duration": 211,
    "start_time": "2022-05-29T11:19:08.398Z"
   },
   {
    "duration": 167,
    "start_time": "2022-05-29T11:19:49.587Z"
   },
   {
    "duration": 148,
    "start_time": "2022-05-29T11:20:23.687Z"
   },
   {
    "duration": 203,
    "start_time": "2022-05-29T11:21:45.915Z"
   },
   {
    "duration": 280,
    "start_time": "2022-05-29T11:29:52.952Z"
   },
   {
    "duration": 15,
    "start_time": "2022-05-29T11:30:21.747Z"
   },
   {
    "duration": 36,
    "start_time": "2022-05-29T11:33:49.504Z"
   },
   {
    "duration": 12,
    "start_time": "2022-05-29T11:35:20.158Z"
   },
   {
    "duration": 241,
    "start_time": "2022-05-29T11:38:49.452Z"
   },
   {
    "duration": 163,
    "start_time": "2022-05-29T11:39:31.490Z"
   },
   {
    "duration": 140,
    "start_time": "2022-05-29T11:39:49.528Z"
   },
   {
    "duration": 12,
    "start_time": "2022-05-29T11:45:55.399Z"
   },
   {
    "duration": 132,
    "start_time": "2022-05-29T11:46:48.501Z"
   },
   {
    "duration": 145,
    "start_time": "2022-05-29T11:47:21.231Z"
   },
   {
    "duration": 10,
    "start_time": "2022-05-29T11:53:48.697Z"
   },
   {
    "duration": 275,
    "start_time": "2022-05-29T11:54:28.194Z"
   },
   {
    "duration": 158,
    "start_time": "2022-05-29T11:54:29.459Z"
   },
   {
    "duration": 33,
    "start_time": "2022-05-29T12:00:48.634Z"
   },
   {
    "duration": 90,
    "start_time": "2022-05-29T12:09:15.472Z"
   },
   {
    "duration": 4,
    "start_time": "2022-05-29T12:28:32.500Z"
   },
   {
    "duration": 15,
    "start_time": "2022-05-29T12:31:18.943Z"
   },
   {
    "duration": 7,
    "start_time": "2022-05-29T12:33:02.002Z"
   },
   {
    "duration": 18,
    "start_time": "2022-05-29T12:34:14.050Z"
   },
   {
    "duration": 14,
    "start_time": "2022-05-29T12:34:39.022Z"
   },
   {
    "duration": 16,
    "start_time": "2022-05-29T12:35:20.733Z"
   },
   {
    "duration": 16,
    "start_time": "2022-05-29T12:35:21.739Z"
   },
   {
    "duration": 15,
    "start_time": "2022-05-29T12:35:59.810Z"
   },
   {
    "duration": 3,
    "start_time": "2022-05-29T12:36:18.497Z"
   },
   {
    "duration": 3,
    "start_time": "2022-05-29T12:37:04.948Z"
   },
   {
    "duration": 3,
    "start_time": "2022-05-29T12:37:05.219Z"
   },
   {
    "duration": 799,
    "start_time": "2022-05-29T12:37:05.372Z"
   },
   {
    "duration": 9,
    "start_time": "2022-05-29T12:37:06.172Z"
   },
   {
    "duration": 66,
    "start_time": "2022-05-29T12:37:06.183Z"
   },
   {
    "duration": 25,
    "start_time": "2022-05-29T12:37:06.251Z"
   },
   {
    "duration": 49,
    "start_time": "2022-05-29T12:37:06.278Z"
   },
   {
    "duration": 29,
    "start_time": "2022-05-29T12:37:06.330Z"
   },
   {
    "duration": 39,
    "start_time": "2022-05-29T12:37:06.675Z"
   },
   {
    "duration": 9,
    "start_time": "2022-05-29T12:37:06.810Z"
   },
   {
    "duration": 10,
    "start_time": "2022-05-29T12:37:07.318Z"
   },
   {
    "duration": 28,
    "start_time": "2022-05-29T12:37:07.513Z"
   },
   {
    "duration": 27,
    "start_time": "2022-05-29T12:37:07.669Z"
   },
   {
    "duration": 25,
    "start_time": "2022-05-29T12:37:08.155Z"
   },
   {
    "duration": 20,
    "start_time": "2022-05-29T12:37:08.324Z"
   },
   {
    "duration": 8,
    "start_time": "2022-05-29T12:37:08.513Z"
   },
   {
    "duration": 6,
    "start_time": "2022-05-29T12:37:08.708Z"
   },
   {
    "duration": 15,
    "start_time": "2022-05-29T12:37:08.848Z"
   },
   {
    "duration": 20,
    "start_time": "2022-05-29T12:37:09.043Z"
   },
   {
    "duration": 14,
    "start_time": "2022-05-29T12:37:09.213Z"
   },
   {
    "duration": 19,
    "start_time": "2022-05-29T12:37:09.401Z"
   },
   {
    "duration": 8,
    "start_time": "2022-05-29T12:37:09.601Z"
   },
   {
    "duration": 9,
    "start_time": "2022-05-29T12:37:09.755Z"
   },
   {
    "duration": 28,
    "start_time": "2022-05-29T12:37:10.107Z"
   },
   {
    "duration": 10,
    "start_time": "2022-05-29T12:37:10.442Z"
   },
   {
    "duration": 14,
    "start_time": "2022-05-29T12:37:10.645Z"
   },
   {
    "duration": 12,
    "start_time": "2022-05-29T12:37:10.809Z"
   },
   {
    "duration": 5,
    "start_time": "2022-05-29T12:37:11.324Z"
   },
   {
    "duration": 5,
    "start_time": "2022-05-29T12:37:11.501Z"
   },
   {
    "duration": 18,
    "start_time": "2022-05-29T12:37:11.674Z"
   },
   {
    "duration": 7,
    "start_time": "2022-05-29T12:37:11.853Z"
   },
   {
    "duration": 17,
    "start_time": "2022-05-29T12:37:12.413Z"
   },
   {
    "duration": 68,
    "start_time": "2022-05-29T12:37:12.805Z"
   },
   {
    "duration": 10,
    "start_time": "2022-05-29T12:37:13.366Z"
   },
   {
    "duration": 51,
    "start_time": "2022-05-29T12:37:13.541Z"
   },
   {
    "duration": 8,
    "start_time": "2022-05-29T12:37:13.743Z"
   },
   {
    "duration": 47,
    "start_time": "2022-05-29T12:37:14.319Z"
   },
   {
    "duration": 9,
    "start_time": "2022-05-29T12:37:14.513Z"
   },
   {
    "duration": 29,
    "start_time": "2022-05-29T12:37:14.713Z"
   },
   {
    "duration": 9,
    "start_time": "2022-05-29T12:37:14.905Z"
   },
   {
    "duration": 53,
    "start_time": "2022-05-29T12:37:15.296Z"
   },
   {
    "duration": 9,
    "start_time": "2022-05-29T12:37:15.662Z"
   },
   {
    "duration": 42,
    "start_time": "2022-05-29T12:37:15.861Z"
   },
   {
    "duration": 7,
    "start_time": "2022-05-29T12:37:16.046Z"
   },
   {
    "duration": 9,
    "start_time": "2022-05-29T12:37:16.423Z"
   },
   {
    "duration": 9,
    "start_time": "2022-05-29T12:37:16.805Z"
   },
   {
    "duration": 16,
    "start_time": "2022-05-29T12:37:17.009Z"
   },
   {
    "duration": 20,
    "start_time": "2022-05-29T12:37:17.209Z"
   },
   {
    "duration": 10,
    "start_time": "2022-05-29T12:37:17.356Z"
   },
   {
    "duration": 10,
    "start_time": "2022-05-29T12:37:17.560Z"
   },
   {
    "duration": 6,
    "start_time": "2022-05-29T12:37:17.914Z"
   },
   {
    "duration": 4,
    "start_time": "2022-05-29T12:37:18.059Z"
   },
   {
    "duration": 3,
    "start_time": "2022-05-29T12:37:18.622Z"
   },
   {
    "duration": 21,
    "start_time": "2022-05-29T12:37:18.829Z"
   },
   {
    "duration": 8,
    "start_time": "2022-05-29T12:37:19.841Z"
   },
   {
    "duration": 6,
    "start_time": "2022-05-29T12:37:20.069Z"
   },
   {
    "duration": 8,
    "start_time": "2022-05-29T12:37:20.508Z"
   },
   {
    "duration": 11,
    "start_time": "2022-05-29T12:37:20.709Z"
   },
   {
    "duration": 8,
    "start_time": "2022-05-29T12:37:21.063Z"
   },
   {
    "duration": 5,
    "start_time": "2022-05-29T12:37:21.266Z"
   },
   {
    "duration": 17,
    "start_time": "2022-05-29T12:37:21.428Z"
   },
   {
    "duration": 145,
    "start_time": "2022-05-29T12:37:21.805Z"
   },
   {
    "duration": 5,
    "start_time": "2022-05-29T12:37:22.155Z"
   },
   {
    "duration": 25,
    "start_time": "2022-05-29T12:37:22.527Z"
   },
   {
    "duration": 15,
    "start_time": "2022-05-29T12:37:23.249Z"
   },
   {
    "duration": 136,
    "start_time": "2022-05-29T12:37:23.618Z"
   },
   {
    "duration": 161,
    "start_time": "2022-05-29T12:37:24.004Z"
   },
   {
    "duration": 10,
    "start_time": "2022-05-29T12:37:24.167Z"
   },
   {
    "duration": 10,
    "start_time": "2022-05-29T12:37:24.726Z"
   },
   {
    "duration": 175,
    "start_time": "2022-05-29T12:37:24.973Z"
   },
   {
    "duration": 167,
    "start_time": "2022-05-29T12:37:25.152Z"
   },
   {
    "duration": 11,
    "start_time": "2022-05-29T12:37:25.747Z"
   },
   {
    "duration": 154,
    "start_time": "2022-05-29T12:37:26.041Z"
   },
   {
    "duration": 155,
    "start_time": "2022-05-29T12:37:26.249Z"
   },
   {
    "duration": 11,
    "start_time": "2022-05-29T12:37:26.905Z"
   },
   {
    "duration": 137,
    "start_time": "2022-05-29T12:37:27.010Z"
   },
   {
    "duration": 157,
    "start_time": "2022-05-29T12:37:27.213Z"
   },
   {
    "duration": 5,
    "start_time": "2022-05-29T12:37:28.429Z"
   },
   {
    "duration": 15,
    "start_time": "2022-05-29T12:37:28.853Z"
   },
   {
    "duration": 6,
    "start_time": "2022-05-29T12:37:29.545Z"
   },
   {
    "duration": 15,
    "start_time": "2022-05-29T12:37:29.841Z"
   },
   {
    "duration": 17,
    "start_time": "2022-05-29T12:37:30.410Z"
   },
   {
    "duration": 4,
    "start_time": "2022-05-29T12:37:30.941Z"
   },
   {
    "duration": 4,
    "start_time": "2022-05-29T12:38:15.622Z"
   },
   {
    "duration": 16,
    "start_time": "2022-05-29T12:38:16.446Z"
   },
   {
    "duration": 6,
    "start_time": "2022-05-29T12:38:16.604Z"
   },
   {
    "duration": 9,
    "start_time": "2022-05-29T12:38:17.151Z"
   },
   {
    "duration": 7,
    "start_time": "2022-05-29T12:38:17.813Z"
   },
   {
    "duration": 4,
    "start_time": "2022-05-29T12:38:58.367Z"
   },
   {
    "duration": 10,
    "start_time": "2022-05-29T12:44:34.541Z"
   },
   {
    "duration": 3,
    "start_time": "2022-05-29T12:45:09.502Z"
   },
   {
    "duration": 11,
    "start_time": "2022-05-29T12:45:10.025Z"
   },
   {
    "duration": 2,
    "start_time": "2022-05-29T12:45:46.242Z"
   },
   {
    "duration": 4,
    "start_time": "2022-05-29T12:45:46.898Z"
   },
   {
    "duration": 3,
    "start_time": "2022-05-29T12:45:47.411Z"
   },
   {
    "duration": 5,
    "start_time": "2022-05-29T12:50:10.545Z"
   },
   {
    "duration": 63,
    "start_time": "2022-05-29T12:51:20.314Z"
   },
   {
    "duration": 5,
    "start_time": "2022-05-29T12:51:53.621Z"
   },
   {
    "duration": 6,
    "start_time": "2022-05-29T12:53:13.627Z"
   },
   {
    "duration": 8,
    "start_time": "2022-05-29T12:54:28.361Z"
   },
   {
    "duration": 8,
    "start_time": "2022-05-29T12:55:38.201Z"
   },
   {
    "duration": 4,
    "start_time": "2022-05-29T12:56:23.030Z"
   },
   {
    "duration": 4,
    "start_time": "2022-05-29T12:56:49.030Z"
   },
   {
    "duration": 49,
    "start_time": "2022-05-29T17:28:16.232Z"
   },
   {
    "duration": 50,
    "start_time": "2022-05-29T17:35:54.861Z"
   },
   {
    "duration": 1859,
    "start_time": "2022-05-29T17:35:58.986Z"
   },
   {
    "duration": 3,
    "start_time": "2022-05-29T17:36:00.846Z"
   },
   {
    "duration": 422,
    "start_time": "2022-05-29T17:36:00.850Z"
   },
   {
    "duration": 13,
    "start_time": "2022-05-29T17:36:01.274Z"
   },
   {
    "duration": 30,
    "start_time": "2022-05-29T17:36:01.289Z"
   },
   {
    "duration": 24,
    "start_time": "2022-05-29T17:36:01.320Z"
   },
   {
    "duration": 20,
    "start_time": "2022-05-29T17:36:01.346Z"
   },
   {
    "duration": 9,
    "start_time": "2022-05-29T17:36:01.368Z"
   },
   {
    "duration": 30,
    "start_time": "2022-05-29T17:36:01.378Z"
   },
   {
    "duration": 7,
    "start_time": "2022-05-29T17:36:01.409Z"
   },
   {
    "duration": 24,
    "start_time": "2022-05-29T17:36:01.418Z"
   },
   {
    "duration": 22,
    "start_time": "2022-05-29T17:36:01.443Z"
   },
   {
    "duration": 20,
    "start_time": "2022-05-29T17:36:01.467Z"
   },
   {
    "duration": 24,
    "start_time": "2022-05-29T17:36:01.489Z"
   },
   {
    "duration": 38,
    "start_time": "2022-05-29T17:36:01.515Z"
   },
   {
    "duration": 18,
    "start_time": "2022-05-29T17:36:01.555Z"
   },
   {
    "duration": 9,
    "start_time": "2022-05-29T17:36:01.574Z"
   },
   {
    "duration": 24,
    "start_time": "2022-05-29T17:36:01.585Z"
   },
   {
    "duration": 26,
    "start_time": "2022-05-29T17:36:01.611Z"
   },
   {
    "duration": 17,
    "start_time": "2022-05-29T17:36:01.641Z"
   },
   {
    "duration": 35,
    "start_time": "2022-05-29T17:36:01.660Z"
   },
   {
    "duration": 6,
    "start_time": "2022-05-29T17:36:01.697Z"
   },
   {
    "duration": 29,
    "start_time": "2022-05-29T17:36:01.705Z"
   },
   {
    "duration": 36,
    "start_time": "2022-05-29T17:36:01.736Z"
   },
   {
    "duration": 19,
    "start_time": "2022-05-29T17:36:01.774Z"
   },
   {
    "duration": 20,
    "start_time": "2022-05-29T17:36:01.795Z"
   },
   {
    "duration": 33,
    "start_time": "2022-05-29T17:36:01.817Z"
   },
   {
    "duration": 13,
    "start_time": "2022-05-29T17:36:01.852Z"
   },
   {
    "duration": 10,
    "start_time": "2022-05-29T17:36:01.866Z"
   },
   {
    "duration": 16,
    "start_time": "2022-05-29T17:36:01.878Z"
   },
   {
    "duration": 27,
    "start_time": "2022-05-29T17:36:01.896Z"
   },
   {
    "duration": 33,
    "start_time": "2022-05-29T17:36:01.925Z"
   },
   {
    "duration": 61,
    "start_time": "2022-05-29T17:36:01.960Z"
   },
   {
    "duration": 19,
    "start_time": "2022-05-29T17:36:02.023Z"
   },
   {
    "duration": 37,
    "start_time": "2022-05-29T17:36:02.043Z"
   },
   {
    "duration": 6,
    "start_time": "2022-05-29T17:36:02.082Z"
   },
   {
    "duration": 55,
    "start_time": "2022-05-29T17:36:02.089Z"
   },
   {
    "duration": 10,
    "start_time": "2022-05-29T17:36:02.145Z"
   },
   {
    "duration": 45,
    "start_time": "2022-05-29T17:36:02.157Z"
   },
   {
    "duration": 7,
    "start_time": "2022-05-29T17:36:02.204Z"
   },
   {
    "duration": 53,
    "start_time": "2022-05-29T17:36:02.215Z"
   },
   {
    "duration": 10,
    "start_time": "2022-05-29T17:36:02.270Z"
   },
   {
    "duration": 33,
    "start_time": "2022-05-29T17:36:02.281Z"
   },
   {
    "duration": 6,
    "start_time": "2022-05-29T17:36:02.316Z"
   },
   {
    "duration": 24,
    "start_time": "2022-05-29T17:36:02.324Z"
   },
   {
    "duration": 23,
    "start_time": "2022-05-29T17:36:02.349Z"
   },
   {
    "duration": 25,
    "start_time": "2022-05-29T17:36:02.373Z"
   },
   {
    "duration": 16,
    "start_time": "2022-05-29T17:36:02.400Z"
   },
   {
    "duration": 9,
    "start_time": "2022-05-29T17:36:02.418Z"
   },
   {
    "duration": 13,
    "start_time": "2022-05-29T17:36:02.429Z"
   },
   {
    "duration": 6,
    "start_time": "2022-05-29T17:36:02.444Z"
   },
   {
    "duration": 13,
    "start_time": "2022-05-29T17:36:02.451Z"
   },
   {
    "duration": 12,
    "start_time": "2022-05-29T17:36:02.466Z"
   },
   {
    "duration": 41,
    "start_time": "2022-05-29T17:36:02.479Z"
   },
   {
    "duration": 7,
    "start_time": "2022-05-29T17:36:02.522Z"
   },
   {
    "duration": 32,
    "start_time": "2022-05-29T17:36:02.530Z"
   },
   {
    "duration": 17,
    "start_time": "2022-05-29T17:36:02.563Z"
   },
   {
    "duration": 28,
    "start_time": "2022-05-29T17:36:02.581Z"
   },
   {
    "duration": 7,
    "start_time": "2022-05-29T17:36:02.611Z"
   },
   {
    "duration": 21,
    "start_time": "2022-05-29T17:36:02.620Z"
   },
   {
    "duration": 24,
    "start_time": "2022-05-29T17:36:02.642Z"
   },
   {
    "duration": 125,
    "start_time": "2022-05-29T17:36:02.667Z"
   },
   {
    "duration": 5,
    "start_time": "2022-05-29T17:36:02.794Z"
   },
   {
    "duration": 18,
    "start_time": "2022-05-29T17:36:02.801Z"
   },
   {
    "duration": 24,
    "start_time": "2022-05-29T17:36:02.821Z"
   },
   {
    "duration": 147,
    "start_time": "2022-05-29T17:36:02.846Z"
   },
   {
    "duration": 204,
    "start_time": "2022-05-29T17:36:02.995Z"
   },
   {
    "duration": 53,
    "start_time": "2022-05-29T17:36:03.200Z"
   },
   {
    "duration": 10,
    "start_time": "2022-05-29T17:36:03.254Z"
   },
   {
    "duration": 153,
    "start_time": "2022-05-29T17:36:03.265Z"
   },
   {
    "duration": 139,
    "start_time": "2022-05-29T17:36:03.420Z"
   },
   {
    "duration": 10,
    "start_time": "2022-05-29T17:36:03.561Z"
   },
   {
    "duration": 145,
    "start_time": "2022-05-29T17:36:03.573Z"
   },
   {
    "duration": 140,
    "start_time": "2022-05-29T17:36:03.720Z"
   },
   {
    "duration": 233,
    "start_time": "2022-05-29T17:36:03.862Z"
   },
   {
    "duration": 10,
    "start_time": "2022-05-29T17:36:04.096Z"
   },
   {
    "duration": 140,
    "start_time": "2022-05-29T17:36:04.107Z"
   },
   {
    "duration": 144,
    "start_time": "2022-05-29T17:36:04.248Z"
   },
   {
    "duration": 4,
    "start_time": "2022-05-29T17:36:04.394Z"
   },
   {
    "duration": 19,
    "start_time": "2022-05-29T17:36:04.399Z"
   },
   {
    "duration": 7,
    "start_time": "2022-05-29T17:36:04.419Z"
   },
   {
    "duration": 18,
    "start_time": "2022-05-29T17:36:04.428Z"
   },
   {
    "duration": 6,
    "start_time": "2022-05-29T17:36:04.447Z"
   },
   {
    "duration": 3,
    "start_time": "2022-05-29T17:36:04.455Z"
   },
   {
    "duration": 10,
    "start_time": "2022-05-29T17:36:04.459Z"
   },
   {
    "duration": 10,
    "start_time": "2022-05-29T17:36:04.471Z"
   },
   {
    "duration": 10,
    "start_time": "2022-05-29T17:36:04.482Z"
   },
   {
    "duration": 11,
    "start_time": "2022-05-29T17:36:04.493Z"
   },
   {
    "duration": 19,
    "start_time": "2022-05-29T17:36:04.506Z"
   },
   {
    "duration": 13,
    "start_time": "2022-05-29T17:36:04.526Z"
   },
   {
    "duration": 11,
    "start_time": "2022-05-29T17:36:04.540Z"
   },
   {
    "duration": 4,
    "start_time": "2022-05-29T17:36:04.552Z"
   },
   {
    "duration": 14,
    "start_time": "2022-05-29T17:36:04.557Z"
   },
   {
    "duration": 112,
    "start_time": "2022-05-29T17:40:37.065Z"
   },
   {
    "duration": 38,
    "start_time": "2022-05-29T17:45:09.748Z"
   },
   {
    "duration": 69,
    "start_time": "2022-05-29T17:56:07.919Z"
   },
   {
    "duration": 6,
    "start_time": "2022-05-29T17:56:53.895Z"
   },
   {
    "duration": 5,
    "start_time": "2022-05-29T17:57:31.446Z"
   },
   {
    "duration": 1532,
    "start_time": "2022-05-29T17:57:36.805Z"
   },
   {
    "duration": 3,
    "start_time": "2022-05-29T17:57:38.339Z"
   },
   {
    "duration": 1094,
    "start_time": "2022-05-29T17:57:38.343Z"
   },
   {
    "duration": 12,
    "start_time": "2022-05-29T17:57:39.440Z"
   },
   {
    "duration": 38,
    "start_time": "2022-05-29T17:57:39.454Z"
   },
   {
    "duration": 25,
    "start_time": "2022-05-29T17:57:40.889Z"
   },
   {
    "duration": 21,
    "start_time": "2022-05-29T17:57:41.275Z"
   },
   {
    "duration": 5,
    "start_time": "2022-05-29T17:57:41.440Z"
   },
   {
    "duration": 29,
    "start_time": "2022-05-29T17:57:41.818Z"
   },
   {
    "duration": 7,
    "start_time": "2022-05-29T17:57:41.995Z"
   },
   {
    "duration": 10,
    "start_time": "2022-05-29T17:57:42.355Z"
   },
   {
    "duration": 27,
    "start_time": "2022-05-29T17:57:42.543Z"
   },
   {
    "duration": 33,
    "start_time": "2022-05-29T17:57:42.756Z"
   },
   {
    "duration": 23,
    "start_time": "2022-05-29T17:57:43.824Z"
   },
   {
    "duration": 16,
    "start_time": "2022-05-29T17:57:44.025Z"
   },
   {
    "duration": 7,
    "start_time": "2022-05-29T17:57:44.216Z"
   },
   {
    "duration": 9,
    "start_time": "2022-05-29T17:57:44.455Z"
   },
   {
    "duration": 15,
    "start_time": "2022-05-29T17:57:45.207Z"
   },
   {
    "duration": 17,
    "start_time": "2022-05-29T17:57:45.405Z"
   },
   {
    "duration": 24,
    "start_time": "2022-05-29T17:57:45.672Z"
   },
   {
    "duration": 33,
    "start_time": "2022-05-29T17:57:46.245Z"
   },
   {
    "duration": 7,
    "start_time": "2022-05-29T17:57:46.473Z"
   },
   {
    "duration": 11,
    "start_time": "2022-05-29T17:57:46.955Z"
   },
   {
    "duration": 29,
    "start_time": "2022-05-29T17:57:47.198Z"
   },
   {
    "duration": 14,
    "start_time": "2022-05-29T17:57:48.273Z"
   },
   {
    "duration": 21,
    "start_time": "2022-05-29T17:57:48.555Z"
   },
   {
    "duration": 12,
    "start_time": "2022-05-29T17:57:48.782Z"
   },
   {
    "duration": 5,
    "start_time": "2022-05-29T17:57:50.911Z"
   },
   {
    "duration": 5,
    "start_time": "2022-05-29T17:57:51.181Z"
   },
   {
    "duration": 15,
    "start_time": "2022-05-29T17:57:51.454Z"
   },
   {
    "duration": 8,
    "start_time": "2022-05-29T17:57:51.906Z"
   },
   {
    "duration": 10,
    "start_time": "2022-05-29T17:57:53.085Z"
   },
   {
    "duration": 67,
    "start_time": "2022-05-29T17:58:46.744Z"
   },
   {
    "duration": 8,
    "start_time": "2022-05-29T17:59:12.596Z"
   },
   {
    "duration": 10,
    "start_time": "2022-05-29T17:59:24.853Z"
   },
   {
    "duration": 12,
    "start_time": "2022-05-29T17:59:36.520Z"
   },
   {
    "duration": 9,
    "start_time": "2022-05-29T17:59:52.295Z"
   },
   {
    "duration": 10,
    "start_time": "2022-05-29T17:59:58.508Z"
   },
   {
    "duration": 10,
    "start_time": "2022-05-29T18:00:29.504Z"
   },
   {
    "duration": 11,
    "start_time": "2022-05-29T18:00:34.925Z"
   },
   {
    "duration": 37,
    "start_time": "2022-05-29T18:04:37.370Z"
   },
   {
    "duration": 9,
    "start_time": "2022-05-29T18:08:05.224Z"
   },
   {
    "duration": 13,
    "start_time": "2022-05-29T18:08:12.924Z"
   },
   {
    "duration": 28,
    "start_time": "2022-05-29T18:08:40.571Z"
   },
   {
    "duration": 35,
    "start_time": "2022-05-29T18:08:46.340Z"
   },
   {
    "duration": 12,
    "start_time": "2022-05-29T18:09:09.745Z"
   },
   {
    "duration": 27,
    "start_time": "2022-05-29T18:09:40.607Z"
   },
   {
    "duration": 2,
    "start_time": "2022-05-29T18:10:11.524Z"
   },
   {
    "duration": 3,
    "start_time": "2022-05-29T18:10:11.905Z"
   },
   {
    "duration": 455,
    "start_time": "2022-05-29T18:10:12.091Z"
   },
   {
    "duration": 8,
    "start_time": "2022-05-29T18:10:12.548Z"
   },
   {
    "duration": 31,
    "start_time": "2022-05-29T18:10:12.591Z"
   },
   {
    "duration": 29,
    "start_time": "2022-05-29T18:10:12.976Z"
   },
   {
    "duration": 24,
    "start_time": "2022-05-29T18:10:13.340Z"
   },
   {
    "duration": 6,
    "start_time": "2022-05-29T18:10:13.537Z"
   },
   {
    "duration": 37,
    "start_time": "2022-05-29T18:10:13.923Z"
   },
   {
    "duration": 7,
    "start_time": "2022-05-29T18:10:14.100Z"
   },
   {
    "duration": 9,
    "start_time": "2022-05-29T18:10:14.553Z"
   },
   {
    "duration": 38,
    "start_time": "2022-05-29T18:10:14.755Z"
   },
   {
    "duration": 25,
    "start_time": "2022-05-29T18:10:14.975Z"
   },
   {
    "duration": 36,
    "start_time": "2022-05-29T18:10:15.921Z"
   },
   {
    "duration": 29,
    "start_time": "2022-05-29T18:10:16.289Z"
   },
   {
    "duration": 10,
    "start_time": "2022-05-29T18:10:16.393Z"
   },
   {
    "duration": 9,
    "start_time": "2022-05-29T18:10:16.641Z"
   },
   {
    "duration": 15,
    "start_time": "2022-05-29T18:10:16.878Z"
   },
   {
    "duration": 23,
    "start_time": "2022-05-29T18:10:17.127Z"
   },
   {
    "duration": 20,
    "start_time": "2022-05-29T18:10:17.376Z"
   },
   {
    "duration": 18,
    "start_time": "2022-05-29T18:10:17.591Z"
   },
   {
    "duration": 7,
    "start_time": "2022-05-29T18:10:17.847Z"
   },
   {
    "duration": 8,
    "start_time": "2022-05-29T18:10:18.044Z"
   },
   {
    "duration": 27,
    "start_time": "2022-05-29T18:10:18.278Z"
   },
   {
    "duration": 13,
    "start_time": "2022-05-29T18:10:18.740Z"
   },
   {
    "duration": 18,
    "start_time": "2022-05-29T18:10:18.964Z"
   },
   {
    "duration": 13,
    "start_time": "2022-05-29T18:10:19.188Z"
   },
   {
    "duration": 6,
    "start_time": "2022-05-29T18:10:19.653Z"
   },
   {
    "duration": 4,
    "start_time": "2022-05-29T18:10:19.873Z"
   },
   {
    "duration": 16,
    "start_time": "2022-05-29T18:10:20.257Z"
   },
   {
    "duration": 8,
    "start_time": "2022-05-29T18:10:20.376Z"
   },
   {
    "duration": 7,
    "start_time": "2022-05-29T18:10:21.621Z"
   },
   {
    "duration": 29,
    "start_time": "2022-05-29T18:10:21.893Z"
   },
   {
    "duration": 15,
    "start_time": "2022-05-29T18:10:30.697Z"
   },
   {
    "duration": 215,
    "start_time": "2022-05-29T18:39:06.073Z"
   },
   {
    "duration": 59,
    "start_time": "2022-05-30T19:14:24.649Z"
   },
   {
    "duration": 8,
    "start_time": "2022-05-30T19:42:39.539Z"
   },
   {
    "duration": 1613,
    "start_time": "2022-05-30T19:44:02.620Z"
   },
   {
    "duration": 9,
    "start_time": "2022-05-30T19:44:04.235Z"
   },
   {
    "duration": 1007,
    "start_time": "2022-05-30T19:44:04.246Z"
   },
   {
    "duration": 14,
    "start_time": "2022-05-30T19:44:05.255Z"
   },
   {
    "duration": 48,
    "start_time": "2022-05-30T19:44:05.270Z"
   },
   {
    "duration": 30,
    "start_time": "2022-05-30T19:44:05.320Z"
   },
   {
    "duration": 23,
    "start_time": "2022-05-30T19:44:05.352Z"
   },
   {
    "duration": 8,
    "start_time": "2022-05-30T19:44:05.377Z"
   },
   {
    "duration": 35,
    "start_time": "2022-05-30T19:44:05.386Z"
   },
   {
    "duration": 23,
    "start_time": "2022-05-30T19:44:05.423Z"
   },
   {
    "duration": 10,
    "start_time": "2022-05-30T19:44:05.448Z"
   },
   {
    "duration": 37,
    "start_time": "2022-05-30T19:44:05.480Z"
   },
   {
    "duration": 23,
    "start_time": "2022-05-30T19:44:05.652Z"
   },
   {
    "duration": 27,
    "start_time": "2022-05-30T19:44:06.979Z"
   },
   {
    "duration": 24,
    "start_time": "2022-05-30T19:44:07.460Z"
   },
   {
    "duration": 10,
    "start_time": "2022-05-30T19:44:07.686Z"
   },
   {
    "duration": 11,
    "start_time": "2022-05-30T19:44:07.896Z"
   },
   {
    "duration": 14,
    "start_time": "2022-05-30T19:44:08.233Z"
   },
   {
    "duration": 19,
    "start_time": "2022-05-30T19:44:08.454Z"
   },
   {
    "duration": 18,
    "start_time": "2022-05-30T19:44:08.695Z"
   },
   {
    "duration": 20,
    "start_time": "2022-05-30T19:44:08.937Z"
   },
   {
    "duration": 9,
    "start_time": "2022-05-30T19:44:09.161Z"
   },
   {
    "duration": 10,
    "start_time": "2022-05-30T19:44:09.388Z"
   },
   {
    "duration": 37,
    "start_time": "2022-05-30T19:44:09.675Z"
   },
   {
    "duration": 11,
    "start_time": "2022-05-30T19:44:10.176Z"
   },
   {
    "duration": 18,
    "start_time": "2022-05-30T19:44:10.400Z"
   },
   {
    "duration": 14,
    "start_time": "2022-05-30T19:44:10.644Z"
   },
   {
    "duration": 6,
    "start_time": "2022-05-30T19:44:11.334Z"
   },
   {
    "duration": 4,
    "start_time": "2022-05-30T19:44:11.568Z"
   },
   {
    "duration": 12,
    "start_time": "2022-05-30T19:44:11.826Z"
   },
   {
    "duration": 7,
    "start_time": "2022-05-30T19:44:12.032Z"
   },
   {
    "duration": 9,
    "start_time": "2022-05-30T19:44:12.742Z"
   },
   {
    "duration": 63,
    "start_time": "2022-05-30T19:44:13.024Z"
   },
   {
    "duration": 25,
    "start_time": "2022-05-30T19:45:06.068Z"
   },
   {
    "duration": 26,
    "start_time": "2022-05-30T19:45:32.263Z"
   },
   {
    "duration": 20,
    "start_time": "2022-05-30T19:45:53.216Z"
   },
   {
    "duration": 22,
    "start_time": "2022-05-30T19:45:58.632Z"
   },
   {
    "duration": 14,
    "start_time": "2022-05-30T19:46:03.573Z"
   },
   {
    "duration": 15,
    "start_time": "2022-05-30T19:46:26.521Z"
   },
   {
    "duration": 31,
    "start_time": "2022-05-30T19:47:02.228Z"
   },
   {
    "duration": 26,
    "start_time": "2022-05-30T19:47:06.420Z"
   },
   {
    "duration": 19,
    "start_time": "2022-05-30T19:47:39.947Z"
   },
   {
    "duration": 26,
    "start_time": "2022-05-30T19:47:44.204Z"
   },
   {
    "duration": 25,
    "start_time": "2022-05-30T19:48:27.899Z"
   },
   {
    "duration": 25,
    "start_time": "2022-05-30T19:48:42.128Z"
   },
   {
    "duration": 63,
    "start_time": "2022-05-30T19:48:54.394Z"
   },
   {
    "duration": 8,
    "start_time": "2022-05-30T19:48:55.531Z"
   },
   {
    "duration": 38,
    "start_time": "2022-05-30T19:48:56.039Z"
   },
   {
    "duration": 7,
    "start_time": "2022-05-30T19:48:56.735Z"
   },
   {
    "duration": 38,
    "start_time": "2022-05-30T19:49:06.296Z"
   },
   {
    "duration": 8,
    "start_time": "2022-05-30T19:49:08.778Z"
   },
   {
    "duration": 24,
    "start_time": "2022-05-30T19:49:18.255Z"
   },
   {
    "duration": 26,
    "start_time": "2022-05-30T19:49:45.078Z"
   },
   {
    "duration": 6,
    "start_time": "2022-05-30T19:49:45.903Z"
   },
   {
    "duration": 47,
    "start_time": "2022-05-30T19:49:47.649Z"
   },
   {
    "duration": 8,
    "start_time": "2022-05-30T19:49:48.579Z"
   },
   {
    "duration": 30,
    "start_time": "2022-05-30T19:49:49.647Z"
   },
   {
    "duration": 8,
    "start_time": "2022-05-30T19:49:57.742Z"
   },
   {
    "duration": 10,
    "start_time": "2022-05-30T19:50:00.054Z"
   },
   {
    "duration": 8,
    "start_time": "2022-05-30T19:50:00.808Z"
   },
   {
    "duration": 14,
    "start_time": "2022-05-30T19:50:01.601Z"
   },
   {
    "duration": 20,
    "start_time": "2022-05-30T19:50:02.819Z"
   },
   {
    "duration": 11,
    "start_time": "2022-05-30T19:50:03.160Z"
   },
   {
    "duration": 8,
    "start_time": "2022-05-30T19:50:03.469Z"
   },
   {
    "duration": 5,
    "start_time": "2022-05-30T19:50:03.991Z"
   },
   {
    "duration": 4,
    "start_time": "2022-05-30T19:50:04.371Z"
   },
   {
    "duration": 3,
    "start_time": "2022-05-30T19:50:06.018Z"
   },
   {
    "duration": 21,
    "start_time": "2022-05-30T19:50:06.376Z"
   },
   {
    "duration": 9,
    "start_time": "2022-05-30T19:50:11.824Z"
   },
   {
    "duration": 7,
    "start_time": "2022-05-30T19:50:12.664Z"
   },
   {
    "duration": 8,
    "start_time": "2022-05-30T19:50:14.019Z"
   },
   {
    "duration": 11,
    "start_time": "2022-05-30T19:50:14.481Z"
   },
   {
    "duration": 8,
    "start_time": "2022-05-30T19:50:14.831Z"
   },
   {
    "duration": 4,
    "start_time": "2022-05-30T19:50:15.793Z"
   },
   {
    "duration": 15,
    "start_time": "2022-05-30T19:50:17.204Z"
   },
   {
    "duration": 111,
    "start_time": "2022-05-30T19:50:30.150Z"
   },
   {
    "duration": 129,
    "start_time": "2022-05-30T19:50:34.225Z"
   },
   {
    "duration": 18,
    "start_time": "2022-05-30T19:50:37.334Z"
   },
   {
    "duration": 15,
    "start_time": "2022-05-30T19:50:40.558Z"
   },
   {
    "duration": 136,
    "start_time": "2022-05-30T19:50:43.768Z"
   },
   {
    "duration": 142,
    "start_time": "2022-05-30T19:50:45.556Z"
   },
   {
    "duration": 104,
    "start_time": "2022-05-30T19:50:45.949Z"
   },
   {
    "duration": 10,
    "start_time": "2022-05-30T19:50:47.348Z"
   },
   {
    "duration": 148,
    "start_time": "2022-05-30T19:50:55.241Z"
   },
   {
    "duration": 135,
    "start_time": "2022-05-30T19:50:56.229Z"
   },
   {
    "duration": 11,
    "start_time": "2022-05-30T19:51:06.102Z"
   },
   {
    "duration": 143,
    "start_time": "2022-05-30T19:51:06.440Z"
   },
   {
    "duration": 168,
    "start_time": "2022-05-30T19:51:06.758Z"
   },
   {
    "duration": 264,
    "start_time": "2022-05-30T19:51:07.836Z"
   },
   {
    "duration": 12,
    "start_time": "2022-05-30T19:51:10.127Z"
   },
   {
    "duration": 143,
    "start_time": "2022-05-30T19:51:10.882Z"
   },
   {
    "duration": 139,
    "start_time": "2022-05-30T19:51:18.711Z"
   },
   {
    "duration": 4,
    "start_time": "2022-05-30T19:51:22.626Z"
   },
   {
    "duration": 16,
    "start_time": "2022-05-30T19:51:24.391Z"
   },
   {
    "duration": 6,
    "start_time": "2022-05-30T19:51:24.889Z"
   },
   {
    "duration": 7,
    "start_time": "2022-05-30T19:51:25.353Z"
   },
   {
    "duration": 7,
    "start_time": "2022-05-30T19:51:25.834Z"
   },
   {
    "duration": 2,
    "start_time": "2022-05-30T19:51:26.624Z"
   },
   {
    "duration": 4,
    "start_time": "2022-05-30T19:51:27.880Z"
   },
   {
    "duration": 5,
    "start_time": "2022-05-30T19:51:30.147Z"
   },
   {
    "duration": 5,
    "start_time": "2022-05-30T19:51:34.232Z"
   },
   {
    "duration": 5,
    "start_time": "2022-05-30T19:51:35.054Z"
   },
   {
    "duration": 7,
    "start_time": "2022-05-30T19:51:35.445Z"
   },
   {
    "duration": 7,
    "start_time": "2022-05-30T19:51:35.902Z"
   },
   {
    "duration": 8,
    "start_time": "2022-05-30T19:51:36.403Z"
   },
   {
    "duration": 3,
    "start_time": "2022-05-30T19:51:36.703Z"
   },
   {
    "duration": 4,
    "start_time": "2022-05-30T19:51:36.887Z"
   },
   {
    "duration": 3,
    "start_time": "2022-05-30T20:10:03.035Z"
   },
   {
    "duration": 4,
    "start_time": "2022-05-30T20:10:12.241Z"
   },
   {
    "duration": 1115,
    "start_time": "2022-05-30T20:11:58.238Z"
   },
   {
    "duration": 4,
    "start_time": "2022-05-30T20:11:59.355Z"
   },
   {
    "duration": 451,
    "start_time": "2022-05-30T20:11:59.360Z"
   },
   {
    "duration": 11,
    "start_time": "2022-05-30T20:11:59.813Z"
   },
   {
    "duration": 30,
    "start_time": "2022-05-30T20:11:59.826Z"
   },
   {
    "duration": 24,
    "start_time": "2022-05-30T20:11:59.857Z"
   },
   {
    "duration": 21,
    "start_time": "2022-05-30T20:11:59.883Z"
   },
   {
    "duration": 5,
    "start_time": "2022-05-30T20:11:59.906Z"
   },
   {
    "duration": 46,
    "start_time": "2022-05-30T20:11:59.913Z"
   },
   {
    "duration": 7,
    "start_time": "2022-05-30T20:11:59.961Z"
   },
   {
    "duration": 9,
    "start_time": "2022-05-30T20:11:59.970Z"
   },
   {
    "duration": 25,
    "start_time": "2022-05-30T20:11:59.980Z"
   },
   {
    "duration": 42,
    "start_time": "2022-05-30T20:12:00.006Z"
   },
   {
    "duration": 25,
    "start_time": "2022-05-30T20:12:00.051Z"
   },
   {
    "duration": 19,
    "start_time": "2022-05-30T20:12:00.078Z"
   },
   {
    "duration": 21,
    "start_time": "2022-05-30T20:12:00.099Z"
   },
   {
    "duration": 25,
    "start_time": "2022-05-30T20:12:00.122Z"
   },
   {
    "duration": 17,
    "start_time": "2022-05-30T20:12:00.149Z"
   },
   {
    "duration": 18,
    "start_time": "2022-05-30T20:12:00.168Z"
   },
   {
    "duration": 15,
    "start_time": "2022-05-30T20:12:00.187Z"
   },
   {
    "duration": 42,
    "start_time": "2022-05-30T20:12:00.203Z"
   },
   {
    "duration": 8,
    "start_time": "2022-05-30T20:12:00.246Z"
   },
   {
    "duration": 33,
    "start_time": "2022-05-30T20:12:00.255Z"
   },
   {
    "duration": 44,
    "start_time": "2022-05-30T20:12:00.290Z"
   },
   {
    "duration": 9,
    "start_time": "2022-05-30T20:12:00.336Z"
   },
   {
    "duration": 23,
    "start_time": "2022-05-30T20:12:00.347Z"
   },
   {
    "duration": 16,
    "start_time": "2022-05-30T20:12:00.371Z"
   },
   {
    "duration": 21,
    "start_time": "2022-05-30T20:12:00.389Z"
   },
   {
    "duration": 32,
    "start_time": "2022-05-30T20:12:00.411Z"
   },
   {
    "duration": 22,
    "start_time": "2022-05-30T20:12:00.445Z"
   },
   {
    "duration": 22,
    "start_time": "2022-05-30T20:12:00.469Z"
   },
   {
    "duration": 25,
    "start_time": "2022-05-30T20:12:00.493Z"
   },
   {
    "duration": 48,
    "start_time": "2022-05-30T20:12:00.519Z"
   },
   {
    "duration": 76,
    "start_time": "2022-05-30T20:12:00.569Z"
   },
   {
    "duration": 14,
    "start_time": "2022-05-30T20:12:00.647Z"
   },
   {
    "duration": 59,
    "start_time": "2022-05-30T20:12:00.663Z"
   },
   {
    "duration": 8,
    "start_time": "2022-05-30T20:12:00.723Z"
   },
   {
    "duration": 50,
    "start_time": "2022-05-30T20:12:00.733Z"
   },
   {
    "duration": 47,
    "start_time": "2022-05-30T20:12:00.785Z"
   },
   {
    "duration": 52,
    "start_time": "2022-05-30T20:12:00.834Z"
   },
   {
    "duration": 7,
    "start_time": "2022-05-30T20:12:00.890Z"
   },
   {
    "duration": 85,
    "start_time": "2022-05-30T20:12:00.899Z"
   },
   {
    "duration": 41,
    "start_time": "2022-05-30T20:12:00.986Z"
   },
   {
    "duration": 50,
    "start_time": "2022-05-30T20:12:01.029Z"
   },
   {
    "duration": 10,
    "start_time": "2022-05-30T20:12:01.081Z"
   },
   {
    "duration": 15,
    "start_time": "2022-05-30T20:12:01.093Z"
   },
   {
    "duration": 12,
    "start_time": "2022-05-30T20:12:01.109Z"
   },
   {
    "duration": 22,
    "start_time": "2022-05-30T20:12:01.123Z"
   },
   {
    "duration": 16,
    "start_time": "2022-05-30T20:12:01.146Z"
   },
   {
    "duration": 13,
    "start_time": "2022-05-30T20:12:01.164Z"
   },
   {
    "duration": 16,
    "start_time": "2022-05-30T20:12:01.179Z"
   },
   {
    "duration": 23,
    "start_time": "2022-05-30T20:12:01.196Z"
   },
   {
    "duration": 18,
    "start_time": "2022-05-30T20:12:01.221Z"
   },
   {
    "duration": 25,
    "start_time": "2022-05-30T20:12:01.241Z"
   },
   {
    "duration": 40,
    "start_time": "2022-05-30T20:12:01.267Z"
   },
   {
    "duration": 10,
    "start_time": "2022-05-30T20:12:01.313Z"
   },
   {
    "duration": 23,
    "start_time": "2022-05-30T20:12:01.325Z"
   },
   {
    "duration": 23,
    "start_time": "2022-05-30T20:12:01.350Z"
   },
   {
    "duration": 33,
    "start_time": "2022-05-30T20:12:01.374Z"
   },
   {
    "duration": 18,
    "start_time": "2022-05-30T20:12:01.408Z"
   },
   {
    "duration": 35,
    "start_time": "2022-05-30T20:12:01.428Z"
   },
   {
    "duration": 67,
    "start_time": "2022-05-30T20:12:01.465Z"
   },
   {
    "duration": 145,
    "start_time": "2022-05-30T20:12:01.534Z"
   },
   {
    "duration": 6,
    "start_time": "2022-05-30T20:12:01.680Z"
   },
   {
    "duration": 54,
    "start_time": "2022-05-30T20:12:01.688Z"
   },
   {
    "duration": 22,
    "start_time": "2022-05-30T20:12:01.744Z"
   },
   {
    "duration": 174,
    "start_time": "2022-05-30T20:12:01.769Z"
   },
   {
    "duration": 239,
    "start_time": "2022-05-30T20:12:01.945Z"
   },
   {
    "duration": 72,
    "start_time": "2022-05-30T20:12:02.186Z"
   },
   {
    "duration": 26,
    "start_time": "2022-05-30T20:12:02.261Z"
   },
   {
    "duration": 214,
    "start_time": "2022-05-30T20:12:02.289Z"
   },
   {
    "duration": 159,
    "start_time": "2022-05-30T20:12:02.505Z"
   },
   {
    "duration": 11,
    "start_time": "2022-05-30T20:12:02.666Z"
   },
   {
    "duration": 152,
    "start_time": "2022-05-30T20:12:02.679Z"
   },
   {
    "duration": 159,
    "start_time": "2022-05-30T20:12:02.832Z"
   },
   {
    "duration": 236,
    "start_time": "2022-05-30T20:12:02.993Z"
   },
   {
    "duration": 18,
    "start_time": "2022-05-30T20:12:03.230Z"
   },
   {
    "duration": 154,
    "start_time": "2022-05-30T20:12:03.249Z"
   },
   {
    "duration": 165,
    "start_time": "2022-05-30T20:12:03.405Z"
   },
   {
    "duration": 5,
    "start_time": "2022-05-30T20:12:03.572Z"
   },
   {
    "duration": 36,
    "start_time": "2022-05-30T20:12:03.578Z"
   },
   {
    "duration": 29,
    "start_time": "2022-05-30T20:12:03.616Z"
   },
   {
    "duration": 25,
    "start_time": "2022-05-30T20:12:03.647Z"
   },
   {
    "duration": 23,
    "start_time": "2022-05-30T20:12:03.674Z"
   },
   {
    "duration": 22,
    "start_time": "2022-05-30T20:12:03.698Z"
   },
   {
    "duration": 34,
    "start_time": "2022-05-30T20:12:03.722Z"
   },
   {
    "duration": 50,
    "start_time": "2022-05-30T20:12:03.758Z"
   },
   {
    "duration": 32,
    "start_time": "2022-05-30T20:12:03.810Z"
   },
   {
    "duration": 29,
    "start_time": "2022-05-30T20:12:03.844Z"
   },
   {
    "duration": 48,
    "start_time": "2022-05-30T20:12:03.875Z"
   },
   {
    "duration": 52,
    "start_time": "2022-05-30T20:12:03.925Z"
   },
   {
    "duration": 33,
    "start_time": "2022-05-30T20:12:03.978Z"
   },
   {
    "duration": 31,
    "start_time": "2022-05-30T20:12:04.012Z"
   },
   {
    "duration": 36,
    "start_time": "2022-05-30T20:12:04.044Z"
   },
   {
    "duration": 23,
    "start_time": "2022-05-30T20:12:04.082Z"
   },
   {
    "duration": 3,
    "start_time": "2022-05-30T20:16:30.538Z"
   },
   {
    "duration": 2,
    "start_time": "2022-05-30T20:18:03.378Z"
   },
   {
    "duration": 4,
    "start_time": "2022-05-30T20:18:03.985Z"
   },
   {
    "duration": 4,
    "start_time": "2022-05-30T20:18:04.730Z"
   },
   {
    "duration": 1260,
    "start_time": "2022-05-30T20:51:22.221Z"
   },
   {
    "duration": 3,
    "start_time": "2022-05-30T20:51:23.484Z"
   },
   {
    "duration": 478,
    "start_time": "2022-05-30T20:51:23.489Z"
   },
   {
    "duration": 15,
    "start_time": "2022-05-30T20:51:23.970Z"
   },
   {
    "duration": 40,
    "start_time": "2022-05-30T20:51:23.987Z"
   },
   {
    "duration": 44,
    "start_time": "2022-05-30T20:51:24.029Z"
   },
   {
    "duration": 23,
    "start_time": "2022-05-30T20:51:24.075Z"
   },
   {
    "duration": 10,
    "start_time": "2022-05-30T20:51:24.100Z"
   },
   {
    "duration": 53,
    "start_time": "2022-05-30T20:51:24.111Z"
   },
   {
    "duration": 9,
    "start_time": "2022-05-30T20:51:24.168Z"
   },
   {
    "duration": 10,
    "start_time": "2022-05-30T20:51:24.179Z"
   },
   {
    "duration": 31,
    "start_time": "2022-05-30T20:51:24.191Z"
   },
   {
    "duration": 49,
    "start_time": "2022-05-30T20:51:24.224Z"
   },
   {
    "duration": 32,
    "start_time": "2022-05-30T20:51:24.275Z"
   },
   {
    "duration": 46,
    "start_time": "2022-05-30T20:51:24.309Z"
   },
   {
    "duration": 9,
    "start_time": "2022-05-30T20:51:24.362Z"
   },
   {
    "duration": 11,
    "start_time": "2022-05-30T20:51:24.373Z"
   },
   {
    "duration": 22,
    "start_time": "2022-05-30T20:51:24.386Z"
   },
   {
    "duration": 20,
    "start_time": "2022-05-30T20:51:24.410Z"
   },
   {
    "duration": 33,
    "start_time": "2022-05-30T20:51:24.432Z"
   },
   {
    "duration": 21,
    "start_time": "2022-05-30T20:51:24.467Z"
   },
   {
    "duration": 7,
    "start_time": "2022-05-30T20:51:24.490Z"
   },
   {
    "duration": 11,
    "start_time": "2022-05-30T20:51:24.499Z"
   },
   {
    "duration": 59,
    "start_time": "2022-05-30T20:51:24.512Z"
   },
   {
    "duration": 11,
    "start_time": "2022-05-30T20:51:24.573Z"
   },
   {
    "duration": 15,
    "start_time": "2022-05-30T20:51:24.586Z"
   },
   {
    "duration": 16,
    "start_time": "2022-05-30T20:51:24.603Z"
   },
   {
    "duration": 30,
    "start_time": "2022-05-30T20:51:24.624Z"
   },
   {
    "duration": 18,
    "start_time": "2022-05-30T20:51:24.655Z"
   },
   {
    "duration": 16,
    "start_time": "2022-05-30T20:51:24.675Z"
   },
   {
    "duration": 11,
    "start_time": "2022-05-30T20:51:24.693Z"
   },
   {
    "duration": 8,
    "start_time": "2022-05-30T20:51:24.706Z"
   },
   {
    "duration": 47,
    "start_time": "2022-05-30T20:51:24.716Z"
   },
   {
    "duration": 66,
    "start_time": "2022-05-30T20:51:24.766Z"
   },
   {
    "duration": 24,
    "start_time": "2022-05-30T20:51:24.833Z"
   },
   {
    "duration": 53,
    "start_time": "2022-05-30T20:51:24.858Z"
   },
   {
    "duration": 9,
    "start_time": "2022-05-30T20:51:24.913Z"
   },
   {
    "duration": 64,
    "start_time": "2022-05-30T20:51:24.924Z"
   },
   {
    "duration": 10,
    "start_time": "2022-05-30T20:51:24.990Z"
   },
   {
    "duration": 52,
    "start_time": "2022-05-30T20:51:25.001Z"
   },
   {
    "duration": 8,
    "start_time": "2022-05-30T20:51:25.059Z"
   },
   {
    "duration": 54,
    "start_time": "2022-05-30T20:51:25.068Z"
   },
   {
    "duration": 10,
    "start_time": "2022-05-30T20:51:25.123Z"
   },
   {
    "duration": 36,
    "start_time": "2022-05-30T20:51:25.144Z"
   },
   {
    "duration": 7,
    "start_time": "2022-05-30T20:51:25.182Z"
   },
   {
    "duration": 10,
    "start_time": "2022-05-30T20:51:25.191Z"
   },
   {
    "duration": 13,
    "start_time": "2022-05-30T20:51:25.202Z"
   },
   {
    "duration": 42,
    "start_time": "2022-05-30T20:51:25.217Z"
   },
   {
    "duration": 19,
    "start_time": "2022-05-30T20:51:25.262Z"
   },
   {
    "duration": 8,
    "start_time": "2022-05-30T20:51:25.283Z"
   },
   {
    "duration": 15,
    "start_time": "2022-05-30T20:51:25.293Z"
   },
   {
    "duration": 37,
    "start_time": "2022-05-30T20:51:25.310Z"
   },
   {
    "duration": 30,
    "start_time": "2022-05-30T20:51:25.351Z"
   },
   {
    "duration": 5,
    "start_time": "2022-05-30T20:51:25.384Z"
   },
   {
    "duration": 28,
    "start_time": "2022-05-30T20:51:25.391Z"
   },
   {
    "duration": 8,
    "start_time": "2022-05-30T20:51:25.421Z"
   },
   {
    "duration": 5,
    "start_time": "2022-05-30T20:51:25.431Z"
   },
   {
    "duration": 36,
    "start_time": "2022-05-30T20:51:25.438Z"
   },
   {
    "duration": 12,
    "start_time": "2022-05-30T20:51:25.476Z"
   },
   {
    "duration": 8,
    "start_time": "2022-05-30T20:51:25.490Z"
   },
   {
    "duration": 6,
    "start_time": "2022-05-30T20:51:25.500Z"
   },
   {
    "duration": 17,
    "start_time": "2022-05-30T20:51:25.507Z"
   },
   {
    "duration": 133,
    "start_time": "2022-05-30T20:51:25.525Z"
   },
   {
    "duration": 8,
    "start_time": "2022-05-30T20:51:25.659Z"
   },
   {
    "duration": 27,
    "start_time": "2022-05-30T20:51:25.668Z"
   },
   {
    "duration": 20,
    "start_time": "2022-05-30T20:51:25.698Z"
   },
   {
    "duration": 162,
    "start_time": "2022-05-30T20:51:25.720Z"
   },
   {
    "duration": 230,
    "start_time": "2022-05-30T20:51:25.883Z"
   },
   {
    "duration": 65,
    "start_time": "2022-05-30T20:51:26.116Z"
   },
   {
    "duration": 10,
    "start_time": "2022-05-30T20:51:26.183Z"
   },
   {
    "duration": 172,
    "start_time": "2022-05-30T20:51:26.196Z"
   },
   {
    "duration": 162,
    "start_time": "2022-05-30T20:51:26.370Z"
   },
   {
    "duration": 16,
    "start_time": "2022-05-30T20:51:26.534Z"
   },
   {
    "duration": 159,
    "start_time": "2022-05-30T20:51:26.551Z"
   },
   {
    "duration": 166,
    "start_time": "2022-05-30T20:51:26.712Z"
   },
   {
    "duration": 286,
    "start_time": "2022-05-30T20:51:26.880Z"
   },
   {
    "duration": 10,
    "start_time": "2022-05-30T20:51:27.168Z"
   },
   {
    "duration": 158,
    "start_time": "2022-05-30T20:51:27.180Z"
   },
   {
    "duration": 165,
    "start_time": "2022-05-30T20:51:27.340Z"
   },
   {
    "duration": 5,
    "start_time": "2022-05-30T20:51:27.507Z"
   },
   {
    "duration": 35,
    "start_time": "2022-05-30T20:51:27.514Z"
   },
   {
    "duration": 17,
    "start_time": "2022-05-30T20:51:27.557Z"
   },
   {
    "duration": 15,
    "start_time": "2022-05-30T20:51:27.575Z"
   },
   {
    "duration": 11,
    "start_time": "2022-05-30T20:51:27.592Z"
   },
   {
    "duration": 5,
    "start_time": "2022-05-30T20:51:27.605Z"
   },
   {
    "duration": 7,
    "start_time": "2022-05-30T20:51:27.611Z"
   },
   {
    "duration": 6,
    "start_time": "2022-05-30T20:51:27.620Z"
   },
   {
    "duration": 8,
    "start_time": "2022-05-30T20:51:27.628Z"
   },
   {
    "duration": 21,
    "start_time": "2022-05-30T20:51:27.639Z"
   },
   {
    "duration": 9,
    "start_time": "2022-05-30T20:51:27.662Z"
   },
   {
    "duration": 8,
    "start_time": "2022-05-30T20:51:27.672Z"
   },
   {
    "duration": 7,
    "start_time": "2022-05-30T20:51:27.681Z"
   },
   {
    "duration": 8,
    "start_time": "2022-05-30T20:51:27.690Z"
   },
   {
    "duration": 6,
    "start_time": "2022-05-30T20:51:27.699Z"
   },
   {
    "duration": 7,
    "start_time": "2022-05-30T20:51:27.706Z"
   },
   {
    "duration": 6,
    "start_time": "2022-05-30T20:51:27.714Z"
   },
   {
    "duration": 1133,
    "start_time": "2022-05-30T20:52:25.299Z"
   },
   {
    "duration": 3,
    "start_time": "2022-05-30T20:52:26.433Z"
   },
   {
    "duration": 489,
    "start_time": "2022-05-30T20:52:26.438Z"
   },
   {
    "duration": 12,
    "start_time": "2022-05-30T20:52:26.930Z"
   },
   {
    "duration": 51,
    "start_time": "2022-05-30T20:52:26.944Z"
   },
   {
    "duration": 26,
    "start_time": "2022-05-30T20:52:26.997Z"
   },
   {
    "duration": 40,
    "start_time": "2022-05-30T20:52:27.025Z"
   },
   {
    "duration": 19,
    "start_time": "2022-05-30T20:52:27.067Z"
   },
   {
    "duration": 33,
    "start_time": "2022-05-30T20:52:27.088Z"
   },
   {
    "duration": 9,
    "start_time": "2022-05-30T20:52:27.123Z"
   },
   {
    "duration": 35,
    "start_time": "2022-05-30T20:52:27.134Z"
   },
   {
    "duration": 37,
    "start_time": "2022-05-30T20:52:27.170Z"
   },
   {
    "duration": 20,
    "start_time": "2022-05-30T20:52:27.208Z"
   },
   {
    "duration": 30,
    "start_time": "2022-05-30T20:52:27.230Z"
   },
   {
    "duration": 24,
    "start_time": "2022-05-30T20:52:27.265Z"
   },
   {
    "duration": 13,
    "start_time": "2022-05-30T20:52:27.291Z"
   },
   {
    "duration": 32,
    "start_time": "2022-05-30T20:52:27.306Z"
   },
   {
    "duration": 20,
    "start_time": "2022-05-30T20:52:27.340Z"
   },
   {
    "duration": 46,
    "start_time": "2022-05-30T20:52:27.361Z"
   },
   {
    "duration": 25,
    "start_time": "2022-05-30T20:52:27.409Z"
   },
   {
    "duration": 41,
    "start_time": "2022-05-30T20:52:27.436Z"
   },
   {
    "duration": 14,
    "start_time": "2022-05-30T20:52:27.479Z"
   },
   {
    "duration": 12,
    "start_time": "2022-05-30T20:52:27.495Z"
   },
   {
    "duration": 49,
    "start_time": "2022-05-30T20:52:27.509Z"
   },
   {
    "duration": 12,
    "start_time": "2022-05-30T20:52:27.563Z"
   },
   {
    "duration": 20,
    "start_time": "2022-05-30T20:52:27.577Z"
   },
   {
    "duration": 11,
    "start_time": "2022-05-30T20:52:27.599Z"
   },
   {
    "duration": 5,
    "start_time": "2022-05-30T20:52:27.614Z"
   },
   {
    "duration": 9,
    "start_time": "2022-05-30T20:52:27.620Z"
   },
   {
    "duration": 27,
    "start_time": "2022-05-30T20:52:27.630Z"
   },
   {
    "duration": 17,
    "start_time": "2022-05-30T20:52:27.659Z"
   },
   {
    "duration": 8,
    "start_time": "2022-05-30T20:52:27.677Z"
   },
   {
    "duration": 31,
    "start_time": "2022-05-30T20:52:27.687Z"
   },
   {
    "duration": 80,
    "start_time": "2022-05-30T20:52:27.720Z"
   },
   {
    "duration": 9,
    "start_time": "2022-05-30T20:52:27.802Z"
   },
   {
    "duration": 72,
    "start_time": "2022-05-30T20:52:27.813Z"
   },
   {
    "duration": 9,
    "start_time": "2022-05-30T20:52:27.887Z"
   },
   {
    "duration": 72,
    "start_time": "2022-05-30T20:52:27.898Z"
   },
   {
    "duration": 9,
    "start_time": "2022-05-30T20:52:27.971Z"
   },
   {
    "duration": 37,
    "start_time": "2022-05-30T20:52:27.981Z"
   },
   {
    "duration": 7,
    "start_time": "2022-05-30T20:52:28.020Z"
   },
   {
    "duration": 65,
    "start_time": "2022-05-30T20:52:28.029Z"
   },
   {
    "duration": 9,
    "start_time": "2022-05-30T20:52:28.096Z"
   },
   {
    "duration": 54,
    "start_time": "2022-05-30T20:52:28.107Z"
   },
   {
    "duration": 8,
    "start_time": "2022-05-30T20:52:28.162Z"
   },
   {
    "duration": 17,
    "start_time": "2022-05-30T20:52:28.172Z"
   },
   {
    "duration": 8,
    "start_time": "2022-05-30T20:52:28.191Z"
   },
   {
    "duration": 24,
    "start_time": "2022-05-30T20:52:28.200Z"
   },
   {
    "duration": 21,
    "start_time": "2022-05-30T20:52:28.226Z"
   },
   {
    "duration": 10,
    "start_time": "2022-05-30T20:52:28.249Z"
   },
   {
    "duration": 7,
    "start_time": "2022-05-30T20:52:28.260Z"
   },
   {
    "duration": 10,
    "start_time": "2022-05-30T20:52:28.269Z"
   },
   {
    "duration": 9,
    "start_time": "2022-05-30T20:52:28.281Z"
   },
   {
    "duration": 8,
    "start_time": "2022-05-30T20:52:28.291Z"
   },
   {
    "duration": 37,
    "start_time": "2022-05-30T20:52:28.301Z"
   },
   {
    "duration": 18,
    "start_time": "2022-05-30T20:52:28.345Z"
   },
   {
    "duration": 13,
    "start_time": "2022-05-30T20:52:28.365Z"
   },
   {
    "duration": 22,
    "start_time": "2022-05-30T20:52:28.380Z"
   },
   {
    "duration": 14,
    "start_time": "2022-05-30T20:52:28.404Z"
   },
   {
    "duration": 8,
    "start_time": "2022-05-30T20:52:28.420Z"
   },
   {
    "duration": 6,
    "start_time": "2022-05-30T20:52:28.430Z"
   },
   {
    "duration": 23,
    "start_time": "2022-05-30T20:52:28.438Z"
   },
   {
    "duration": 132,
    "start_time": "2022-05-30T20:52:28.463Z"
   },
   {
    "duration": 4,
    "start_time": "2022-05-30T20:52:28.597Z"
   },
   {
    "duration": 18,
    "start_time": "2022-05-30T20:52:28.603Z"
   },
   {
    "duration": 33,
    "start_time": "2022-05-30T20:52:28.623Z"
   },
   {
    "duration": 137,
    "start_time": "2022-05-30T20:52:28.658Z"
   },
   {
    "duration": 222,
    "start_time": "2022-05-30T20:52:28.797Z"
   },
   {
    "duration": 59,
    "start_time": "2022-05-30T20:52:29.021Z"
   },
   {
    "duration": 10,
    "start_time": "2022-05-30T20:52:29.082Z"
   },
   {
    "duration": 173,
    "start_time": "2022-05-30T20:52:29.094Z"
   },
   {
    "duration": 163,
    "start_time": "2022-05-30T20:52:29.268Z"
   },
   {
    "duration": 19,
    "start_time": "2022-05-30T20:52:29.432Z"
   },
   {
    "duration": 156,
    "start_time": "2022-05-30T20:52:29.453Z"
   },
   {
    "duration": 165,
    "start_time": "2022-05-30T20:52:29.611Z"
   },
   {
    "duration": 277,
    "start_time": "2022-05-30T20:52:29.778Z"
   },
   {
    "duration": 11,
    "start_time": "2022-05-30T20:52:30.059Z"
   },
   {
    "duration": 143,
    "start_time": "2022-05-30T20:52:30.072Z"
   },
   {
    "duration": 157,
    "start_time": "2022-05-30T20:52:30.217Z"
   },
   {
    "duration": 4,
    "start_time": "2022-05-30T20:52:30.376Z"
   },
   {
    "duration": 34,
    "start_time": "2022-05-30T20:52:30.382Z"
   },
   {
    "duration": 25,
    "start_time": "2022-05-30T20:52:30.421Z"
   },
   {
    "duration": 39,
    "start_time": "2022-05-30T20:52:30.448Z"
   },
   {
    "duration": 37,
    "start_time": "2022-05-30T20:52:30.489Z"
   },
   {
    "duration": 8,
    "start_time": "2022-05-30T20:52:30.528Z"
   },
   {
    "duration": 28,
    "start_time": "2022-05-30T20:52:30.538Z"
   },
   {
    "duration": 39,
    "start_time": "2022-05-30T20:52:30.568Z"
   },
   {
    "duration": 21,
    "start_time": "2022-05-30T20:52:30.610Z"
   },
   {
    "duration": 54,
    "start_time": "2022-05-30T20:52:30.632Z"
   },
   {
    "duration": 26,
    "start_time": "2022-05-30T20:52:30.687Z"
   },
   {
    "duration": 30,
    "start_time": "2022-05-30T20:52:30.715Z"
   },
   {
    "duration": 27,
    "start_time": "2022-05-30T20:52:30.747Z"
   },
   {
    "duration": 26,
    "start_time": "2022-05-30T20:52:30.776Z"
   },
   {
    "duration": 409,
    "start_time": "2022-05-30T20:52:30.804Z"
   },
   {
    "duration": 16,
    "start_time": "2022-05-30T20:52:31.215Z"
   },
   {
    "duration": 22,
    "start_time": "2022-05-30T20:52:31.233Z"
   },
   {
    "duration": 64,
    "start_time": "2022-05-31T16:44:23.493Z"
   }
  ],
  "kernelspec": {
   "display_name": "Python 3 (ipykernel)",
   "language": "python",
   "name": "python3"
  },
  "language_info": {
   "codemirror_mode": {
    "name": "ipython",
    "version": 3
   },
   "file_extension": ".py",
   "mimetype": "text/x-python",
   "name": "python",
   "nbconvert_exporter": "python",
   "pygments_lexer": "ipython3",
   "version": "3.9.5"
  },
  "toc": {
   "base_numbering": 1,
   "nav_menu": {},
   "number_sections": true,
   "sideBar": true,
   "skip_h1_title": true,
   "title_cell": "Table of Contents",
   "title_sidebar": "Contents",
   "toc_cell": false,
   "toc_position": {},
   "toc_section_display": true,
   "toc_window_display": false
  }
 },
 "nbformat": 4,
 "nbformat_minor": 2
}
